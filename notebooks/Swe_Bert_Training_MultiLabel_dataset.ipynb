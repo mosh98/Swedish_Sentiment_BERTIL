{
  "nbformat": 4,
  "nbformat_minor": 0,
  "metadata": {
    "accelerator": "GPU",
    "colab": {
      "name": "Swe_Bert_Training_Bigger_dataset.ipynb",
      "provenance": [],
      "collapsed_sections": [],
      "mount_file_id": "1tipBJVXXslfrKE-DRi951mPkJVNAVLJ1",
      "authorship_tag": "ABX9TyNZaigg4g82LtiRr6DSJsz/",
      "include_colab_link": true
    },
    "kernelspec": {
      "display_name": "Python 3",
      "name": "python3"
    }
  },
  "cells": [
    {
      "cell_type": "markdown",
      "metadata": {
        "id": "view-in-github",
        "colab_type": "text"
      },
      "source": [
        "<a href=\"https://colab.research.google.com/github/mosh98/Swedish_Sentiment_BERTIL/blob/main/Swe_Bert_Training_MultiLabel_dataset.ipynb\" target=\"_parent\"><img src=\"https://colab.research.google.com/assets/colab-badge.svg\" alt=\"Open In Colab\"/></a>"
      ]
    },
    {
      "cell_type": "markdown",
      "metadata": {
        "id": "_TXDWWtOpNm3"
      },
      "source": [
        "#Sentiment Analyzer\n",
        "Using the latest Bert model released by National library of Sweden\n",
        "\n",
        "KB/BERT: https://github.com/Kungbib/swedish-bert-models\n",
        "\n",
        "\n",
        "Dataset from : https://github.com/stoffesvensson/DeepLearning-ThesisWork-Convolutional\n"
      ]
    },
    {
      "cell_type": "markdown",
      "metadata": {
        "id": "9npaXEMQo_pW"
      },
      "source": [
        "Make sure you use GPU\n",
        "Click on Runtime->Change Runtime Type -> Select GPU -> SAVE"
      ]
    },
    {
      "cell_type": "code",
      "metadata": {
        "colab": {
          "base_uri": "https://localhost:8080/"
        },
        "id": "JbzolTDdjxXf",
        "outputId": "2b9712a2-6edf-4641-c767-24942d9b8252"
      },
      "source": [
        "!nvidia-smi"
      ],
      "execution_count": 1,
      "outputs": [
        {
          "output_type": "stream",
          "text": [
            "Thu Dec 31 13:24:50 2020       \n",
            "+-----------------------------------------------------------------------------+\n",
            "| NVIDIA-SMI 460.27.04    Driver Version: 418.67       CUDA Version: 10.1     |\n",
            "|-------------------------------+----------------------+----------------------+\n",
            "| GPU  Name        Persistence-M| Bus-Id        Disp.A | Volatile Uncorr. ECC |\n",
            "| Fan  Temp  Perf  Pwr:Usage/Cap|         Memory-Usage | GPU-Util  Compute M. |\n",
            "|                               |                      |               MIG M. |\n",
            "|===============================+======================+======================|\n",
            "|   0  Tesla T4            Off  | 00000000:00:04.0 Off |                    0 |\n",
            "| N/A   53C    P8    10W /  70W |      0MiB / 15079MiB |      0%      Default |\n",
            "|                               |                      |                 ERR! |\n",
            "+-------------------------------+----------------------+----------------------+\n",
            "                                                                               \n",
            "+-----------------------------------------------------------------------------+\n",
            "| Processes:                                                                  |\n",
            "|  GPU   GI   CI        PID   Type   Process name                  GPU Memory |\n",
            "|        ID   ID                                                   Usage      |\n",
            "|=============================================================================|\n",
            "|  No running processes found                                                 |\n",
            "+-----------------------------------------------------------------------------+\n"
          ],
          "name": "stdout"
        }
      ]
    },
    {
      "cell_type": "markdown",
      "metadata": {
        "id": "_cOmAjOjpqPq"
      },
      "source": [
        "#Importing Relavant Packages and Files"
      ]
    },
    {
      "cell_type": "code",
      "metadata": {
        "id": "_uy8uB8vqlkX"
      },
      "source": [
        "import os\n",
        "import re\n",
        "from tqdm import tqdm\n",
        "import numpy as np\n",
        "import pandas as pd\n",
        "import matplotlib.pyplot as plt\n",
        "import seaborn as sns\n",
        "import torch\n",
        "import torch.nn as nn\n",
        "#from transformers import BertModel\n",
        "from collections import Counter"
      ],
      "execution_count": 2,
      "outputs": []
    },
    {
      "cell_type": "code",
      "metadata": {
        "colab": {
          "base_uri": "https://localhost:8080/"
        },
        "id": "NLddqcCiqohi",
        "outputId": "0a35fd41-242b-42bd-d61b-eb5bbe3e6e0b"
      },
      "source": [
        "import pandas as pd\n",
        "!git clone https://github.com/Kungbib/swedish-bert-models\n",
        "!cd swedish-bert-models\n",
        "!python3 -m venv venv\n",
        "!source venv/bin/activate\n",
        "!pip install --upgrade pip\n",
        "!pip install -r /content/swedish-bert-models/requirements.txt"
      ],
      "execution_count": 3,
      "outputs": [
        {
          "output_type": "stream",
          "text": [
            "fatal: destination path 'swedish-bert-models' already exists and is not an empty directory.\n",
            "The virtual environment was not created successfully because ensurepip is not\n",
            "available.  On Debian/Ubuntu systems, you need to install the python3-venv\n",
            "package using the following command.\n",
            "\n",
            "    apt-get install python3-venv\n",
            "\n",
            "You may need to use sudo with that command.  After installing the python3-venv\n",
            "package, recreate your virtual environment.\n",
            "\n",
            "Failing command: ['/content/venv/bin/python3', '-Im', 'ensurepip', '--upgrade', '--default-pip']\n",
            "\n",
            "/bin/bash: venv/bin/activate: No such file or directory\n",
            "Requirement already satisfied: pip in /usr/local/lib/python3.6/dist-packages (20.3.3)\n",
            "Requirement already satisfied: transformers>=2.4.1 in /usr/local/lib/python3.6/dist-packages (from -r /content/swedish-bert-models/requirements.txt (line 1)) (3.5.1)\n",
            "Requirement already satisfied: torch>=1.3.1 in /usr/local/lib/python3.6/dist-packages (from -r /content/swedish-bert-models/requirements.txt (line 2)) (1.7.0+cu101)\n",
            "Requirement already satisfied: typing-extensions in /usr/local/lib/python3.6/dist-packages (from torch>=1.3.1->-r /content/swedish-bert-models/requirements.txt (line 2)) (3.7.4.3)\n",
            "Requirement already satisfied: future in /usr/local/lib/python3.6/dist-packages (from torch>=1.3.1->-r /content/swedish-bert-models/requirements.txt (line 2)) (0.16.0)\n",
            "Requirement already satisfied: numpy in /usr/local/lib/python3.6/dist-packages (from torch>=1.3.1->-r /content/swedish-bert-models/requirements.txt (line 2)) (1.19.4)\n",
            "Requirement already satisfied: dataclasses in /usr/local/lib/python3.6/dist-packages (from torch>=1.3.1->-r /content/swedish-bert-models/requirements.txt (line 2)) (0.8)\n",
            "Requirement already satisfied: filelock in /usr/local/lib/python3.6/dist-packages (from transformers>=2.4.1->-r /content/swedish-bert-models/requirements.txt (line 1)) (3.0.12)\n",
            "Requirement already satisfied: packaging in /usr/local/lib/python3.6/dist-packages (from transformers>=2.4.1->-r /content/swedish-bert-models/requirements.txt (line 1)) (20.8)\n",
            "Requirement already satisfied: regex!=2019.12.17 in /usr/local/lib/python3.6/dist-packages (from transformers>=2.4.1->-r /content/swedish-bert-models/requirements.txt (line 1)) (2019.12.20)\n",
            "Requirement already satisfied: requests in /usr/local/lib/python3.6/dist-packages (from transformers>=2.4.1->-r /content/swedish-bert-models/requirements.txt (line 1)) (2.23.0)\n",
            "Requirement already satisfied: protobuf in /usr/local/lib/python3.6/dist-packages (from transformers>=2.4.1->-r /content/swedish-bert-models/requirements.txt (line 1)) (3.12.4)\n",
            "Requirement already satisfied: tokenizers==0.9.3 in /usr/local/lib/python3.6/dist-packages (from transformers>=2.4.1->-r /content/swedish-bert-models/requirements.txt (line 1)) (0.9.3)\n",
            "Requirement already satisfied: tqdm>=4.27 in /usr/local/lib/python3.6/dist-packages (from transformers>=2.4.1->-r /content/swedish-bert-models/requirements.txt (line 1)) (4.41.1)\n",
            "Requirement already satisfied: sacremoses in /usr/local/lib/python3.6/dist-packages (from transformers>=2.4.1->-r /content/swedish-bert-models/requirements.txt (line 1)) (0.0.43)\n",
            "Requirement already satisfied: sentencepiece==0.1.91 in /usr/local/lib/python3.6/dist-packages (from transformers>=2.4.1->-r /content/swedish-bert-models/requirements.txt (line 1)) (0.1.91)\n",
            "Requirement already satisfied: pyparsing>=2.0.2 in /usr/local/lib/python3.6/dist-packages (from packaging->transformers>=2.4.1->-r /content/swedish-bert-models/requirements.txt (line 1)) (2.4.7)\n",
            "Requirement already satisfied: setuptools in /usr/local/lib/python3.6/dist-packages (from protobuf->transformers>=2.4.1->-r /content/swedish-bert-models/requirements.txt (line 1)) (51.0.0)\n",
            "Requirement already satisfied: six>=1.9 in /usr/local/lib/python3.6/dist-packages (from protobuf->transformers>=2.4.1->-r /content/swedish-bert-models/requirements.txt (line 1)) (1.15.0)\n",
            "Requirement already satisfied: chardet<4,>=3.0.2 in /usr/local/lib/python3.6/dist-packages (from requests->transformers>=2.4.1->-r /content/swedish-bert-models/requirements.txt (line 1)) (3.0.4)\n",
            "Requirement already satisfied: certifi>=2017.4.17 in /usr/local/lib/python3.6/dist-packages (from requests->transformers>=2.4.1->-r /content/swedish-bert-models/requirements.txt (line 1)) (2020.12.5)\n",
            "Requirement already satisfied: idna<3,>=2.5 in /usr/local/lib/python3.6/dist-packages (from requests->transformers>=2.4.1->-r /content/swedish-bert-models/requirements.txt (line 1)) (2.10)\n",
            "Requirement already satisfied: urllib3!=1.25.0,!=1.25.1,<1.26,>=1.21.1 in /usr/local/lib/python3.6/dist-packages (from requests->transformers>=2.4.1->-r /content/swedish-bert-models/requirements.txt (line 1)) (1.24.3)\n",
            "Requirement already satisfied: joblib in /usr/local/lib/python3.6/dist-packages (from sacremoses->transformers>=2.4.1->-r /content/swedish-bert-models/requirements.txt (line 1)) (1.0.0)\n",
            "Requirement already satisfied: click in /usr/local/lib/python3.6/dist-packages (from sacremoses->transformers>=2.4.1->-r /content/swedish-bert-models/requirements.txt (line 1)) (7.1.2)\n"
          ],
          "name": "stdout"
        }
      ]
    },
    {
      "cell_type": "code",
      "metadata": {
        "id": "_JGRwK7aLe42"
      },
      "source": [
        ""
      ],
      "execution_count": null,
      "outputs": []
    },
    {
      "cell_type": "code",
      "metadata": {
        "colab": {
          "base_uri": "https://localhost:8080/"
        },
        "id": "oK0dAeWv5SDb",
        "outputId": "57f27dc8-f7e9-44dc-dd0e-17f3ee16893f"
      },
      "source": [
        "!mkdir data\n",
        "!mkdir temp\n",
        "!wget https://github.com/ks222rt/DeepLearning-ThesisWork-Convolutional/raw/master/cnn-model/datasets/testDatasetWithNeuTwo -O temp/train.csv\n",
        "!wget https://github.com/ks222rt/DeepLearning-ThesisWork-Convolutional/raw/master/cnn-model/datasets/testDatasetWithNeuOne -O temp/val.csv"
      ],
      "execution_count": 4,
      "outputs": [
        {
          "output_type": "stream",
          "text": [
            "mkdir: cannot create directory ‘data’: File exists\n",
            "mkdir: cannot create directory ‘temp’: File exists\n",
            "--2020-12-31 13:24:57--  https://github.com/ks222rt/DeepLearning-ThesisWork-Convolutional/raw/master/cnn-model/datasets/testDatasetWithNeuTwo\n",
            "Resolving github.com (github.com)... 192.30.255.112\n",
            "Connecting to github.com (github.com)|192.30.255.112|:443... connected.\n",
            "HTTP request sent, awaiting response... 301 Moved Permanently\n",
            "Location: https://github.com/stoffesvensson/DeepLearning-ThesisWork-Convolutional/raw/master/cnn-model/datasets/testDatasetWithNeuTwo [following]\n",
            "--2020-12-31 13:24:57--  https://github.com/stoffesvensson/DeepLearning-ThesisWork-Convolutional/raw/master/cnn-model/datasets/testDatasetWithNeuTwo\n",
            "Reusing existing connection to github.com:443.\n",
            "HTTP request sent, awaiting response... 302 Found\n",
            "Location: https://raw.githubusercontent.com/stoffesvensson/DeepLearning-ThesisWork-Convolutional/master/cnn-model/datasets/testDatasetWithNeuTwo [following]\n",
            "--2020-12-31 13:24:57--  https://raw.githubusercontent.com/stoffesvensson/DeepLearning-ThesisWork-Convolutional/master/cnn-model/datasets/testDatasetWithNeuTwo\n",
            "Resolving raw.githubusercontent.com (raw.githubusercontent.com)... 151.101.0.133, 151.101.64.133, 151.101.128.133, ...\n",
            "Connecting to raw.githubusercontent.com (raw.githubusercontent.com)|151.101.0.133|:443... connected.\n",
            "HTTP request sent, awaiting response... 200 OK\n",
            "Length: 469424 (458K) [text/plain]\n",
            "Saving to: ‘temp/train.csv’\n",
            "\n",
            "temp/train.csv      100%[===================>] 458.42K  --.-KB/s    in 0.03s   \n",
            "\n",
            "2020-12-31 13:24:57 (14.5 MB/s) - ‘temp/train.csv’ saved [469424/469424]\n",
            "\n",
            "--2020-12-31 13:24:57--  https://github.com/ks222rt/DeepLearning-ThesisWork-Convolutional/raw/master/cnn-model/datasets/testDatasetWithNeuOne\n",
            "Resolving github.com (github.com)... 192.30.255.112\n",
            "Connecting to github.com (github.com)|192.30.255.112|:443... connected.\n",
            "HTTP request sent, awaiting response... 301 Moved Permanently\n",
            "Location: https://github.com/stoffesvensson/DeepLearning-ThesisWork-Convolutional/raw/master/cnn-model/datasets/testDatasetWithNeuOne [following]\n",
            "--2020-12-31 13:24:57--  https://github.com/stoffesvensson/DeepLearning-ThesisWork-Convolutional/raw/master/cnn-model/datasets/testDatasetWithNeuOne\n",
            "Reusing existing connection to github.com:443.\n",
            "HTTP request sent, awaiting response... 302 Found\n",
            "Location: https://raw.githubusercontent.com/stoffesvensson/DeepLearning-ThesisWork-Convolutional/master/cnn-model/datasets/testDatasetWithNeuOne [following]\n",
            "--2020-12-31 13:24:57--  https://raw.githubusercontent.com/stoffesvensson/DeepLearning-ThesisWork-Convolutional/master/cnn-model/datasets/testDatasetWithNeuOne\n",
            "Resolving raw.githubusercontent.com (raw.githubusercontent.com)... 151.101.0.133, 151.101.64.133, 151.101.128.133, ...\n",
            "Connecting to raw.githubusercontent.com (raw.githubusercontent.com)|151.101.0.133|:443... connected.\n",
            "HTTP request sent, awaiting response... 200 OK\n",
            "Length: 451320 (441K) [text/plain]\n",
            "Saving to: ‘temp/val.csv’\n",
            "\n",
            "temp/val.csv        100%[===================>] 440.74K  --.-KB/s    in 0.03s   \n",
            "\n",
            "2020-12-31 13:24:57 (14.6 MB/s) - ‘temp/val.csv’ saved [451320/451320]\n",
            "\n"
          ],
          "name": "stdout"
        }
      ]
    },
    {
      "cell_type": "code",
      "metadata": {
        "colab": {
          "base_uri": "https://localhost:8080/"
        },
        "id": "I0ijMgkBI1xA",
        "outputId": "d0075e67-0c09-4630-9e80-748445b442ee"
      },
      "source": [
        "!wget https://raw.githubusercontent.com/stoffesvensson/DeepLearning-ThesisWork-Convolutional/master/cnn-model/datasets/datasetFullList -O temp/full_data.csv"
      ],
      "execution_count": 5,
      "outputs": [
        {
          "output_type": "stream",
          "text": [
            "--2020-12-31 13:24:57--  https://raw.githubusercontent.com/stoffesvensson/DeepLearning-ThesisWork-Convolutional/master/cnn-model/datasets/datasetFullList\n",
            "Resolving raw.githubusercontent.com (raw.githubusercontent.com)... 151.101.0.133, 151.101.64.133, 151.101.128.133, ...\n",
            "Connecting to raw.githubusercontent.com (raw.githubusercontent.com)|151.101.0.133|:443... connected.\n",
            "HTTP request sent, awaiting response... 200 OK\n",
            "Length: 4658983 (4.4M) [text/plain]\n",
            "Saving to: ‘temp/full_data.csv’\n",
            "\n",
            "temp/full_data.csv  100%[===================>]   4.44M  --.-KB/s    in 0.1s    \n",
            "\n",
            "2020-12-31 13:24:58 (44.4 MB/s) - ‘temp/full_data.csv’ saved [4658983/4658983]\n",
            "\n"
          ],
          "name": "stdout"
        }
      ]
    },
    {
      "cell_type": "markdown",
      "metadata": {
        "id": "R2ZSIsCHpxk3"
      },
      "source": [
        "#Basic Data cleaning\n",
        "Most of the data was already cleaned and labeled thanks to [Kristoffer](https://https://github.com/stoffesvensson)\n"
      ]
    },
    {
      "cell_type": "code",
      "metadata": {
        "colab": {
          "base_uri": "https://localhost:8080/",
          "height": 419
        },
        "id": "5clKUwoDq7zp",
        "outputId": "0c36c2b8-b4ad-4fcd-b115-c54c74b30ce1"
      },
      "source": [
        "#dataset kommer ifrån  https://spraakbanken.gu.se/resurser/sentimentlex\n",
        "df = pd.read_csv(\"/content/temp/full_data.csv\",error_bad_lines=False)\n",
        "df"
      ],
      "execution_count": 6,
      "outputs": [
        {
          "output_type": "execute_result",
          "data": {
            "text/html": [
              "<div>\n",
              "<style scoped>\n",
              "    .dataframe tbody tr th:only-of-type {\n",
              "        vertical-align: middle;\n",
              "    }\n",
              "\n",
              "    .dataframe tbody tr th {\n",
              "        vertical-align: top;\n",
              "    }\n",
              "\n",
              "    .dataframe thead th {\n",
              "        text-align: right;\n",
              "    }\n",
              "</style>\n",
              "<table border=\"1\" class=\"dataframe\">\n",
              "  <thead>\n",
              "    <tr style=\"text-align: right;\">\n",
              "      <th></th>\n",
              "      <th>index</th>\n",
              "      <th>text</th>\n",
              "      <th>rating</th>\n",
              "    </tr>\n",
              "  </thead>\n",
              "  <tbody>\n",
              "    <tr>\n",
              "      <th>0</th>\n",
              "      <td>1</td>\n",
              "      <td>dessvärre har jag haft stora problem med telia...</td>\n",
              "      <td>negative</td>\n",
              "    </tr>\n",
              "    <tr>\n",
              "      <th>1</th>\n",
              "      <td>2</td>\n",
              "      <td>beställde förra torsdagen (8/7) på kvällen, vi...</td>\n",
              "      <td>negative</td>\n",
              "    </tr>\n",
              "    <tr>\n",
              "      <th>2</th>\n",
              "      <td>3</td>\n",
              "      <td>vi köpte en dator hos netonnet, som var extrem...</td>\n",
              "      <td>negative</td>\n",
              "    </tr>\n",
              "    <tr>\n",
              "      <th>3</th>\n",
              "      <td>4</td>\n",
              "      <td>nu när vädret inte bra var bra,var det lite tr...</td>\n",
              "      <td>neutral</td>\n",
              "    </tr>\n",
              "    <tr>\n",
              "      <th>4</th>\n",
              "      <td>5</td>\n",
              "      <td>beställde en fjällräven jacka som var super fi...</td>\n",
              "      <td>positive</td>\n",
              "    </tr>\n",
              "    <tr>\n",
              "      <th>...</th>\n",
              "      <td>...</td>\n",
              "      <td>...</td>\n",
              "      <td>...</td>\n",
              "    </tr>\n",
              "    <tr>\n",
              "      <th>15586</th>\n",
              "      <td>15587</td>\n",
              "      <td>perfekt! rätt varor till bra priser med snabb ...</td>\n",
              "      <td>positive</td>\n",
              "    </tr>\n",
              "    <tr>\n",
              "      <th>15587</th>\n",
              "      <td>15588</td>\n",
              "      <td>besviken på brunch! fina lokaler men maten var...</td>\n",
              "      <td>negative</td>\n",
              "    </tr>\n",
              "    <tr>\n",
              "      <th>15588</th>\n",
              "      <td>15589</td>\n",
              "      <td>det stå 1-2 leveransdagar och för mig ha det t...</td>\n",
              "      <td>neutral</td>\n",
              "    </tr>\n",
              "    <tr>\n",
              "      <th>15589</th>\n",
              "      <td>15590</td>\n",
              "      <td>blocket har den sämsta och otrevligaste kundtj...</td>\n",
              "      <td>negative</td>\n",
              "    </tr>\n",
              "    <tr>\n",
              "      <th>15590</th>\n",
              "      <td>15591</td>\n",
              "      <td>den sämsta bredbandsleverantören som finns. ja...</td>\n",
              "      <td>negative</td>\n",
              "    </tr>\n",
              "  </tbody>\n",
              "</table>\n",
              "<p>15591 rows × 3 columns</p>\n",
              "</div>"
            ],
            "text/plain": [
              "       index                                               text    rating\n",
              "0          1  dessvärre har jag haft stora problem med telia...  negative\n",
              "1          2  beställde förra torsdagen (8/7) på kvällen, vi...  negative\n",
              "2          3  vi köpte en dator hos netonnet, som var extrem...  negative\n",
              "3          4  nu när vädret inte bra var bra,var det lite tr...   neutral\n",
              "4          5  beställde en fjällräven jacka som var super fi...  positive\n",
              "...      ...                                                ...       ...\n",
              "15586  15587  perfekt! rätt varor till bra priser med snabb ...  positive\n",
              "15587  15588  besviken på brunch! fina lokaler men maten var...  negative\n",
              "15588  15589  det stå 1-2 leveransdagar och för mig ha det t...   neutral\n",
              "15589  15590  blocket har den sämsta och otrevligaste kundtj...  negative\n",
              "15590  15591  den sämsta bredbandsleverantören som finns. ja...  negative\n",
              "\n",
              "[15591 rows x 3 columns]"
            ]
          },
          "metadata": {
            "tags": []
          },
          "execution_count": 6
        }
      ]
    },
    {
      "cell_type": "code",
      "metadata": {
        "colab": {
          "base_uri": "https://localhost:8080/"
        },
        "id": "1mib3yZQrJJA",
        "outputId": "316eca00-035e-4409-a5e1-8c331132bdcf"
      },
      "source": [
        "\n",
        "#convert polarity into numbers or binary\n",
        "dataset__sentence_label = df[['text','rating']]\n",
        "#dataset__sentence_label.replace({'neutral': np.NaN},inplace=True)\n",
        "dataset__sentence_label = dataset__sentence_label.dropna()\n",
        "print(dataset__sentence_label)\n",
        "sentence = dataset__sentence_label.text\n",
        "label = dataset__sentence_label.rating\n",
        "\n",
        "#sentence"
      ],
      "execution_count": 7,
      "outputs": [
        {
          "output_type": "stream",
          "text": [
            "                                                    text    rating\n",
            "0      dessvärre har jag haft stora problem med telia...  negative\n",
            "1      beställde förra torsdagen (8/7) på kvällen, vi...  negative\n",
            "2      vi köpte en dator hos netonnet, som var extrem...  negative\n",
            "3      nu när vädret inte bra var bra,var det lite tr...   neutral\n",
            "4      beställde en fjällräven jacka som var super fi...  positive\n",
            "...                                                  ...       ...\n",
            "15586  perfekt! rätt varor till bra priser med snabb ...  positive\n",
            "15587  besviken på brunch! fina lokaler men maten var...  negative\n",
            "15588  det stå 1-2 leveransdagar och för mig ha det t...   neutral\n",
            "15589  blocket har den sämsta och otrevligaste kundtj...  negative\n",
            "15590  den sämsta bredbandsleverantören som finns. ja...  negative\n",
            "\n",
            "[15591 rows x 2 columns]\n"
          ],
          "name": "stdout"
        }
      ]
    },
    {
      "cell_type": "code",
      "metadata": {
        "colab": {
          "base_uri": "https://localhost:8080/"
        },
        "id": "wMEENi0NgzZj",
        "outputId": "d5f71562-21e5-47d3-8520-c88578b6decb"
      },
      "source": [
        "print(Counter(label))"
      ],
      "execution_count": 8,
      "outputs": [
        {
          "output_type": "stream",
          "text": [
            "Counter({'positive': 9667, 'negative': 4629, 'neutral': 1295})\n"
          ],
          "name": "stdout"
        }
      ]
    },
    {
      "cell_type": "code",
      "metadata": {
        "colab": {
          "base_uri": "https://localhost:8080/"
        },
        "id": "ApMhcLk7rKGD",
        "outputId": "c3c5b5c6-c491-44da-f716-c2d535fb6d70"
      },
      "source": [
        "frames = [sentence,label]\n",
        "new_df = pd.concat(frames,axis=1)\n",
        "\n",
        "#data[\"income\"].replace({ ' <=50K': 0, ' >50K':1 }, inplace=True)\n",
        "new_df[\"rating\"].replace({'positive':1,'negative':0,'neutral':2},inplace=True)\n",
        "print(new_df)\n",
        "new_df.info()\n",
        "print(\"================================\")\n",
        "print()\n",
        "print()\n",
        "print()\n",
        "\n",
        "print(Counter(new_df.rating))"
      ],
      "execution_count": 9,
      "outputs": [
        {
          "output_type": "stream",
          "text": [
            "                                                    text  rating\n",
            "0      dessvärre har jag haft stora problem med telia...       0\n",
            "1      beställde förra torsdagen (8/7) på kvällen, vi...       0\n",
            "2      vi köpte en dator hos netonnet, som var extrem...       0\n",
            "3      nu när vädret inte bra var bra,var det lite tr...       2\n",
            "4      beställde en fjällräven jacka som var super fi...       1\n",
            "...                                                  ...     ...\n",
            "15586  perfekt! rätt varor till bra priser med snabb ...       1\n",
            "15587  besviken på brunch! fina lokaler men maten var...       0\n",
            "15588  det stå 1-2 leveransdagar och för mig ha det t...       2\n",
            "15589  blocket har den sämsta och otrevligaste kundtj...       0\n",
            "15590  den sämsta bredbandsleverantören som finns. ja...       0\n",
            "\n",
            "[15591 rows x 2 columns]\n",
            "<class 'pandas.core.frame.DataFrame'>\n",
            "Int64Index: 15591 entries, 0 to 15590\n",
            "Data columns (total 2 columns):\n",
            " #   Column  Non-Null Count  Dtype \n",
            "---  ------  --------------  ----- \n",
            " 0   text    15591 non-null  object\n",
            " 1   rating  15591 non-null  int64 \n",
            "dtypes: int64(1), object(1)\n",
            "memory usage: 365.4+ KB\n",
            "================================\n",
            "\n",
            "\n",
            "\n",
            "Counter({1: 9667, 0: 4629, 2: 1295})\n"
          ],
          "name": "stdout"
        }
      ]
    },
    {
      "cell_type": "markdown",
      "metadata": {
        "id": "QSOFtco_7exm"
      },
      "source": [
        "Holdout set for testing classifier\n"
      ]
    },
    {
      "cell_type": "code",
      "metadata": {
        "id": "f5R5QEGniK9S"
      },
      "source": [
        "#negative=new_df[new_df['rating']==0]\n",
        "#positive=new_df[new_df['rating']==1]\n",
        "#positive = new_df.sample(4000)\n",
        "#new_df.drop(positive.index)\n",
        "#new_df=pd.concat([positive,negative])\n",
        "\n",
        "#print(Counter(new_df.rating))\n",
        "#final"
      ],
      "execution_count": 10,
      "outputs": []
    },
    {
      "cell_type": "code",
      "metadata": {
        "colab": {
          "base_uri": "https://localhost:8080/"
        },
        "id": "GdP5c77O7kt8",
        "outputId": "4c68b6b4-ca44-41a4-ac68-b18bb262b6f5"
      },
      "source": [
        "holdout_df = new_df.sample(1000)\n",
        "\n",
        "new_df = new_df.drop(holdout_df.index, axis =0)\n",
        "\n",
        "print(\"Holdout set \", Counter(holdout_df.rating))\n",
        "print(\"Training set \",Counter(new_df.rating))"
      ],
      "execution_count": 11,
      "outputs": [
        {
          "output_type": "stream",
          "text": [
            "Holdout set  Counter({1: 616, 0: 315, 2: 69})\n",
            "Training set  Counter({1: 9051, 0: 4314, 2: 1226})\n"
          ],
          "name": "stdout"
        }
      ]
    },
    {
      "cell_type": "code",
      "metadata": {
        "colab": {
          "base_uri": "https://localhost:8080/"
        },
        "id": "z7sSsC7DrUz9",
        "outputId": "f85eabe6-1a4a-4199-e86b-1d3b1e1c21ed"
      },
      "source": [
        "import torch\n",
        "\n",
        "if torch.cuda.is_available():       \n",
        "    device = torch.device(\"cuda\")\n",
        "    print(f'There are {torch.cuda.device_count()} GPU(s) available.')\n",
        "    print('Device name:', torch.cuda.get_device_name(0))\n",
        "\n",
        "else:\n",
        "    print('No GPU available, using the CPU instead.')\n",
        "    device = torch.device(\"cpu\")"
      ],
      "execution_count": 12,
      "outputs": [
        {
          "output_type": "stream",
          "text": [
            "There are 1 GPU(s) available.\n",
            "Device name: Tesla T4\n"
          ],
          "name": "stdout"
        }
      ]
    },
    {
      "cell_type": "code",
      "metadata": {
        "colab": {
          "base_uri": "https://localhost:8080/"
        },
        "id": "gj_CIsmAwSWW",
        "outputId": "766927de-b450-47ca-ce79-d8aa59c1624c"
      },
      "source": [
        "!pip install transformers==3.5.1"
      ],
      "execution_count": 13,
      "outputs": [
        {
          "output_type": "stream",
          "text": [
            "Requirement already satisfied: transformers==3.5.1 in /usr/local/lib/python3.6/dist-packages (3.5.1)\n",
            "Requirement already satisfied: requests in /usr/local/lib/python3.6/dist-packages (from transformers==3.5.1) (2.23.0)\n",
            "Requirement already satisfied: dataclasses in /usr/local/lib/python3.6/dist-packages (from transformers==3.5.1) (0.8)\n",
            "Requirement already satisfied: packaging in /usr/local/lib/python3.6/dist-packages (from transformers==3.5.1) (20.8)\n",
            "Requirement already satisfied: tokenizers==0.9.3 in /usr/local/lib/python3.6/dist-packages (from transformers==3.5.1) (0.9.3)\n",
            "Requirement already satisfied: tqdm>=4.27 in /usr/local/lib/python3.6/dist-packages (from transformers==3.5.1) (4.41.1)\n",
            "Requirement already satisfied: sacremoses in /usr/local/lib/python3.6/dist-packages (from transformers==3.5.1) (0.0.43)\n",
            "Requirement already satisfied: regex!=2019.12.17 in /usr/local/lib/python3.6/dist-packages (from transformers==3.5.1) (2019.12.20)\n",
            "Requirement already satisfied: sentencepiece==0.1.91 in /usr/local/lib/python3.6/dist-packages (from transformers==3.5.1) (0.1.91)\n",
            "Requirement already satisfied: protobuf in /usr/local/lib/python3.6/dist-packages (from transformers==3.5.1) (3.12.4)\n",
            "Requirement already satisfied: filelock in /usr/local/lib/python3.6/dist-packages (from transformers==3.5.1) (3.0.12)\n",
            "Requirement already satisfied: numpy in /usr/local/lib/python3.6/dist-packages (from transformers==3.5.1) (1.19.4)\n",
            "Requirement already satisfied: pyparsing>=2.0.2 in /usr/local/lib/python3.6/dist-packages (from packaging->transformers==3.5.1) (2.4.7)\n",
            "Requirement already satisfied: six>=1.9 in /usr/local/lib/python3.6/dist-packages (from protobuf->transformers==3.5.1) (1.15.0)\n",
            "Requirement already satisfied: setuptools in /usr/local/lib/python3.6/dist-packages (from protobuf->transformers==3.5.1) (51.0.0)\n",
            "Requirement already satisfied: certifi>=2017.4.17 in /usr/local/lib/python3.6/dist-packages (from requests->transformers==3.5.1) (2020.12.5)\n",
            "Requirement already satisfied: chardet<4,>=3.0.2 in /usr/local/lib/python3.6/dist-packages (from requests->transformers==3.5.1) (3.0.4)\n",
            "Requirement already satisfied: urllib3!=1.25.0,!=1.25.1,<1.26,>=1.21.1 in /usr/local/lib/python3.6/dist-packages (from requests->transformers==3.5.1) (1.24.3)\n",
            "Requirement already satisfied: idna<3,>=2.5 in /usr/local/lib/python3.6/dist-packages (from requests->transformers==3.5.1) (2.10)\n",
            "Requirement already satisfied: click in /usr/local/lib/python3.6/dist-packages (from sacremoses->transformers==3.5.1) (7.1.2)\n",
            "Requirement already satisfied: joblib in /usr/local/lib/python3.6/dist-packages (from sacremoses->transformers==3.5.1) (1.0.0)\n"
          ],
          "name": "stdout"
        }
      ]
    },
    {
      "cell_type": "code",
      "metadata": {
        "id": "cZcZTvgYrej3"
      },
      "source": [
        "from transformers import AutoModel,AutoTokenizer,TFAutoModel\n",
        "#af-ai-center/bert-large-swedish-uncased\n",
        "#KB/bert-base-swedish-cased\n",
        "\n",
        "\n",
        "tokenizer = AutoTokenizer.from_pretrained('KB/bert-base-swedish-cased')\n",
        "model = AutoModel.from_pretrained('KB/bert-base-swedish-cased')"
      ],
      "execution_count": 14,
      "outputs": []
    },
    {
      "cell_type": "code",
      "metadata": {
        "id": "pg4Mozx7wXIj"
      },
      "source": [
        "#from sklearn.model_selection import train_test_split\n",
        "#from torch.utils.data import TensorDataset,DataLoader, RandomSampler, SequentialSampler\n",
        "\n",
        "#df_train, df_test = train_test_split(new_df, test_size =0.1, random_state= 1234)\n",
        "##df_val,df_test = train_test_split(df_test,test_size=0.5,random_state=1234)\n",
        "\n",
        "#df_test.shape,df_val.shape"
      ],
      "execution_count": 15,
      "outputs": []
    },
    {
      "cell_type": "code",
      "metadata": {
        "colab": {
          "base_uri": "https://localhost:8080/"
        },
        "id": "Xh0JZs9R0QFT",
        "outputId": "000119db-8283-4349-889b-31e3876811f0"
      },
      "source": [
        "from sklearn.model_selection import train_test_split\n",
        "\n",
        "X = new_df.text.values\n",
        "y = new_df.rating.values\n",
        "\n",
        "X_train, X_val, y_train, y_val = train_test_split(X, y, test_size=0.1, random_state=2020)\n",
        "#X_train, X_test,y_train,y_test = train_test_split(X, y, test_size=0.1, random_state=2020)\n",
        "#X_val,X_test\n",
        "print(\"Validation set examples \", X_val.shape ,\"  y_val \", y_val.shape)"
      ],
      "execution_count": 16,
      "outputs": [
        {
          "output_type": "stream",
          "text": [
            "Validation set examples  (1460,)   y_val  (1460,)\n"
          ],
          "name": "stdout"
        }
      ]
    },
    {
      "cell_type": "code",
      "metadata": {
        "id": "iy1yU3oixDd6"
      },
      "source": [
        "# Create a function to tokenize a set of texts\n",
        "def preprocessing_for_bert(data):\n",
        "    \"\"\"Perform required preprocessing steps for pretrained BERT.\n",
        "    @param    data (np.array): Array of texts to be processed.\n",
        "    @return   input_ids (torch.Tensor): Tensor of token ids to be fed to a model.\n",
        "    @return   attention_masks (torch.Tensor): Tensor of indices specifying which\n",
        "                  tokens should be attended to by the model.\n",
        "    \"\"\"\n",
        "    # Create empty lists to store outputs\n",
        "    input_ids = []\n",
        "    attention_masks = []\n",
        "\n",
        "    # For every sentence...\n",
        "    for sent in data:\n",
        "        # `encode_plus` will:\n",
        "        #    (1) Tokenize the sentence\n",
        "        #    (2) Add the `[CLS]` and `[SEP]` token to the start and end\n",
        "        #    (3) Truncate/Pad sentence to max length\n",
        "        #    (4) Map tokens to their IDs\n",
        "        #    (5) Create attention mask\n",
        "        #    (6) Return a dictionary of outputs\n",
        "        encoded_sent = tokenizer.encode_plus(\n",
        "            text=sent,  # Preprocess sentence\n",
        "            add_special_tokens=True,        # Add `[CLS]` and `[SEP]`\n",
        "            max_length=MAX_LEN,                  # Max length to truncate/pad\n",
        "            pad_to_max_length=True,         # Pad sentence to max length\n",
        "            #return_tensors='pt',           # Return PyTorch tensor\n",
        "            return_attention_mask=True      # Return attention mask\n",
        "            )\n",
        "        \n",
        "        # Add the outputs to the lists\n",
        "        input_ids.append(encoded_sent.get('input_ids'))\n",
        "        attention_masks.append(encoded_sent.get('attention_mask'))\n",
        "\n",
        "    # Convert lists to tensors\n",
        "    input_ids = torch.tensor(input_ids)\n",
        "    attention_masks = torch.tensor(attention_masks)\n",
        "\n",
        "    return input_ids, attention_masks\n"
      ],
      "execution_count": 17,
      "outputs": []
    },
    {
      "cell_type": "markdown",
      "metadata": {
        "id": "8VBnqeYAIJLK"
      },
      "source": [
        "Choosing MAX LENGTH\n"
      ]
    },
    {
      "cell_type": "code",
      "metadata": {
        "id": "9kjbOZYQIIbn",
        "colab": {
          "base_uri": "https://localhost:8080/",
          "height": 350
        },
        "outputId": "913109ca-00ca-4fcd-a564-bf6f9bca5101"
      },
      "source": [
        "token_lens = []\n",
        "for txt in df.text:\n",
        "  tokens = tokenizer.encode(txt, max_length=512)\n",
        "  token_lens.append(len(tokens))\n",
        "\n",
        "\n",
        "\n",
        "sns.distplot(token_lens)\n",
        "plt.xlim([0, 400]);\n",
        "plt.xlabel('Token count');"
      ],
      "execution_count": 18,
      "outputs": [
        {
          "output_type": "stream",
          "text": [
            "Truncation was not explicitly activated but `max_length` is provided a specific value, please use `truncation=True` to explicitly truncate examples to max length. Defaulting to 'longest_first' truncation strategy. If you encode pairs of sequences (GLUE-style) with the tokenizer you can select this strategy more precisely by providing a specific strategy to `truncation`.\n",
            "/usr/local/lib/python3.6/dist-packages/seaborn/distributions.py:2551: FutureWarning: `distplot` is a deprecated function and will be removed in a future version. Please adapt your code to use either `displot` (a figure-level function with similar flexibility) or `histplot` (an axes-level function for histograms).\n",
            "  warnings.warn(msg, FutureWarning)\n"
          ],
          "name": "stderr"
        },
        {
          "output_type": "display_data",
          "data": {
            "image/png": "[encoded data removed]",
            "text/plain": [
              "<Figure size 432x288 with 1 Axes>"
            ]
          },
          "metadata": {
            "tags": [],
            "needs_background": "light"
          }
        }
      ]
    },
    {
      "cell_type": "code",
      "metadata": {
        "colab": {
          "base_uri": "https://localhost:8080/"
        },
        "id": "qLiPyEIFxSwU",
        "outputId": "30a3ff0b-bd2e-41d9-a952-714371ffe49d"
      },
      "source": [
        "MAX_LEN = 256\n",
        "# Run function `preprocessing_for_bert` on the train set and the validation set\n",
        "\n",
        "print('Tokenizing data...')\n",
        "train_inputs, train_masks = preprocessing_for_bert(X_train)\n",
        "val_inputs, val_masks = preprocessing_for_bert(X_val)"
      ],
      "execution_count": 19,
      "outputs": [
        {
          "output_type": "stream",
          "text": [
            "Tokenizing data...\n"
          ],
          "name": "stdout"
        },
        {
          "output_type": "stream",
          "text": [
            "/usr/local/lib/python3.6/dist-packages/transformers/tokenization_utils_base.py:2022: FutureWarning: The `pad_to_max_length` argument is deprecated and will be removed in a future version, use `padding=True` or `padding='longest'` to pad to the longest sequence in the batch, or use `padding='max_length'` to pad to a max length. In this case, you can give a specific length with `max_length` (e.g. `max_length=45`) or leave max_length to None to pad to the maximal input size of the model (e.g. 512 for Bert).\n",
            "  FutureWarning,\n"
          ],
          "name": "stderr"
        }
      ]
    },
    {
      "cell_type": "code",
      "metadata": {
        "id": "OyD2nemU0NWp"
      },
      "source": [
        "from torch.utils.data import TensorDataset, DataLoader, RandomSampler, SequentialSampler\n",
        "\n",
        "# Convert other data types to torch.Tensor\n",
        "train_labels = torch.tensor(y_train)\n",
        "val_labels = torch.tensor(y_val)\n",
        "\n",
        "# For fine-tuning BERT, the authors recommend a batch size of 16 or 32.\n",
        "batch_size = 16\n",
        "\n",
        "# Create the DataLoader for our training set\n",
        "train_data = TensorDataset(train_inputs, train_masks, train_labels)\n",
        "\n",
        "train_sampler = RandomSampler(train_data)\n",
        "train_dataloader = DataLoader(train_data, sampler=train_sampler, batch_size=batch_size)\n",
        "\n",
        "# Create the DataLoader for our validation set\n",
        "val_data = TensorDataset(val_inputs, val_masks, val_labels)\n",
        "val_sampler = SequentialSampler(val_data)\n",
        "val_dataloader = DataLoader(val_data, sampler=val_sampler, batch_size=batch_size)"
      ],
      "execution_count": 20,
      "outputs": []
    },
    {
      "cell_type": "code",
      "metadata": {
        "id": "bE5PQvgrnyxu"
      },
      "source": [
        "class_names = ['negative', 'positive','neutral']"
      ],
      "execution_count": 21,
      "outputs": []
    },
    {
      "cell_type": "code",
      "metadata": {
        "id": "roIs-d2yo0Cj"
      },
      "source": [
        "#@misc{ \n",
        " #   swedish-bert,\n",
        " #   title={Playing with Words at the National Library of Sweden -- Making a Swedish BERT},\n",
        " #   author={Martin Malmsten and Love Börjeson and Chris Haffenden},\n",
        " #   year={2020},\n",
        " #   eprint={2007.01658},\n",
        " #   archivePrefix={arXiv},\n",
        " #   primaryClass={cs.CL}\n",
        "#}"
      ],
      "execution_count": 22,
      "outputs": []
    },
    {
      "cell_type": "markdown",
      "metadata": {
        "id": "uoR4DUFWq7Nn"
      },
      "source": [
        "#Custom Classifier"
      ]
    },
    {
      "cell_type": "code",
      "metadata": {
        "id": "8w-gZv7Bmnnm"
      },
      "source": [
        "class SentimentClassifier(nn.Module):\n",
        "\n",
        "  def __init__(self, n_classes):\n",
        "    super(SentimentClassifier, self).__init__()\n",
        "    self.bert = BertModel.from_pretrained('KB/bert-base-swedish-cased')\n",
        "    self.drop = nn.Dropout(p=0.3)\n",
        "    self.out = nn.Linear(self.bert.config.hidden_size, n_classes)\n",
        "  \n",
        "  def forward(self, input_ids, attention_mask):\n",
        "    _, pooled_output = self.bert(\n",
        "      input_ids=input_ids,\n",
        "      attention_mask=attention_mask\n",
        "    )\n",
        "    output = self.drop(pooled_output)\n",
        "    return self.out(output)"
      ],
      "execution_count": 23,
      "outputs": []
    },
    {
      "cell_type": "markdown",
      "metadata": {
        "id": "mRUneqvIq_Ek"
      },
      "source": [
        "#Helper Method\n",
        "with build in optimizer and scheduler"
      ]
    },
    {
      "cell_type": "code",
      "metadata": {
        "id": "2V-Fz9Nq02AD"
      },
      "source": [
        "from transformers import AdamW, get_linear_schedule_with_warmup\n",
        "\n",
        "def initialize_model(epochs=4):\n",
        "    \"\"\"Initialize the Bert Classifier, the optimizer and the learning rate scheduler.\n",
        "    \"\"\"\n",
        "    # Instantiate Bert Classifier\n",
        "    #bert_classifier = BertClassifier(freeze_bert=False)\n",
        "    bert_classifier = SentimentClassifier(len(class_names))\n",
        "   # bert_classifier= BertForSequenceClassification.from_pretrained('KB/bert-base-swedish-cased', return_dict=True)\n",
        "\n",
        "    # Tell PyTorch to run the model on GPU\n",
        "    bert_classifier.to(device)\n",
        "\n",
        "    # Create the optimizer\n",
        "    optimizer = AdamW(bert_classifier.parameters(),\n",
        "                      lr=5e-5,    # Default learning rate\n",
        "                      eps=1e-8    # Default epsilon value\n",
        "                      )\n",
        "\n",
        "    # Total number of training steps\n",
        "    total_steps = len(train_dataloader) * epochs\n",
        "\n",
        "    # Set up the learning rate scheduler\n",
        "    scheduler = get_linear_schedule_with_warmup(optimizer,\n",
        "                                                num_warmup_steps=0, # Default value\n",
        "                                                num_training_steps=total_steps)\n",
        "    return bert_classifier, optimizer, scheduler\n"
      ],
      "execution_count": 24,
      "outputs": []
    },
    {
      "cell_type": "markdown",
      "metadata": {
        "id": "nVh88vDnrIu9"
      },
      "source": [
        "#Training and Evaluation Loop"
      ]
    },
    {
      "cell_type": "code",
      "metadata": {
        "id": "oZ4KxAo-05zy"
      },
      "source": [
        "import random\n",
        "import time\n",
        "\n",
        "# Specify loss function\n",
        "loss_fn = nn.CrossEntropyLoss()\n",
        "\n",
        "def set_seed(seed_value=42):\n",
        "    \"\"\"Set seed for reproducibility.\n",
        "    \"\"\"\n",
        "    random.seed(seed_value)\n",
        "    np.random.seed(seed_value)\n",
        "    torch.manual_seed(seed_value)\n",
        "    torch.cuda.manual_seed_all(seed_value)\n",
        "\n",
        "def train(model, train_dataloader, val_dataloader=None, epochs=4, evaluation=False):\n",
        "    \"\"\"Train the BertClassifier model.\n",
        "    \"\"\"\n",
        "    # Start training loop\n",
        "    print(\"Start training...\\n\")\n",
        "    for epoch_i in range(epochs):\n",
        "        # =======================================\n",
        "        #               Training\n",
        "        # =======================================\n",
        "        # Print the header of the result table\n",
        "        print(f\"{'Epoch':^7} | {'Batch':^7} | {'Train Loss':^12} | {'Val Loss':^10} | {'Val Acc':^9} | {'Elapsed':^9}\")\n",
        "        print(\"-\"*70)\n",
        "\n",
        "        # Measure the elapsed time of each epoch\n",
        "        t0_epoch, t0_batch = time.time(), time.time()\n",
        "\n",
        "        # Reset tracking variables at the beginning of each epoch\n",
        "        total_loss, batch_loss, batch_counts = 0, 0, 0\n",
        "\n",
        "        # Put the model into the training mode [ITS JUST A FLAG]\n",
        "        model.train()\n",
        "\n",
        "        # For each batch of training data...\n",
        "        for step, batch in enumerate(train_dataloader):\n",
        "            batch_counts +=1\n",
        "            # Load batch to GPU\n",
        "            b_input_ids, b_attn_mask, b_labels = tuple(t.to(device) for t in batch) #We take every tokenized sentence and put it to the gpu\n",
        "\n",
        "            # Zero out any previously calculated gradients\n",
        "            model.zero_grad() #Refresh the gradients before performing a backward pass\n",
        "\n",
        "            # Perform a forward pass. This will return logits.\n",
        "            logits = model(b_input_ids, b_attn_mask) #put b_labels \n",
        "\n",
        "            # Compute loss and accumulate the loss values\n",
        "            loss = loss_fn(logits, b_labels)\n",
        "            batch_loss += loss.item()\n",
        "            total_loss += loss.item()\n",
        "\n",
        "            # Perform a backward pass to calculate gradients\n",
        "            loss.backward()\n",
        "\n",
        "            # Clip the norm of the gradients to 1.0 to prevent \"exploding gradients\"\n",
        "            torch.nn.utils.clip_grad_norm_(model.parameters(), 1.0)\n",
        "\n",
        "            # Update parameters and the learning rate\n",
        "            optimizer.step()\n",
        "            scheduler.step()\n",
        "            #optimizer.zero_grad()\n",
        "\n",
        "            # Print the loss values and time elapsed for every 20 batches\n",
        "            if (step % 20 == 0 and step != 0) or (step == len(train_dataloader) - 1):\n",
        "                # Calculate time elapsed for 20 batches\n",
        "                time_elapsed = time.time() - t0_batch\n",
        "\n",
        "                # Print training results\n",
        "                print(f\"{epoch_i + 1:^7} | {step:^7} | {batch_loss / batch_counts:^12.6f} | {'-':^10} | {'-':^9} | {time_elapsed:^9.2f}\")\n",
        "\n",
        "                # Reset batch tracking variables\n",
        "                batch_loss, batch_counts = 0, 0\n",
        "                t0_batch = time.time()\n",
        "\n",
        "        # Calculate the average loss over the entire training data\n",
        "        avg_train_loss = total_loss / len(train_dataloader)\n",
        "\n",
        "        print(\"-\"*70)\n",
        "        # =======================================\n",
        "        #               Evaluation\n",
        "        # =======================================\n",
        "        if evaluation == True:\n",
        "            # After the completion of each training epoch, measure the model's performance\n",
        "            # on our validation set.\n",
        "            val_loss, val_accuracy = evaluate(model, val_dataloader)\n",
        "\n",
        "            # Print performance over the entire training data\n",
        "            time_elapsed = time.time() - t0_epoch\n",
        "            \n",
        "            print(f\"{epoch_i + 1:^7} | {'-':^7} | {avg_train_loss:^12.6f} | {val_loss:^10.6f} | {val_accuracy:^9.2f} | {time_elapsed:^9.2f}\")\n",
        "            print(\"-\"*70)\n",
        "        print(\"\\n\")\n",
        "    \n",
        "    print(\"Training complete!\")\n",
        "\n",
        "\n",
        "def evaluate(model, val_dataloader):\n",
        "    \"\"\"After the completion of each training epoch, measure the model's performance\n",
        "    on our validation set.\n",
        "    \"\"\"\n",
        "    # Put the model into the evaluation mode. The dropout layers are disabled during\n",
        "    # the test time.\n",
        "    model.eval()\n",
        "\n",
        "    # Tracking variables\n",
        "    val_accuracy = []\n",
        "    val_loss = []\n",
        "\n",
        "    # For each batch in our validation set...\n",
        "    for batch in val_dataloader:\n",
        "        # Load batch to GPU\n",
        "        b_input_ids, b_attn_mask, b_labels = tuple(t.to(device) for t in batch)\n",
        "\n",
        "        # Compute logits\n",
        "        with torch.no_grad():\n",
        "            logits = model(b_input_ids, b_attn_mask)\n",
        "\n",
        "        # Compute loss\n",
        "        loss = loss_fn(logits, b_labels)\n",
        "        val_loss.append(loss.item())\n",
        "\n",
        "        # Get the predictions\n",
        "        preds = torch.argmax(logits, dim=1).flatten()\n",
        "\n",
        "        # Calculate the accuracy rate\n",
        "        accuracy = (preds == b_labels).cpu().numpy().mean() * 100\n",
        "        val_accuracy.append(accuracy)\n",
        "\n",
        "    # Compute the average accuracy and loss over the validation set.\n",
        "    val_loss = np.mean(val_loss)\n",
        "    val_accuracy = np.mean(val_accuracy)\n",
        "\n",
        "    return val_loss, val_accuracy\n"
      ],
      "execution_count": 25,
      "outputs": []
    },
    {
      "cell_type": "code",
      "metadata": {
        "id": "t3GH2B5Y1B37",
        "colab": {
          "base_uri": "https://localhost:8080/"
        },
        "outputId": "4c316e9b-7d36-42fb-f5a8-fe635ef3f041"
      },
      "source": [
        "from transformers import BertModel\n",
        "set_seed(42)    # Set seed for reproducibility\n",
        "\n",
        "bert_classifier, optimizer, scheduler = initialize_model(epochs=4)\n",
        "start = time.time()\n",
        "train(bert_classifier, train_dataloader, val_dataloader, epochs=4, evaluation=True)\n",
        "stop = time.time()\n",
        "print(f\"Training time: {stop - start}s\")"
      ],
      "execution_count": 26,
      "outputs": [
        {
          "output_type": "stream",
          "text": [
            "Start training...\n",
            "\n",
            " Epoch  |  Batch  |  Train Loss  |  Val Loss  |  Val Acc  |  Elapsed \n",
            "----------------------------------------------------------------------\n",
            "   1    |   20    |   0.541554   |     -      |     -     |   14.56  \n",
            "   1    |   40    |   0.421492   |     -      |     -     |   13.97  \n",
            "   1    |   60    |   0.366959   |     -      |     -     |   14.30  \n",
            "   1    |   80    |   0.383392   |     -      |     -     |   14.55  \n",
            "   1    |   100   |   0.396719   |     -      |     -     |   14.84  \n",
            "   1    |   120   |   0.392262   |     -      |     -     |   15.16  \n",
            "   1    |   140   |   0.357985   |     -      |     -     |   15.45  \n",
            "   1    |   160   |   0.399836   |     -      |     -     |   15.25  \n",
            "   1    |   180   |   0.463826   |     -      |     -     |   15.04  \n",
            "   1    |   200   |   0.344954   |     -      |     -     |   15.00  \n",
            "   1    |   220   |   0.335614   |     -      |     -     |   15.09  \n",
            "   1    |   240   |   0.424661   |     -      |     -     |   15.18  \n",
            "   1    |   260   |   0.345645   |     -      |     -     |   15.19  \n",
            "   1    |   280   |   0.367413   |     -      |     -     |   15.14  \n",
            "   1    |   300   |   0.321595   |     -      |     -     |   15.07  \n",
            "   1    |   320   |   0.414772   |     -      |     -     |   15.09  \n",
            "   1    |   340   |   0.354816   |     -      |     -     |   15.13  \n",
            "   1    |   360   |   0.350464   |     -      |     -     |   14.99  \n",
            "   1    |   380   |   0.232623   |     -      |     -     |   15.12  \n",
            "   1    |   400   |   0.390543   |     -      |     -     |   15.18  \n",
            "   1    |   420   |   0.366394   |     -      |     -     |   15.11  \n",
            "   1    |   440   |   0.334903   |     -      |     -     |   15.16  \n",
            "   1    |   460   |   0.376880   |     -      |     -     |   15.12  \n",
            "   1    |   480   |   0.396719   |     -      |     -     |   15.13  \n",
            "   1    |   500   |   0.334146   |     -      |     -     |   15.14  \n",
            "   1    |   520   |   0.295176   |     -      |     -     |   15.15  \n",
            "   1    |   540   |   0.407421   |     -      |     -     |   15.15  \n",
            "   1    |   560   |   0.223714   |     -      |     -     |   15.13  \n",
            "   1    |   580   |   0.365577   |     -      |     -     |   15.15  \n",
            "   1    |   600   |   0.274677   |     -      |     -     |   15.17  \n",
            "   1    |   620   |   0.354999   |     -      |     -     |   15.14  \n",
            "   1    |   640   |   0.285677   |     -      |     -     |   15.10  \n",
            "   1    |   660   |   0.339667   |     -      |     -     |   15.10  \n",
            "   1    |   680   |   0.298528   |     -      |     -     |   15.11  \n",
            "   1    |   700   |   0.314901   |     -      |     -     |   15.14  \n",
            "   1    |   720   |   0.340544   |     -      |     -     |   15.07  \n",
            "   1    |   740   |   0.320360   |     -      |     -     |   15.13  \n",
            "   1    |   760   |   0.310254   |     -      |     -     |   15.07  \n",
            "   1    |   780   |   0.351444   |     -      |     -     |   15.14  \n",
            "   1    |   800   |   0.308875   |     -      |     -     |   15.11  \n",
            "   1    |   820   |   0.401931   |     -      |     -     |   14.89  \n",
            "----------------------------------------------------------------------\n",
            "   1    |    -    |   0.356565   |  0.304696  |   88.86   |  641.32  \n",
            "----------------------------------------------------------------------\n",
            "\n",
            "\n",
            " Epoch  |  Batch  |  Train Loss  |  Val Loss  |  Val Acc  |  Elapsed \n",
            "----------------------------------------------------------------------\n",
            "   2    |   20    |   0.297476   |     -      |     -     |   15.89  \n",
            "   2    |   40    |   0.238079   |     -      |     -     |   15.10  \n",
            "   2    |   60    |   0.180318   |     -      |     -     |   15.11  \n",
            "   2    |   80    |   0.209773   |     -      |     -     |   15.11  \n",
            "   2    |   100   |   0.196996   |     -      |     -     |   15.09  \n",
            "   2    |   120   |   0.171007   |     -      |     -     |   15.07  \n",
            "   2    |   140   |   0.174738   |     -      |     -     |   15.12  \n",
            "   2    |   160   |   0.199309   |     -      |     -     |   15.12  \n",
            "   2    |   180   |   0.247123   |     -      |     -     |   15.16  \n",
            "   2    |   200   |   0.290271   |     -      |     -     |   15.13  \n",
            "   2    |   220   |   0.208815   |     -      |     -     |   15.17  \n",
            "   2    |   240   |   0.205765   |     -      |     -     |   15.10  \n",
            "   2    |   260   |   0.190035   |     -      |     -     |   15.11  \n",
            "   2    |   280   |   0.243643   |     -      |     -     |   15.10  \n",
            "   2    |   300   |   0.209831   |     -      |     -     |   15.16  \n",
            "   2    |   320   |   0.339071   |     -      |     -     |   15.12  \n",
            "   2    |   340   |   0.258101   |     -      |     -     |   15.16  \n",
            "   2    |   360   |   0.254472   |     -      |     -     |   15.15  \n",
            "   2    |   380   |   0.161491   |     -      |     -     |   15.15  \n",
            "   2    |   400   |   0.207325   |     -      |     -     |   15.12  \n",
            "   2    |   420   |   0.206890   |     -      |     -     |   15.11  \n",
            "   2    |   440   |   0.177855   |     -      |     -     |   15.09  \n",
            "   2    |   460   |   0.264854   |     -      |     -     |   15.12  \n",
            "   2    |   480   |   0.154715   |     -      |     -     |   15.14  \n",
            "   2    |   500   |   0.263700   |     -      |     -     |   15.15  \n",
            "   2    |   520   |   0.199422   |     -      |     -     |   15.12  \n",
            "   2    |   540   |   0.201195   |     -      |     -     |   15.16  \n",
            "   2    |   560   |   0.230523   |     -      |     -     |   15.11  \n",
            "   2    |   580   |   0.214490   |     -      |     -     |   15.16  \n",
            "   2    |   600   |   0.150531   |     -      |     -     |   15.09  \n",
            "   2    |   620   |   0.280584   |     -      |     -     |   15.11  \n",
            "   2    |   640   |   0.163464   |     -      |     -     |   15.13  \n",
            "   2    |   660   |   0.192612   |     -      |     -     |   15.08  \n",
            "   2    |   680   |   0.215771   |     -      |     -     |   15.14  \n",
            "   2    |   700   |   0.313329   |     -      |     -     |   15.10  \n",
            "   2    |   720   |   0.258146   |     -      |     -     |   15.09  \n",
            "   2    |   740   |   0.156573   |     -      |     -     |   15.10  \n",
            "   2    |   760   |   0.221229   |     -      |     -     |   15.12  \n",
            "   2    |   780   |   0.194462   |     -      |     -     |   15.15  \n",
            "   2    |   800   |   0.216848   |     -      |     -     |   15.07  \n",
            "   2    |   820   |   0.277501   |     -      |     -     |   14.92  \n",
            "----------------------------------------------------------------------\n",
            "   2    |    -    |   0.220541   |  0.386907  |   88.45   |  645.09  \n",
            "----------------------------------------------------------------------\n",
            "\n",
            "\n",
            " Epoch  |  Batch  |  Train Loss  |  Val Loss  |  Val Acc  |  Elapsed \n",
            "----------------------------------------------------------------------\n",
            "   3    |   20    |   0.147164   |     -      |     -     |   15.79  \n",
            "   3    |   40    |   0.182019   |     -      |     -     |   15.08  \n",
            "   3    |   60    |   0.176679   |     -      |     -     |   15.07  \n",
            "   3    |   80    |   0.102412   |     -      |     -     |   15.05  \n",
            "   3    |   100   |   0.130379   |     -      |     -     |   15.05  \n",
            "   3    |   120   |   0.119528   |     -      |     -     |   15.06  \n",
            "   3    |   140   |   0.165701   |     -      |     -     |   15.08  \n",
            "   3    |   160   |   0.155082   |     -      |     -     |   15.06  \n",
            "   3    |   180   |   0.084705   |     -      |     -     |   15.08  \n",
            "   3    |   200   |   0.094627   |     -      |     -     |   15.04  \n",
            "   3    |   220   |   0.091470   |     -      |     -     |   15.12  \n",
            "   3    |   240   |   0.157033   |     -      |     -     |   15.06  \n",
            "   3    |   260   |   0.069545   |     -      |     -     |   15.06  \n",
            "   3    |   280   |   0.129734   |     -      |     -     |   15.10  \n",
            "   3    |   300   |   0.105475   |     -      |     -     |   15.09  \n",
            "   3    |   320   |   0.129970   |     -      |     -     |   15.06  \n",
            "   3    |   340   |   0.097996   |     -      |     -     |   15.11  \n",
            "   3    |   360   |   0.091291   |     -      |     -     |   15.13  \n",
            "   3    |   380   |   0.106354   |     -      |     -     |   15.07  \n",
            "   3    |   400   |   0.198536   |     -      |     -     |   15.11  \n",
            "   3    |   420   |   0.094838   |     -      |     -     |   15.06  \n",
            "   3    |   440   |   0.112968   |     -      |     -     |   15.12  \n",
            "   3    |   460   |   0.116810   |     -      |     -     |   15.11  \n",
            "   3    |   480   |   0.113349   |     -      |     -     |   15.13  \n",
            "   3    |   500   |   0.149079   |     -      |     -     |   15.08  \n",
            "   3    |   520   |   0.134364   |     -      |     -     |   15.10  \n",
            "   3    |   540   |   0.133940   |     -      |     -     |   15.15  \n",
            "   3    |   560   |   0.159313   |     -      |     -     |   15.14  \n",
            "   3    |   580   |   0.097307   |     -      |     -     |   15.10  \n",
            "   3    |   600   |   0.120754   |     -      |     -     |   15.13  \n",
            "   3    |   620   |   0.101363   |     -      |     -     |   15.10  \n",
            "   3    |   640   |   0.123952   |     -      |     -     |   15.13  \n",
            "   3    |   660   |   0.089482   |     -      |     -     |   15.07  \n",
            "   3    |   680   |   0.148151   |     -      |     -     |   15.11  \n",
            "   3    |   700   |   0.072586   |     -      |     -     |   15.10  \n",
            "   3    |   720   |   0.123470   |     -      |     -     |   15.09  \n",
            "   3    |   740   |   0.117249   |     -      |     -     |   15.04  \n",
            "   3    |   760   |   0.137243   |     -      |     -     |   15.08  \n",
            "   3    |   780   |   0.165429   |     -      |     -     |   15.15  \n",
            "   3    |   800   |   0.050983   |     -      |     -     |   15.07  \n",
            "   3    |   820   |   0.073080   |     -      |     -     |   14.84  \n",
            "----------------------------------------------------------------------\n",
            "   3    |    -    |   0.121285   |  0.518699  |   88.79   |  643.83  \n",
            "----------------------------------------------------------------------\n",
            "\n",
            "\n",
            " Epoch  |  Batch  |  Train Loss  |  Val Loss  |  Val Acc  |  Elapsed \n",
            "----------------------------------------------------------------------\n",
            "   4    |   20    |   0.015712   |     -      |     -     |   15.78  \n",
            "   4    |   40    |   0.023586   |     -      |     -     |   15.10  \n",
            "   4    |   60    |   0.030460   |     -      |     -     |   15.05  \n",
            "   4    |   80    |   0.045033   |     -      |     -     |   15.07  \n",
            "   4    |   100   |   0.057500   |     -      |     -     |   15.02  \n",
            "   4    |   120   |   0.086194   |     -      |     -     |   15.07  \n",
            "   4    |   140   |   0.082018   |     -      |     -     |   15.07  \n",
            "   4    |   160   |   0.143751   |     -      |     -     |   15.06  \n",
            "   4    |   180   |   0.060699   |     -      |     -     |   15.04  \n",
            "   4    |   200   |   0.022306   |     -      |     -     |   15.05  \n",
            "   4    |   220   |   0.051332   |     -      |     -     |   15.04  \n",
            "   4    |   240   |   0.052866   |     -      |     -     |   15.03  \n",
            "   4    |   260   |   0.048602   |     -      |     -     |   15.04  \n",
            "   4    |   280   |   0.111590   |     -      |     -     |   15.04  \n",
            "   4    |   300   |   0.079425   |     -      |     -     |   15.04  \n",
            "   4    |   320   |   0.025775   |     -      |     -     |   15.04  \n",
            "   4    |   340   |   0.036098   |     -      |     -     |   15.01  \n",
            "   4    |   360   |   0.024402   |     -      |     -     |   15.02  \n",
            "   4    |   380   |   0.057191   |     -      |     -     |   15.03  \n",
            "   4    |   400   |   0.024460   |     -      |     -     |   15.01  \n",
            "   4    |   420   |   0.025152   |     -      |     -     |   14.99  \n",
            "   4    |   440   |   0.060305   |     -      |     -     |   15.03  \n",
            "   4    |   460   |   0.022455   |     -      |     -     |   15.04  \n",
            "   4    |   480   |   0.121067   |     -      |     -     |   15.08  \n",
            "   4    |   500   |   0.058292   |     -      |     -     |   15.04  \n",
            "   4    |   520   |   0.087742   |     -      |     -     |   15.08  \n",
            "   4    |   540   |   0.095721   |     -      |     -     |   15.08  \n",
            "   4    |   560   |   0.111925   |     -      |     -     |   15.05  \n",
            "   4    |   580   |   0.037591   |     -      |     -     |   15.09  \n",
            "   4    |   600   |   0.046672   |     -      |     -     |   15.13  \n",
            "   4    |   620   |   0.063738   |     -      |     -     |   15.02  \n",
            "   4    |   640   |   0.086539   |     -      |     -     |   15.03  \n",
            "   4    |   660   |   0.106911   |     -      |     -     |   15.02  \n",
            "   4    |   680   |   0.018005   |     -      |     -     |   15.06  \n",
            "   4    |   700   |   0.062402   |     -      |     -     |   15.07  \n",
            "   4    |   720   |   0.026738   |     -      |     -     |   15.09  \n",
            "   4    |   740   |   0.032700   |     -      |     -     |   15.11  \n",
            "   4    |   760   |   0.045178   |     -      |     -     |   15.09  \n",
            "   4    |   780   |   0.005640   |     -      |     -     |   15.01  \n",
            "   4    |   800   |   0.024252   |     -      |     -     |   15.00  \n",
            "   4    |   820   |   0.008708   |     -      |     -     |   14.86  \n",
            "----------------------------------------------------------------------\n",
            "   4    |    -    |   0.054264   |  0.588018  |   89.13   |  642.31  \n",
            "----------------------------------------------------------------------\n",
            "\n",
            "\n",
            "Training complete!\n",
            "Training time: 2572.5639894008636s\n"
          ],
          "name": "stdout"
        }
      ]
    },
    {
      "cell_type": "code",
      "metadata": {
        "id": "OBuMUHFG775N"
      },
      "source": [
        "import torch.nn.functional as F\n",
        "\n",
        "def bert_predict(model, test_dataloader):\n",
        "    \"\"\"Perform a forward pass on the trained BERT model to predict probabilities\n",
        "    on the test set.\n",
        "    \"\"\"\n",
        "    # Put the model into the evaluation mode. The dropout layers are disabled during\n",
        "    # the test time.\n",
        "    model.eval()\n",
        "\n",
        "    all_logits = []\n",
        "\n",
        "    # For each batch in our test set...\n",
        "    for batch in test_dataloader:\n",
        "        # Load batch to GPU\n",
        "        b_input_ids, b_attn_mask = tuple(t.to(device) for t in batch)[:2]\n",
        "\n",
        "        # Compute logits\n",
        "        with torch.no_grad():\n",
        "            logits = model(b_input_ids, b_attn_mask)\n",
        "        all_logits.append(logits)\n",
        "    \n",
        "    # Concatenate logits from each batch\n",
        "    all_logits = torch.cat(all_logits, dim=0)\n",
        "\n",
        "    # Apply softmax to calculate probabilities\n",
        "    probs = F.softmax(all_logits, dim=1).cpu().numpy()\n",
        "\n",
        "    return probs\n"
      ],
      "execution_count": 27,
      "outputs": []
    },
    {
      "cell_type": "code",
      "metadata": {
        "id": "ta7zT67n8xh2"
      },
      "source": [
        "from sklearn.metrics import accuracy_score, roc_curve, auc\n",
        "\n",
        "def evaluate_roc(probs, y_true):\n",
        "    \"\"\"\n",
        "    - Print AUC and accuracy on the test set\n",
        "    - Plot ROC\n",
        "    @params    probs (np.array): an array of predicted probabilities with shape (len(y_true), 2)\n",
        "    @params    y_true (np.array): an array of the true values with shape (len(y_true),)\n",
        "    \"\"\"\n",
        "    preds = probs[:, 1]\n",
        "    fpr, tpr, threshold = roc_curve(y_true, preds)\n",
        "    roc_auc = auc(fpr, tpr)\n",
        "    print(f'AUC: {roc_auc:.4f}')\n",
        "       \n",
        "    # Get accuracy over the test set\n",
        "    y_pred = np.where(preds >= 0.5, 1, 0)\n",
        "    accuracy = accuracy_score(y_true, y_pred)\n",
        "    print(f'Accuracy: {accuracy*100:.2f}%')\n",
        "    \n",
        "    # Plot ROC AUC\n",
        "    plt.title('Receiver Operating Characteristic')\n",
        "    plt.plot(fpr, tpr, 'b', label = 'AUC = %0.2f' % roc_auc)\n",
        "    plt.legend(loc = 'lower right')\n",
        "    plt.plot([0, 1], [0, 1],'r--')\n",
        "    plt.xlim([0, 1])\n",
        "    plt.ylim([0, 1])\n",
        "    plt.ylabel('True Positive Rate')\n",
        "    plt.xlabel('False Positive Rate')\n",
        "    plt.show()"
      ],
      "execution_count": 28,
      "outputs": []
    },
    {
      "cell_type": "markdown",
      "metadata": {
        "id": "m_3kWjoN76-R"
      },
      "source": [
        "#Evaluation\n",
        "\n",
        "1.   Prepare holdoustset with dataloaders\n",
        "2.   Predict\n",
        "\n"
      ]
    },
    {
      "cell_type": "code",
      "metadata": {
        "colab": {
          "base_uri": "https://localhost:8080/"
        },
        "id": "J1Y7V6RR8Wul",
        "outputId": "818a4f66-be09-419c-fb98-9cda1531743c"
      },
      "source": [
        "#holdout_df\n",
        "\n",
        "holdout_sentences = holdout_df.text\n",
        "holdout_label = holdout_df.rating\n",
        "\n",
        "\n",
        "test_inputs,test_masks = preprocessing_for_bert(holdout_sentences) \n",
        "\n",
        "#coverting to torch\n",
        "test_labels = torch.tensor(holdout_df.rating.array)\n",
        "#print(holdout_df.rating.array)\n",
        "print(test_inputs.shape)\n",
        "\n",
        "#create test Dataloader\n",
        "test_data = TensorDataset(test_inputs,test_masks,test_labels)\n",
        "test_sampler = RandomSampler(test_data)\n",
        "test_dataloader = DataLoader(test_data,sampler=test_sampler,batch_size=batch_size)\n",
        "\n",
        "\n",
        "\n"
      ],
      "execution_count": 29,
      "outputs": [
        {
          "output_type": "stream",
          "text": [
            "/usr/local/lib/python3.6/dist-packages/transformers/tokenization_utils_base.py:2022: FutureWarning: The `pad_to_max_length` argument is deprecated and will be removed in a future version, use `padding=True` or `padding='longest'` to pad to the longest sequence in the batch, or use `padding='max_length'` to pad to a max length. In this case, you can give a specific length with `max_length` (e.g. `max_length=45`) or leave max_length to None to pad to the maximal input size of the model (e.g. 512 for Bert).\n",
            "  FutureWarning,\n"
          ],
          "name": "stderr"
        },
        {
          "output_type": "stream",
          "text": [
            "torch.Size([1000, 256])\n"
          ],
          "name": "stdout"
        }
      ]
    },
    {
      "cell_type": "code",
      "metadata": {
        "id": "KJ_iO7sgRbIO"
      },
      "source": [
        "from sklearn.metrics import f1_score\n",
        "\n",
        "from sklearn.metrics import precision_score\n",
        "from sklearn.metrics import recall_score"
      ],
      "execution_count": 30,
      "outputs": []
    },
    {
      "cell_type": "code",
      "metadata": {
        "id": "WYI4RqDPRdak"
      },
      "source": [
        "def f1_score_func(preds, labels):\n",
        "    preds_flat = np.argmax(preds, axis=1)\n",
        "    labels_flat = labels\n",
        "    #print( )\n",
        "    return f1_score(labels_flat, preds_flat, average='weighted')"
      ],
      "execution_count": 31,
      "outputs": []
    },
    {
      "cell_type": "code",
      "metadata": {
        "colab": {
          "base_uri": "https://localhost:8080/"
        },
        "id": "b7x5opHd7-gN",
        "outputId": "96b1ca50-efca-4492-aba2-af2ca28cda4d"
      },
      "source": [
        "# Compute predicted probabilities on the test set\n",
        "probs = bert_predict(bert_classifier, test_dataloader)\n",
        "\n",
        "# Evaluate the Bert classifier\n",
        "#evaluate_roc(probs, holdout_label)\n",
        "\n",
        "print(\"F1 score: \", f1_score_func(probs,holdout_label))\n",
        "probs = np.argmax(probs, axis=1)\n",
        "accuracy = accuracy_score(holdout_label, probs)\n",
        "print(f'Accuracy: {accuracy*100:.2f}%')"
      ],
      "execution_count": 41,
      "outputs": [
        {
          "output_type": "stream",
          "text": [
            "F1 score:  0.48036520131130156\n",
            "Accuracy: 47.90%\n"
          ],
          "name": "stdout"
        }
      ]
    },
    {
      "cell_type": "code",
      "metadata": {
        "id": "tTlRLrPXLRuR",
        "outputId": "a278a3e7-e462-4378-852b-98da1b2b4971",
        "colab": {
          "base_uri": "https://localhost:8080/"
        }
      },
      "source": [
        "#print(\"Precision Score: \", precision_score( holdout_label, probs ))\n",
        "#print(\"Recall Score: \", recall_score( holdout_label, probs ))\n",
        "from sklearn.metrics import classification_report\n",
        "print(classification_report(holdout_label, probs, target_names=class_names))"
      ],
      "execution_count": 45,
      "outputs": [
        {
          "output_type": "stream",
          "text": [
            "              precision    recall  f1-score   support\n",
            "\n",
            "    negative       0.32      0.32      0.32       315\n",
            "    positive       0.61      0.61      0.61       616\n",
            "     neutral       0.05      0.06      0.06        69\n",
            "\n",
            "    accuracy                           0.48      1000\n",
            "   macro avg       0.33      0.33      0.33      1000\n",
            "weighted avg       0.48      0.48      0.48      1000\n",
            "\n"
          ],
          "name": "stdout"
        }
      ]
    }
  ]
}