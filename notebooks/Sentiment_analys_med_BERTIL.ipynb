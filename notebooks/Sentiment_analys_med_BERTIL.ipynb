{
  "nbformat": 4,
  "nbformat_minor": 0,
  "metadata": {
    "colab": {
      "name": "Sentiment analys med BERTIL.ipynb",
      "provenance": [],
      "collapsed_sections": [],
      "mount_file_id": "1US4RTR3XBWTNFm8Cx1eRpI1QbckhPQ1r",
      "authorship_tag": "ABX9TyNfOg1Q0YweFzWnQl6EbHin",
      "include_colab_link": true
    },
    "kernelspec": {
      "name": "python3",
      "display_name": "Python 3"
    },
    "accelerator": "GPU",
    "widgets": {
      "application/vnd.jupyter.widget-state+json": {
        "60d86826d22344d6bff470115b181e5b": {
          "model_module": "@jupyter-widgets/controls",
          "model_name": "HBoxModel",
          "state": {
            "_view_name": "HBoxView",
            "_dom_classes": [],
            "_model_name": "HBoxModel",
            "_view_module": "@jupyter-widgets/controls",
            "_model_module_version": "1.5.0",
            "_view_count": null,
            "_view_module_version": "1.5.0",
            "box_style": "",
            "layout": "IPY_MODEL_73bd97a3b201458b87fc29f6572f2879",
            "_model_module": "@jupyter-widgets/controls",
            "children": [
              "IPY_MODEL_2c17fdad0d78455fa793b332f25de1d7",
              "IPY_MODEL_dceeb486938443f8b08f365c64b68260"
            ]
          }
        },
        "73bd97a3b201458b87fc29f6572f2879": {
          "model_module": "@jupyter-widgets/base",
          "model_name": "LayoutModel",
          "state": {
            "_view_name": "LayoutView",
            "grid_template_rows": null,
            "right": null,
            "justify_content": null,
            "_view_module": "@jupyter-widgets/base",
            "overflow": null,
            "_model_module_version": "1.2.0",
            "_view_count": null,
            "flex_flow": null,
            "width": null,
            "min_width": null,
            "border": null,
            "align_items": null,
            "bottom": null,
            "_model_module": "@jupyter-widgets/base",
            "top": null,
            "grid_column": null,
            "overflow_y": null,
            "overflow_x": null,
            "grid_auto_flow": null,
            "grid_area": null,
            "grid_template_columns": null,
            "flex": null,
            "_model_name": "LayoutModel",
            "justify_items": null,
            "grid_row": null,
            "max_height": null,
            "align_content": null,
            "visibility": null,
            "align_self": null,
            "height": null,
            "min_height": null,
            "padding": null,
            "grid_auto_rows": null,
            "grid_gap": null,
            "max_width": null,
            "order": null,
            "_view_module_version": "1.2.0",
            "grid_template_areas": null,
            "object_position": null,
            "object_fit": null,
            "grid_auto_columns": null,
            "margin": null,
            "display": null,
            "left": null
          }
        },
        "2c17fdad0d78455fa793b332f25de1d7": {
          "model_module": "@jupyter-widgets/controls",
          "model_name": "FloatProgressModel",
          "state": {
            "_view_name": "ProgressView",
            "style": "IPY_MODEL_64b1e86357cc41cf878b090a1366e298",
            "_dom_classes": [],
            "description": "Downloading: 100%",
            "_model_name": "FloatProgressModel",
            "bar_style": "success",
            "max": 491,
            "_view_module": "@jupyter-widgets/controls",
            "_model_module_version": "1.5.0",
            "value": 491,
            "_view_count": null,
            "_view_module_version": "1.5.0",
            "orientation": "horizontal",
            "min": 0,
            "description_tooltip": null,
            "_model_module": "@jupyter-widgets/controls",
            "layout": "IPY_MODEL_fbd185283ee0476c93302003e094e0ed"
          }
        },
        "dceeb486938443f8b08f365c64b68260": {
          "model_module": "@jupyter-widgets/controls",
          "model_name": "HTMLModel",
          "state": {
            "_view_name": "HTMLView",
            "style": "IPY_MODEL_5c55cffd0dce48d59383658125e01934",
            "_dom_classes": [],
            "description": "",
            "_model_name": "HTMLModel",
            "placeholder": "​",
            "_view_module": "@jupyter-widgets/controls",
            "_model_module_version": "1.5.0",
            "value": " 491/491 [00:00&lt;00:00, 1.64kB/s]",
            "_view_count": null,
            "_view_module_version": "1.5.0",
            "description_tooltip": null,
            "_model_module": "@jupyter-widgets/controls",
            "layout": "IPY_MODEL_60f9ba8882d244b284515540a47174da"
          }
        },
        "64b1e86357cc41cf878b090a1366e298": {
          "model_module": "@jupyter-widgets/controls",
          "model_name": "ProgressStyleModel",
          "state": {
            "_view_name": "StyleView",
            "_model_name": "ProgressStyleModel",
            "description_width": "initial",
            "_view_module": "@jupyter-widgets/base",
            "_model_module_version": "1.5.0",
            "_view_count": null,
            "_view_module_version": "1.2.0",
            "bar_color": null,
            "_model_module": "@jupyter-widgets/controls"
          }
        },
        "fbd185283ee0476c93302003e094e0ed": {
          "model_module": "@jupyter-widgets/base",
          "model_name": "LayoutModel",
          "state": {
            "_view_name": "LayoutView",
            "grid_template_rows": null,
            "right": null,
            "justify_content": null,
            "_view_module": "@jupyter-widgets/base",
            "overflow": null,
            "_model_module_version": "1.2.0",
            "_view_count": null,
            "flex_flow": null,
            "width": null,
            "min_width": null,
            "border": null,
            "align_items": null,
            "bottom": null,
            "_model_module": "@jupyter-widgets/base",
            "top": null,
            "grid_column": null,
            "overflow_y": null,
            "overflow_x": null,
            "grid_auto_flow": null,
            "grid_area": null,
            "grid_template_columns": null,
            "flex": null,
            "_model_name": "LayoutModel",
            "justify_items": null,
            "grid_row": null,
            "max_height": null,
            "align_content": null,
            "visibility": null,
            "align_self": null,
            "height": null,
            "min_height": null,
            "padding": null,
            "grid_auto_rows": null,
            "grid_gap": null,
            "max_width": null,
            "order": null,
            "_view_module_version": "1.2.0",
            "grid_template_areas": null,
            "object_position": null,
            "object_fit": null,
            "grid_auto_columns": null,
            "margin": null,
            "display": null,
            "left": null
          }
        },
        "5c55cffd0dce48d59383658125e01934": {
          "model_module": "@jupyter-widgets/controls",
          "model_name": "DescriptionStyleModel",
          "state": {
            "_view_name": "StyleView",
            "_model_name": "DescriptionStyleModel",
            "description_width": "",
            "_view_module": "@jupyter-widgets/base",
            "_model_module_version": "1.5.0",
            "_view_count": null,
            "_view_module_version": "1.2.0",
            "_model_module": "@jupyter-widgets/controls"
          }
        },
        "60f9ba8882d244b284515540a47174da": {
          "model_module": "@jupyter-widgets/base",
          "model_name": "LayoutModel",
          "state": {
            "_view_name": "LayoutView",
            "grid_template_rows": null,
            "right": null,
            "justify_content": null,
            "_view_module": "@jupyter-widgets/base",
            "overflow": null,
            "_model_module_version": "1.2.0",
            "_view_count": null,
            "flex_flow": null,
            "width": null,
            "min_width": null,
            "border": null,
            "align_items": null,
            "bottom": null,
            "_model_module": "@jupyter-widgets/base",
            "top": null,
            "grid_column": null,
            "overflow_y": null,
            "overflow_x": null,
            "grid_auto_flow": null,
            "grid_area": null,
            "grid_template_columns": null,
            "flex": null,
            "_model_name": "LayoutModel",
            "justify_items": null,
            "grid_row": null,
            "max_height": null,
            "align_content": null,
            "visibility": null,
            "align_self": null,
            "height": null,
            "min_height": null,
            "padding": null,
            "grid_auto_rows": null,
            "grid_gap": null,
            "max_width": null,
            "order": null,
            "_view_module_version": "1.2.0",
            "grid_template_areas": null,
            "object_position": null,
            "object_fit": null,
            "grid_auto_columns": null,
            "margin": null,
            "display": null,
            "left": null
          }
        },
        "f1dedb01ed364418956cbfb5ea03cd00": {
          "model_module": "@jupyter-widgets/controls",
          "model_name": "HBoxModel",
          "state": {
            "_view_name": "HBoxView",
            "_dom_classes": [],
            "_model_name": "HBoxModel",
            "_view_module": "@jupyter-widgets/controls",
            "_model_module_version": "1.5.0",
            "_view_count": null,
            "_view_module_version": "1.5.0",
            "box_style": "",
            "layout": "IPY_MODEL_a363a03cd5834ba3a97335db98ea2655",
            "_model_module": "@jupyter-widgets/controls",
            "children": [
              "IPY_MODEL_f0b71a9b336142eb9a71936207ab0e47",
              "IPY_MODEL_a568197c3c204e0e8e37cf8ab052fd63"
            ]
          }
        },
        "a363a03cd5834ba3a97335db98ea2655": {
          "model_module": "@jupyter-widgets/base",
          "model_name": "LayoutModel",
          "state": {
            "_view_name": "LayoutView",
            "grid_template_rows": null,
            "right": null,
            "justify_content": null,
            "_view_module": "@jupyter-widgets/base",
            "overflow": null,
            "_model_module_version": "1.2.0",
            "_view_count": null,
            "flex_flow": null,
            "width": null,
            "min_width": null,
            "border": null,
            "align_items": null,
            "bottom": null,
            "_model_module": "@jupyter-widgets/base",
            "top": null,
            "grid_column": null,
            "overflow_y": null,
            "overflow_x": null,
            "grid_auto_flow": null,
            "grid_area": null,
            "grid_template_columns": null,
            "flex": null,
            "_model_name": "LayoutModel",
            "justify_items": null,
            "grid_row": null,
            "max_height": null,
            "align_content": null,
            "visibility": null,
            "align_self": null,
            "height": null,
            "min_height": null,
            "padding": null,
            "grid_auto_rows": null,
            "grid_gap": null,
            "max_width": null,
            "order": null,
            "_view_module_version": "1.2.0",
            "grid_template_areas": null,
            "object_position": null,
            "object_fit": null,
            "grid_auto_columns": null,
            "margin": null,
            "display": null,
            "left": null
          }
        },
        "f0b71a9b336142eb9a71936207ab0e47": {
          "model_module": "@jupyter-widgets/controls",
          "model_name": "FloatProgressModel",
          "state": {
            "_view_name": "ProgressView",
            "style": "IPY_MODEL_7b3c68ed30a64fe897219a06528e145a",
            "_dom_classes": [],
            "description": "Downloading: 100%",
            "_model_name": "FloatProgressModel",
            "bar_style": "success",
            "max": 399162,
            "_view_module": "@jupyter-widgets/controls",
            "_model_module_version": "1.5.0",
            "value": 399162,
            "_view_count": null,
            "_view_module_version": "1.5.0",
            "orientation": "horizontal",
            "min": 0,
            "description_tooltip": null,
            "_model_module": "@jupyter-widgets/controls",
            "layout": "IPY_MODEL_d79a2a89b2b14084a6cff3b4edc16d17"
          }
        },
        "a568197c3c204e0e8e37cf8ab052fd63": {
          "model_module": "@jupyter-widgets/controls",
          "model_name": "HTMLModel",
          "state": {
            "_view_name": "HTMLView",
            "style": "IPY_MODEL_b2a767fff42d4f7b8b5f91dc702c5309",
            "_dom_classes": [],
            "description": "",
            "_model_name": "HTMLModel",
            "placeholder": "​",
            "_view_module": "@jupyter-widgets/controls",
            "_model_module_version": "1.5.0",
            "value": " 399k/399k [00:00&lt;00:00, 480kB/s]",
            "_view_count": null,
            "_view_module_version": "1.5.0",
            "description_tooltip": null,
            "_model_module": "@jupyter-widgets/controls",
            "layout": "IPY_MODEL_a4345aeebe6948d9a21fd0875dde92c7"
          }
        },
        "7b3c68ed30a64fe897219a06528e145a": {
          "model_module": "@jupyter-widgets/controls",
          "model_name": "ProgressStyleModel",
          "state": {
            "_view_name": "StyleView",
            "_model_name": "ProgressStyleModel",
            "description_width": "initial",
            "_view_module": "@jupyter-widgets/base",
            "_model_module_version": "1.5.0",
            "_view_count": null,
            "_view_module_version": "1.2.0",
            "bar_color": null,
            "_model_module": "@jupyter-widgets/controls"
          }
        },
        "d79a2a89b2b14084a6cff3b4edc16d17": {
          "model_module": "@jupyter-widgets/base",
          "model_name": "LayoutModel",
          "state": {
            "_view_name": "LayoutView",
            "grid_template_rows": null,
            "right": null,
            "justify_content": null,
            "_view_module": "@jupyter-widgets/base",
            "overflow": null,
            "_model_module_version": "1.2.0",
            "_view_count": null,
            "flex_flow": null,
            "width": null,
            "min_width": null,
            "border": null,
            "align_items": null,
            "bottom": null,
            "_model_module": "@jupyter-widgets/base",
            "top": null,
            "grid_column": null,
            "overflow_y": null,
            "overflow_x": null,
            "grid_auto_flow": null,
            "grid_area": null,
            "grid_template_columns": null,
            "flex": null,
            "_model_name": "LayoutModel",
            "justify_items": null,
            "grid_row": null,
            "max_height": null,
            "align_content": null,
            "visibility": null,
            "align_self": null,
            "height": null,
            "min_height": null,
            "padding": null,
            "grid_auto_rows": null,
            "grid_gap": null,
            "max_width": null,
            "order": null,
            "_view_module_version": "1.2.0",
            "grid_template_areas": null,
            "object_position": null,
            "object_fit": null,
            "grid_auto_columns": null,
            "margin": null,
            "display": null,
            "left": null
          }
        },
        "b2a767fff42d4f7b8b5f91dc702c5309": {
          "model_module": "@jupyter-widgets/controls",
          "model_name": "DescriptionStyleModel",
          "state": {
            "_view_name": "StyleView",
            "_model_name": "DescriptionStyleModel",
            "description_width": "",
            "_view_module": "@jupyter-widgets/base",
            "_model_module_version": "1.5.0",
            "_view_count": null,
            "_view_module_version": "1.2.0",
            "_model_module": "@jupyter-widgets/controls"
          }
        },
        "a4345aeebe6948d9a21fd0875dde92c7": {
          "model_module": "@jupyter-widgets/base",
          "model_name": "LayoutModel",
          "state": {
            "_view_name": "LayoutView",
            "grid_template_rows": null,
            "right": null,
            "justify_content": null,
            "_view_module": "@jupyter-widgets/base",
            "overflow": null,
            "_model_module_version": "1.2.0",
            "_view_count": null,
            "flex_flow": null,
            "width": null,
            "min_width": null,
            "border": null,
            "align_items": null,
            "bottom": null,
            "_model_module": "@jupyter-widgets/base",
            "top": null,
            "grid_column": null,
            "overflow_y": null,
            "overflow_x": null,
            "grid_auto_flow": null,
            "grid_area": null,
            "grid_template_columns": null,
            "flex": null,
            "_model_name": "LayoutModel",
            "justify_items": null,
            "grid_row": null,
            "max_height": null,
            "align_content": null,
            "visibility": null,
            "align_self": null,
            "height": null,
            "min_height": null,
            "padding": null,
            "grid_auto_rows": null,
            "grid_gap": null,
            "max_width": null,
            "order": null,
            "_view_module_version": "1.2.0",
            "grid_template_areas": null,
            "object_position": null,
            "object_fit": null,
            "grid_auto_columns": null,
            "margin": null,
            "display": null,
            "left": null
          }
        },
        "5d9693381cf44ddebd92af0709bc9e0f": {
          "model_module": "@jupyter-widgets/controls",
          "model_name": "HBoxModel",
          "state": {
            "_view_name": "HBoxView",
            "_dom_classes": [],
            "_model_name": "HBoxModel",
            "_view_module": "@jupyter-widgets/controls",
            "_model_module_version": "1.5.0",
            "_view_count": null,
            "_view_module_version": "1.5.0",
            "box_style": "",
            "layout": "IPY_MODEL_e44ce4a6e3b14aa9be2cf8a34d1d6478",
            "_model_module": "@jupyter-widgets/controls",
            "children": [
              "IPY_MODEL_047cfeeb73df414486c641dff0531bb6",
              "IPY_MODEL_89e0213f91dd4213963e0e895cf5fa50"
            ]
          }
        },
        "e44ce4a6e3b14aa9be2cf8a34d1d6478": {
          "model_module": "@jupyter-widgets/base",
          "model_name": "LayoutModel",
          "state": {
            "_view_name": "LayoutView",
            "grid_template_rows": null,
            "right": null,
            "justify_content": null,
            "_view_module": "@jupyter-widgets/base",
            "overflow": null,
            "_model_module_version": "1.2.0",
            "_view_count": null,
            "flex_flow": null,
            "width": null,
            "min_width": null,
            "border": null,
            "align_items": null,
            "bottom": null,
            "_model_module": "@jupyter-widgets/base",
            "top": null,
            "grid_column": null,
            "overflow_y": null,
            "overflow_x": null,
            "grid_auto_flow": null,
            "grid_area": null,
            "grid_template_columns": null,
            "flex": null,
            "_model_name": "LayoutModel",
            "justify_items": null,
            "grid_row": null,
            "max_height": null,
            "align_content": null,
            "visibility": null,
            "align_self": null,
            "height": null,
            "min_height": null,
            "padding": null,
            "grid_auto_rows": null,
            "grid_gap": null,
            "max_width": null,
            "order": null,
            "_view_module_version": "1.2.0",
            "grid_template_areas": null,
            "object_position": null,
            "object_fit": null,
            "grid_auto_columns": null,
            "margin": null,
            "display": null,
            "left": null
          }
        },
        "047cfeeb73df414486c641dff0531bb6": {
          "model_module": "@jupyter-widgets/controls",
          "model_name": "FloatProgressModel",
          "state": {
            "_view_name": "ProgressView",
            "style": "IPY_MODEL_42caaba4a49049aaad8c377de039e599",
            "_dom_classes": [],
            "description": "Downloading: 100%",
            "_model_name": "FloatProgressModel",
            "bar_style": "success",
            "max": 2,
            "_view_module": "@jupyter-widgets/controls",
            "_model_module_version": "1.5.0",
            "value": 2,
            "_view_count": null,
            "_view_module_version": "1.5.0",
            "orientation": "horizontal",
            "min": 0,
            "description_tooltip": null,
            "_model_module": "@jupyter-widgets/controls",
            "layout": "IPY_MODEL_070bd771dbd141ffba3c30d3bdcf5095"
          }
        },
        "89e0213f91dd4213963e0e895cf5fa50": {
          "model_module": "@jupyter-widgets/controls",
          "model_name": "HTMLModel",
          "state": {
            "_view_name": "HTMLView",
            "style": "IPY_MODEL_4222cd307fc44b4394254fd13b07ecc7",
            "_dom_classes": [],
            "description": "",
            "_model_name": "HTMLModel",
            "placeholder": "​",
            "_view_module": "@jupyter-widgets/controls",
            "_model_module_version": "1.5.0",
            "value": " 2.00/2.00 [00:00&lt;00:00, 4.80B/s]",
            "_view_count": null,
            "_view_module_version": "1.5.0",
            "description_tooltip": null,
            "_model_module": "@jupyter-widgets/controls",
            "layout": "IPY_MODEL_d0be433a7fab49e9abca4de76ced789d"
          }
        },
        "42caaba4a49049aaad8c377de039e599": {
          "model_module": "@jupyter-widgets/controls",
          "model_name": "ProgressStyleModel",
          "state": {
            "_view_name": "StyleView",
            "_model_name": "ProgressStyleModel",
            "description_width": "initial",
            "_view_module": "@jupyter-widgets/base",
            "_model_module_version": "1.5.0",
            "_view_count": null,
            "_view_module_version": "1.2.0",
            "bar_color": null,
            "_model_module": "@jupyter-widgets/controls"
          }
        },
        "070bd771dbd141ffba3c30d3bdcf5095": {
          "model_module": "@jupyter-widgets/base",
          "model_name": "LayoutModel",
          "state": {
            "_view_name": "LayoutView",
            "grid_template_rows": null,
            "right": null,
            "justify_content": null,
            "_view_module": "@jupyter-widgets/base",
            "overflow": null,
            "_model_module_version": "1.2.0",
            "_view_count": null,
            "flex_flow": null,
            "width": null,
            "min_width": null,
            "border": null,
            "align_items": null,
            "bottom": null,
            "_model_module": "@jupyter-widgets/base",
            "top": null,
            "grid_column": null,
            "overflow_y": null,
            "overflow_x": null,
            "grid_auto_flow": null,
            "grid_area": null,
            "grid_template_columns": null,
            "flex": null,
            "_model_name": "LayoutModel",
            "justify_items": null,
            "grid_row": null,
            "max_height": null,
            "align_content": null,
            "visibility": null,
            "align_self": null,
            "height": null,
            "min_height": null,
            "padding": null,
            "grid_auto_rows": null,
            "grid_gap": null,
            "max_width": null,
            "order": null,
            "_view_module_version": "1.2.0",
            "grid_template_areas": null,
            "object_position": null,
            "object_fit": null,
            "grid_auto_columns": null,
            "margin": null,
            "display": null,
            "left": null
          }
        },
        "4222cd307fc44b4394254fd13b07ecc7": {
          "model_module": "@jupyter-widgets/controls",
          "model_name": "DescriptionStyleModel",
          "state": {
            "_view_name": "StyleView",
            "_model_name": "DescriptionStyleModel",
            "description_width": "",
            "_view_module": "@jupyter-widgets/base",
            "_model_module_version": "1.5.0",
            "_view_count": null,
            "_view_module_version": "1.2.0",
            "_model_module": "@jupyter-widgets/controls"
          }
        },
        "d0be433a7fab49e9abca4de76ced789d": {
          "model_module": "@jupyter-widgets/base",
          "model_name": "LayoutModel",
          "state": {
            "_view_name": "LayoutView",
            "grid_template_rows": null,
            "right": null,
            "justify_content": null,
            "_view_module": "@jupyter-widgets/base",
            "overflow": null,
            "_model_module_version": "1.2.0",
            "_view_count": null,
            "flex_flow": null,
            "width": null,
            "min_width": null,
            "border": null,
            "align_items": null,
            "bottom": null,
            "_model_module": "@jupyter-widgets/base",
            "top": null,
            "grid_column": null,
            "overflow_y": null,
            "overflow_x": null,
            "grid_auto_flow": null,
            "grid_area": null,
            "grid_template_columns": null,
            "flex": null,
            "_model_name": "LayoutModel",
            "justify_items": null,
            "grid_row": null,
            "max_height": null,
            "align_content": null,
            "visibility": null,
            "align_self": null,
            "height": null,
            "min_height": null,
            "padding": null,
            "grid_auto_rows": null,
            "grid_gap": null,
            "max_width": null,
            "order": null,
            "_view_module_version": "1.2.0",
            "grid_template_areas": null,
            "object_position": null,
            "object_fit": null,
            "grid_auto_columns": null,
            "margin": null,
            "display": null,
            "left": null
          }
        },
        "b8aedb041f004e3fa78c9e5b2a072a08": {
          "model_module": "@jupyter-widgets/controls",
          "model_name": "HBoxModel",
          "state": {
            "_view_name": "HBoxView",
            "_dom_classes": [],
            "_model_name": "HBoxModel",
            "_view_module": "@jupyter-widgets/controls",
            "_model_module_version": "1.5.0",
            "_view_count": null,
            "_view_module_version": "1.5.0",
            "box_style": "",
            "layout": "IPY_MODEL_9edc57caaf9b400694bcf2fde4b1dfbb",
            "_model_module": "@jupyter-widgets/controls",
            "children": [
              "IPY_MODEL_a6b265e80a30462589e10b02822c19d8",
              "IPY_MODEL_45e08a75fcf2417bb6954f4af38cc65e"
            ]
          }
        },
        "9edc57caaf9b400694bcf2fde4b1dfbb": {
          "model_module": "@jupyter-widgets/base",
          "model_name": "LayoutModel",
          "state": {
            "_view_name": "LayoutView",
            "grid_template_rows": null,
            "right": null,
            "justify_content": null,
            "_view_module": "@jupyter-widgets/base",
            "overflow": null,
            "_model_module_version": "1.2.0",
            "_view_count": null,
            "flex_flow": null,
            "width": null,
            "min_width": null,
            "border": null,
            "align_items": null,
            "bottom": null,
            "_model_module": "@jupyter-widgets/base",
            "top": null,
            "grid_column": null,
            "overflow_y": null,
            "overflow_x": null,
            "grid_auto_flow": null,
            "grid_area": null,
            "grid_template_columns": null,
            "flex": null,
            "_model_name": "LayoutModel",
            "justify_items": null,
            "grid_row": null,
            "max_height": null,
            "align_content": null,
            "visibility": null,
            "align_self": null,
            "height": null,
            "min_height": null,
            "padding": null,
            "grid_auto_rows": null,
            "grid_gap": null,
            "max_width": null,
            "order": null,
            "_view_module_version": "1.2.0",
            "grid_template_areas": null,
            "object_position": null,
            "object_fit": null,
            "grid_auto_columns": null,
            "margin": null,
            "display": null,
            "left": null
          }
        },
        "a6b265e80a30462589e10b02822c19d8": {
          "model_module": "@jupyter-widgets/controls",
          "model_name": "FloatProgressModel",
          "state": {
            "_view_name": "ProgressView",
            "style": "IPY_MODEL_d0d13750dfa24093bf1b8e370da24388",
            "_dom_classes": [],
            "description": "Downloading: 100%",
            "_model_name": "FloatProgressModel",
            "bar_style": "success",
            "max": 112,
            "_view_module": "@jupyter-widgets/controls",
            "_model_module_version": "1.5.0",
            "value": 112,
            "_view_count": null,
            "_view_module_version": "1.5.0",
            "orientation": "horizontal",
            "min": 0,
            "description_tooltip": null,
            "_model_module": "@jupyter-widgets/controls",
            "layout": "IPY_MODEL_967ee005b95f47a68dce593574c2658f"
          }
        },
        "45e08a75fcf2417bb6954f4af38cc65e": {
          "model_module": "@jupyter-widgets/controls",
          "model_name": "HTMLModel",
          "state": {
            "_view_name": "HTMLView",
            "style": "IPY_MODEL_3022ed0e853f4f81a537692ad511bd7c",
            "_dom_classes": [],
            "description": "",
            "_model_name": "HTMLModel",
            "placeholder": "​",
            "_view_module": "@jupyter-widgets/controls",
            "_model_module_version": "1.5.0",
            "value": " 112/112 [00:00&lt;00:00, 544B/s]",
            "_view_count": null,
            "_view_module_version": "1.5.0",
            "description_tooltip": null,
            "_model_module": "@jupyter-widgets/controls",
            "layout": "IPY_MODEL_7687d6556ac847438f697ea7f77d3eba"
          }
        },
        "d0d13750dfa24093bf1b8e370da24388": {
          "model_module": "@jupyter-widgets/controls",
          "model_name": "ProgressStyleModel",
          "state": {
            "_view_name": "StyleView",
            "_model_name": "ProgressStyleModel",
            "description_width": "initial",
            "_view_module": "@jupyter-widgets/base",
            "_model_module_version": "1.5.0",
            "_view_count": null,
            "_view_module_version": "1.2.0",
            "bar_color": null,
            "_model_module": "@jupyter-widgets/controls"
          }
        },
        "967ee005b95f47a68dce593574c2658f": {
          "model_module": "@jupyter-widgets/base",
          "model_name": "LayoutModel",
          "state": {
            "_view_name": "LayoutView",
            "grid_template_rows": null,
            "right": null,
            "justify_content": null,
            "_view_module": "@jupyter-widgets/base",
            "overflow": null,
            "_model_module_version": "1.2.0",
            "_view_count": null,
            "flex_flow": null,
            "width": null,
            "min_width": null,
            "border": null,
            "align_items": null,
            "bottom": null,
            "_model_module": "@jupyter-widgets/base",
            "top": null,
            "grid_column": null,
            "overflow_y": null,
            "overflow_x": null,
            "grid_auto_flow": null,
            "grid_area": null,
            "grid_template_columns": null,
            "flex": null,
            "_model_name": "LayoutModel",
            "justify_items": null,
            "grid_row": null,
            "max_height": null,
            "align_content": null,
            "visibility": null,
            "align_self": null,
            "height": null,
            "min_height": null,
            "padding": null,
            "grid_auto_rows": null,
            "grid_gap": null,
            "max_width": null,
            "order": null,
            "_view_module_version": "1.2.0",
            "grid_template_areas": null,
            "object_position": null,
            "object_fit": null,
            "grid_auto_columns": null,
            "margin": null,
            "display": null,
            "left": null
          }
        },
        "3022ed0e853f4f81a537692ad511bd7c": {
          "model_module": "@jupyter-widgets/controls",
          "model_name": "DescriptionStyleModel",
          "state": {
            "_view_name": "StyleView",
            "_model_name": "DescriptionStyleModel",
            "description_width": "",
            "_view_module": "@jupyter-widgets/base",
            "_model_module_version": "1.5.0",
            "_view_count": null,
            "_view_module_version": "1.2.0",
            "_model_module": "@jupyter-widgets/controls"
          }
        },
        "7687d6556ac847438f697ea7f77d3eba": {
          "model_module": "@jupyter-widgets/base",
          "model_name": "LayoutModel",
          "state": {
            "_view_name": "LayoutView",
            "grid_template_rows": null,
            "right": null,
            "justify_content": null,
            "_view_module": "@jupyter-widgets/base",
            "overflow": null,
            "_model_module_version": "1.2.0",
            "_view_count": null,
            "flex_flow": null,
            "width": null,
            "min_width": null,
            "border": null,
            "align_items": null,
            "bottom": null,
            "_model_module": "@jupyter-widgets/base",
            "top": null,
            "grid_column": null,
            "overflow_y": null,
            "overflow_x": null,
            "grid_auto_flow": null,
            "grid_area": null,
            "grid_template_columns": null,
            "flex": null,
            "_model_name": "LayoutModel",
            "justify_items": null,
            "grid_row": null,
            "max_height": null,
            "align_content": null,
            "visibility": null,
            "align_self": null,
            "height": null,
            "min_height": null,
            "padding": null,
            "grid_auto_rows": null,
            "grid_gap": null,
            "max_width": null,
            "order": null,
            "_view_module_version": "1.2.0",
            "grid_template_areas": null,
            "object_position": null,
            "object_fit": null,
            "grid_auto_columns": null,
            "margin": null,
            "display": null,
            "left": null
          }
        },
        "a7a35626bc804bd98e4a0b60de22d208": {
          "model_module": "@jupyter-widgets/controls",
          "model_name": "HBoxModel",
          "state": {
            "_view_name": "HBoxView",
            "_dom_classes": [],
            "_model_name": "HBoxModel",
            "_view_module": "@jupyter-widgets/controls",
            "_model_module_version": "1.5.0",
            "_view_count": null,
            "_view_module_version": "1.5.0",
            "box_style": "",
            "layout": "IPY_MODEL_b1e9f6577e7345a9b1e9cdc76fffa275",
            "_model_module": "@jupyter-widgets/controls",
            "children": [
              "IPY_MODEL_42aec5e81ac3452297bb8878b0927083",
              "IPY_MODEL_73c9ad87568a421f8171d26868fdb72d"
            ]
          }
        },
        "b1e9f6577e7345a9b1e9cdc76fffa275": {
          "model_module": "@jupyter-widgets/base",
          "model_name": "LayoutModel",
          "state": {
            "_view_name": "LayoutView",
            "grid_template_rows": null,
            "right": null,
            "justify_content": null,
            "_view_module": "@jupyter-widgets/base",
            "overflow": null,
            "_model_module_version": "1.2.0",
            "_view_count": null,
            "flex_flow": null,
            "width": null,
            "min_width": null,
            "border": null,
            "align_items": null,
            "bottom": null,
            "_model_module": "@jupyter-widgets/base",
            "top": null,
            "grid_column": null,
            "overflow_y": null,
            "overflow_x": null,
            "grid_auto_flow": null,
            "grid_area": null,
            "grid_template_columns": null,
            "flex": null,
            "_model_name": "LayoutModel",
            "justify_items": null,
            "grid_row": null,
            "max_height": null,
            "align_content": null,
            "visibility": null,
            "align_self": null,
            "height": null,
            "min_height": null,
            "padding": null,
            "grid_auto_rows": null,
            "grid_gap": null,
            "max_width": null,
            "order": null,
            "_view_module_version": "1.2.0",
            "grid_template_areas": null,
            "object_position": null,
            "object_fit": null,
            "grid_auto_columns": null,
            "margin": null,
            "display": null,
            "left": null
          }
        },
        "42aec5e81ac3452297bb8878b0927083": {
          "model_module": "@jupyter-widgets/controls",
          "model_name": "FloatProgressModel",
          "state": {
            "_view_name": "ProgressView",
            "style": "IPY_MODEL_85d5f736fb1543e9a4a9d417fa43f86e",
            "_dom_classes": [],
            "description": "Downloading: 100%",
            "_model_name": "FloatProgressModel",
            "bar_style": "success",
            "max": 48,
            "_view_module": "@jupyter-widgets/controls",
            "_model_module_version": "1.5.0",
            "value": 48,
            "_view_count": null,
            "_view_module_version": "1.5.0",
            "orientation": "horizontal",
            "min": 0,
            "description_tooltip": null,
            "_model_module": "@jupyter-widgets/controls",
            "layout": "IPY_MODEL_0e68c4c3140e47bc8a89849109f22e12"
          }
        },
        "73c9ad87568a421f8171d26868fdb72d": {
          "model_module": "@jupyter-widgets/controls",
          "model_name": "HTMLModel",
          "state": {
            "_view_name": "HTMLView",
            "style": "IPY_MODEL_974add481f4c4cbd9e215a41eac82755",
            "_dom_classes": [],
            "description": "",
            "_model_name": "HTMLModel",
            "placeholder": "​",
            "_view_module": "@jupyter-widgets/controls",
            "_model_module_version": "1.5.0",
            "value": " 48.0/48.0 [00:00&lt;00:00, 283B/s]",
            "_view_count": null,
            "_view_module_version": "1.5.0",
            "description_tooltip": null,
            "_model_module": "@jupyter-widgets/controls",
            "layout": "IPY_MODEL_2544407676cc46f29b01ec706b446dae"
          }
        },
        "85d5f736fb1543e9a4a9d417fa43f86e": {
          "model_module": "@jupyter-widgets/controls",
          "model_name": "ProgressStyleModel",
          "state": {
            "_view_name": "StyleView",
            "_model_name": "ProgressStyleModel",
            "description_width": "initial",
            "_view_module": "@jupyter-widgets/base",
            "_model_module_version": "1.5.0",
            "_view_count": null,
            "_view_module_version": "1.2.0",
            "bar_color": null,
            "_model_module": "@jupyter-widgets/controls"
          }
        },
        "0e68c4c3140e47bc8a89849109f22e12": {
          "model_module": "@jupyter-widgets/base",
          "model_name": "LayoutModel",
          "state": {
            "_view_name": "LayoutView",
            "grid_template_rows": null,
            "right": null,
            "justify_content": null,
            "_view_module": "@jupyter-widgets/base",
            "overflow": null,
            "_model_module_version": "1.2.0",
            "_view_count": null,
            "flex_flow": null,
            "width": null,
            "min_width": null,
            "border": null,
            "align_items": null,
            "bottom": null,
            "_model_module": "@jupyter-widgets/base",
            "top": null,
            "grid_column": null,
            "overflow_y": null,
            "overflow_x": null,
            "grid_auto_flow": null,
            "grid_area": null,
            "grid_template_columns": null,
            "flex": null,
            "_model_name": "LayoutModel",
            "justify_items": null,
            "grid_row": null,
            "max_height": null,
            "align_content": null,
            "visibility": null,
            "align_self": null,
            "height": null,
            "min_height": null,
            "padding": null,
            "grid_auto_rows": null,
            "grid_gap": null,
            "max_width": null,
            "order": null,
            "_view_module_version": "1.2.0",
            "grid_template_areas": null,
            "object_position": null,
            "object_fit": null,
            "grid_auto_columns": null,
            "margin": null,
            "display": null,
            "left": null
          }
        },
        "974add481f4c4cbd9e215a41eac82755": {
          "model_module": "@jupyter-widgets/controls",
          "model_name": "DescriptionStyleModel",
          "state": {
            "_view_name": "StyleView",
            "_model_name": "DescriptionStyleModel",
            "description_width": "",
            "_view_module": "@jupyter-widgets/base",
            "_model_module_version": "1.5.0",
            "_view_count": null,
            "_view_module_version": "1.2.0",
            "_model_module": "@jupyter-widgets/controls"
          }
        },
        "2544407676cc46f29b01ec706b446dae": {
          "model_module": "@jupyter-widgets/base",
          "model_name": "LayoutModel",
          "state": {
            "_view_name": "LayoutView",
            "grid_template_rows": null,
            "right": null,
            "justify_content": null,
            "_view_module": "@jupyter-widgets/base",
            "overflow": null,
            "_model_module_version": "1.2.0",
            "_view_count": null,
            "flex_flow": null,
            "width": null,
            "min_width": null,
            "border": null,
            "align_items": null,
            "bottom": null,
            "_model_module": "@jupyter-widgets/base",
            "top": null,
            "grid_column": null,
            "overflow_y": null,
            "overflow_x": null,
            "grid_auto_flow": null,
            "grid_area": null,
            "grid_template_columns": null,
            "flex": null,
            "_model_name": "LayoutModel",
            "justify_items": null,
            "grid_row": null,
            "max_height": null,
            "align_content": null,
            "visibility": null,
            "align_self": null,
            "height": null,
            "min_height": null,
            "padding": null,
            "grid_auto_rows": null,
            "grid_gap": null,
            "max_width": null,
            "order": null,
            "_view_module_version": "1.2.0",
            "grid_template_areas": null,
            "object_position": null,
            "object_fit": null,
            "grid_auto_columns": null,
            "margin": null,
            "display": null,
            "left": null
          }
        },
        "a5321d68f3e0468392629485cd6fdce6": {
          "model_module": "@jupyter-widgets/controls",
          "model_name": "HBoxModel",
          "state": {
            "_view_name": "HBoxView",
            "_dom_classes": [],
            "_model_name": "HBoxModel",
            "_view_module": "@jupyter-widgets/controls",
            "_model_module_version": "1.5.0",
            "_view_count": null,
            "_view_module_version": "1.5.0",
            "box_style": "",
            "layout": "IPY_MODEL_c6299e6e5ffa46fbbf11a0259a1e135d",
            "_model_module": "@jupyter-widgets/controls",
            "children": [
              "IPY_MODEL_121456da51cc4097859a0bc2ee006ac8",
              "IPY_MODEL_680f646e81824bbca51a2d16e5a5122a"
            ]
          }
        },
        "c6299e6e5ffa46fbbf11a0259a1e135d": {
          "model_module": "@jupyter-widgets/base",
          "model_name": "LayoutModel",
          "state": {
            "_view_name": "LayoutView",
            "grid_template_rows": null,
            "right": null,
            "justify_content": null,
            "_view_module": "@jupyter-widgets/base",
            "overflow": null,
            "_model_module_version": "1.2.0",
            "_view_count": null,
            "flex_flow": null,
            "width": null,
            "min_width": null,
            "border": null,
            "align_items": null,
            "bottom": null,
            "_model_module": "@jupyter-widgets/base",
            "top": null,
            "grid_column": null,
            "overflow_y": null,
            "overflow_x": null,
            "grid_auto_flow": null,
            "grid_area": null,
            "grid_template_columns": null,
            "flex": null,
            "_model_name": "LayoutModel",
            "justify_items": null,
            "grid_row": null,
            "max_height": null,
            "align_content": null,
            "visibility": null,
            "align_self": null,
            "height": null,
            "min_height": null,
            "padding": null,
            "grid_auto_rows": null,
            "grid_gap": null,
            "max_width": null,
            "order": null,
            "_view_module_version": "1.2.0",
            "grid_template_areas": null,
            "object_position": null,
            "object_fit": null,
            "grid_auto_columns": null,
            "margin": null,
            "display": null,
            "left": null
          }
        },
        "121456da51cc4097859a0bc2ee006ac8": {
          "model_module": "@jupyter-widgets/controls",
          "model_name": "FloatProgressModel",
          "state": {
            "_view_name": "ProgressView",
            "style": "IPY_MODEL_074d37433fcd4d0a895c3784a1957b3f",
            "_dom_classes": [],
            "description": "Downloading: 100%",
            "_model_name": "FloatProgressModel",
            "bar_style": "success",
            "max": 501379977,
            "_view_module": "@jupyter-widgets/controls",
            "_model_module_version": "1.5.0",
            "value": 501379977,
            "_view_count": null,
            "_view_module_version": "1.5.0",
            "orientation": "horizontal",
            "min": 0,
            "description_tooltip": null,
            "_model_module": "@jupyter-widgets/controls",
            "layout": "IPY_MODEL_7f3520d8803b4cb4ae5ff2578aaa2048"
          }
        },
        "680f646e81824bbca51a2d16e5a5122a": {
          "model_module": "@jupyter-widgets/controls",
          "model_name": "HTMLModel",
          "state": {
            "_view_name": "HTMLView",
            "style": "IPY_MODEL_3e0ef14395f24dd586e8971af992718c",
            "_dom_classes": [],
            "description": "",
            "_model_name": "HTMLModel",
            "placeholder": "​",
            "_view_module": "@jupyter-widgets/controls",
            "_model_module_version": "1.5.0",
            "value": " 501M/501M [00:12&lt;00:00, 40.6MB/s]",
            "_view_count": null,
            "_view_module_version": "1.5.0",
            "description_tooltip": null,
            "_model_module": "@jupyter-widgets/controls",
            "layout": "IPY_MODEL_d0e2e90c4fb5427284d7eb84aca5a099"
          }
        },
        "074d37433fcd4d0a895c3784a1957b3f": {
          "model_module": "@jupyter-widgets/controls",
          "model_name": "ProgressStyleModel",
          "state": {
            "_view_name": "StyleView",
            "_model_name": "ProgressStyleModel",
            "description_width": "initial",
            "_view_module": "@jupyter-widgets/base",
            "_model_module_version": "1.5.0",
            "_view_count": null,
            "_view_module_version": "1.2.0",
            "bar_color": null,
            "_model_module": "@jupyter-widgets/controls"
          }
        },
        "7f3520d8803b4cb4ae5ff2578aaa2048": {
          "model_module": "@jupyter-widgets/base",
          "model_name": "LayoutModel",
          "state": {
            "_view_name": "LayoutView",
            "grid_template_rows": null,
            "right": null,
            "justify_content": null,
            "_view_module": "@jupyter-widgets/base",
            "overflow": null,
            "_model_module_version": "1.2.0",
            "_view_count": null,
            "flex_flow": null,
            "width": null,
            "min_width": null,
            "border": null,
            "align_items": null,
            "bottom": null,
            "_model_module": "@jupyter-widgets/base",
            "top": null,
            "grid_column": null,
            "overflow_y": null,
            "overflow_x": null,
            "grid_auto_flow": null,
            "grid_area": null,
            "grid_template_columns": null,
            "flex": null,
            "_model_name": "LayoutModel",
            "justify_items": null,
            "grid_row": null,
            "max_height": null,
            "align_content": null,
            "visibility": null,
            "align_self": null,
            "height": null,
            "min_height": null,
            "padding": null,
            "grid_auto_rows": null,
            "grid_gap": null,
            "max_width": null,
            "order": null,
            "_view_module_version": "1.2.0",
            "grid_template_areas": null,
            "object_position": null,
            "object_fit": null,
            "grid_auto_columns": null,
            "margin": null,
            "display": null,
            "left": null
          }
        },
        "3e0ef14395f24dd586e8971af992718c": {
          "model_module": "@jupyter-widgets/controls",
          "model_name": "DescriptionStyleModel",
          "state": {
            "_view_name": "StyleView",
            "_model_name": "DescriptionStyleModel",
            "description_width": "",
            "_view_module": "@jupyter-widgets/base",
            "_model_module_version": "1.5.0",
            "_view_count": null,
            "_view_module_version": "1.2.0",
            "_model_module": "@jupyter-widgets/controls"
          }
        },
        "d0e2e90c4fb5427284d7eb84aca5a099": {
          "model_module": "@jupyter-widgets/base",
          "model_name": "LayoutModel",
          "state": {
            "_view_name": "LayoutView",
            "grid_template_rows": null,
            "right": null,
            "justify_content": null,
            "_view_module": "@jupyter-widgets/base",
            "overflow": null,
            "_model_module_version": "1.2.0",
            "_view_count": null,
            "flex_flow": null,
            "width": null,
            "min_width": null,
            "border": null,
            "align_items": null,
            "bottom": null,
            "_model_module": "@jupyter-widgets/base",
            "top": null,
            "grid_column": null,
            "overflow_y": null,
            "overflow_x": null,
            "grid_auto_flow": null,
            "grid_area": null,
            "grid_template_columns": null,
            "flex": null,
            "_model_name": "LayoutModel",
            "justify_items": null,
            "grid_row": null,
            "max_height": null,
            "align_content": null,
            "visibility": null,
            "align_self": null,
            "height": null,
            "min_height": null,
            "padding": null,
            "grid_auto_rows": null,
            "grid_gap": null,
            "max_width": null,
            "order": null,
            "_view_module_version": "1.2.0",
            "grid_template_areas": null,
            "object_position": null,
            "object_fit": null,
            "grid_auto_columns": null,
            "margin": null,
            "display": null,
            "left": null
          }
        }
      }
    }
  },
  "cells": [
    {
      "cell_type": "markdown",
      "metadata": {
        "id": "view-in-github",
        "colab_type": "text"
      },
      "source": [
        "<a href=\"https://colab.research.google.com/github/mosh98/Swedish_Sentiment_BERTIL/blob/main/Sentiment_analys_med_BERTIL.ipynb\" target=\"_parent\"><img src=\"https://colab.research.google.com/assets/colab-badge.svg\" alt=\"Open In Colab\"/></a>"
      ]
    },
    {
      "cell_type": "markdown",
      "metadata": {
        "id": "E1ELbYA5wiVK"
      },
      "source": [
        "##Text preprocessing \n",
        "\n",
        "https://www.youtube.com/watch?v=Osj0Z6rwJB4&t=192s&ab_channel=VenelinValkov\n",
        "\n",
        "\n",
        "\n",
        "https://curiousily.com/posts/sentiment-analysis-with-bert-and-hugging-face-using-pytorch-and-python/\n",
        "\n",
        "\n",
        "##sentiment analysis coursera\n",
        "\n",
        "https://colab.research.google.com/drive/1Ducj_Cp2CiR0Z3chcon8mnZAK1wOMxI8#scrollTo=EMoNIl88syJN\n",
        "\n"
      ]
    },
    {
      "cell_type": "code",
      "metadata": {
        "id": "2qIfufpXnVaw",
        "outputId": "d6419124-c1c3-4deb-81a3-826f990dd07a",
        "colab": {
          "base_uri": "https://localhost:8080/"
        }
      },
      "source": [
        "import pandas as pd\n",
        "!git clone https://github.com/Kungbib/swedish-bert-models\n",
        "!cd swedish-bert-models\n",
        "!python3 -m venv venv\n",
        "!source venv/bin/activate\n",
        "!pip install --upgrade pip"
      ],
      "execution_count": null,
      "outputs": [
        {
          "output_type": "stream",
          "text": [
            "Cloning into 'swedish-bert-models'...\n",
            "remote: Enumerating objects: 30, done.\u001b[K\n",
            "remote: Counting objects: 100% (30/30), done.\u001b[K\n",
            "remote: Compressing objects: 100% (30/30), done.\u001b[K\n",
            "remote: Total 232 (delta 9), reused 0 (delta 0), pack-reused 202\u001b[K\n",
            "Receiving objects: 100% (232/232), 41.73 KiB | 8.35 MiB/s, done.\n",
            "Resolving deltas: 100% (74/74), done.\n",
            "The virtual environment was not created successfully because ensurepip is not\n",
            "available.  On Debian/Ubuntu systems, you need to install the python3-venv\n",
            "package using the following command.\n",
            "\n",
            "    apt-get install python3-venv\n",
            "\n",
            "You may need to use sudo with that command.  After installing the python3-venv\n",
            "package, recreate your virtual environment.\n",
            "\n",
            "Failing command: ['/content/venv/bin/python3', '-Im', 'ensurepip', '--upgrade', '--default-pip']\n",
            "\n",
            "/bin/bash: venv/bin/activate: No such file or directory\n",
            "Collecting pip\n",
            "\u001b[?25l  Downloading https://files.pythonhosted.org/packages/cb/28/91f26bd088ce8e22169032100d4260614fc3da435025ff389ef1d396a433/pip-20.2.4-py2.py3-none-any.whl (1.5MB)\n",
            "\u001b[K     |████████████████████████████████| 1.5MB 13.2MB/s \n",
            "\u001b[?25hInstalling collected packages: pip\n",
            "  Found existing installation: pip 19.3.1\n",
            "    Uninstalling pip-19.3.1:\n",
            "      Successfully uninstalled pip-19.3.1\n",
            "Successfully installed pip-20.2.4\n"
          ],
          "name": "stdout"
        }
      ]
    },
    {
      "cell_type": "code",
      "metadata": {
        "id": "jzWY7qFEjq8S",
        "outputId": "729b5ce3-7396-4d65-a3fb-972e8e4c209f",
        "colab": {
          "base_uri": "https://localhost:8080/"
        }
      },
      "source": [
        "!pip install -r /content/swedish-bert-models/requirements.txt"
      ],
      "execution_count": null,
      "outputs": [
        {
          "output_type": "stream",
          "text": [
            "Collecting transformers>=2.4.1\n",
            "  Downloading transformers-3.5.1-py3-none-any.whl (1.3 MB)\n",
            "\u001b[?25l\r\u001b[K     |▎                               | 10 kB 32.4 MB/s eta 0:00:01\r\u001b[K     |▌                               | 20 kB 34.4 MB/s eta 0:00:01\r\u001b[K     |▊                               | 30 kB 39.6 MB/s eta 0:00:01\r\u001b[K     |█                               | 40 kB 42.9 MB/s eta 0:00:01\r\u001b[K     |█▎                              | 51 kB 44.6 MB/s eta 0:00:01\r\u001b[K     |█▌                              | 61 kB 42.5 MB/s eta 0:00:01\r\u001b[K     |█▊                              | 71 kB 42.9 MB/s eta 0:00:01\r\u001b[K     |██                              | 81 kB 33.1 MB/s eta 0:00:01\r\u001b[K     |██▎                             | 92 kB 27.7 MB/s eta 0:00:01\r\u001b[K     |██▌                             | 102 kB 28.1 MB/s eta 0:00:01\r\u001b[K     |██▊                             | 112 kB 28.1 MB/s eta 0:00:01\r\u001b[K     |███                             | 122 kB 28.1 MB/s eta 0:00:01\r\u001b[K     |███▎                            | 133 kB 28.1 MB/s eta 0:00:01\r\u001b[K     |███▌                            | 143 kB 28.1 MB/s eta 0:00:01\r\u001b[K     |███▉                            | 153 kB 28.1 MB/s eta 0:00:01\r\u001b[K     |████                            | 163 kB 28.1 MB/s eta 0:00:01\r\u001b[K     |████▎                           | 174 kB 28.1 MB/s eta 0:00:01\r\u001b[K     |████▌                           | 184 kB 28.1 MB/s eta 0:00:01\r\u001b[K     |████▉                           | 194 kB 28.1 MB/s eta 0:00:01\r\u001b[K     |█████                           | 204 kB 28.1 MB/s eta 0:00:01\r\u001b[K     |█████▎                          | 215 kB 28.1 MB/s eta 0:00:01\r\u001b[K     |█████▌                          | 225 kB 28.1 MB/s eta 0:00:01\r\u001b[K     |█████▉                          | 235 kB 28.1 MB/s eta 0:00:01\r\u001b[K     |██████                          | 245 kB 28.1 MB/s eta 0:00:01\r\u001b[K     |██████▎                         | 256 kB 28.1 MB/s eta 0:00:01\r\u001b[K     |██████▌                         | 266 kB 28.1 MB/s eta 0:00:01\r\u001b[K     |██████▉                         | 276 kB 28.1 MB/s eta 0:00:01\r\u001b[K     |███████                         | 286 kB 28.1 MB/s eta 0:00:01\r\u001b[K     |███████▎                        | 296 kB 28.1 MB/s eta 0:00:01\r\u001b[K     |███████▋                        | 307 kB 28.1 MB/s eta 0:00:01\r\u001b[K     |███████▉                        | 317 kB 28.1 MB/s eta 0:00:01\r\u001b[K     |████████                        | 327 kB 28.1 MB/s eta 0:00:01\r\u001b[K     |████████▎                       | 337 kB 28.1 MB/s eta 0:00:01\r\u001b[K     |████████▋                       | 348 kB 28.1 MB/s eta 0:00:01\r\u001b[K     |████████▉                       | 358 kB 28.1 MB/s eta 0:00:01\r\u001b[K     |█████████                       | 368 kB 28.1 MB/s eta 0:00:01\r\u001b[K     |█████████▎                      | 378 kB 28.1 MB/s eta 0:00:01\r\u001b[K     |█████████▋                      | 389 kB 28.1 MB/s eta 0:00:01\r\u001b[K     |█████████▉                      | 399 kB 28.1 MB/s eta 0:00:01\r\u001b[K     |██████████                      | 409 kB 28.1 MB/s eta 0:00:01\r\u001b[K     |██████████▎                     | 419 kB 28.1 MB/s eta 0:00:01\r\u001b[K     |██████████▋                     | 430 kB 28.1 MB/s eta 0:00:01\r\u001b[K     |██████████▉                     | 440 kB 28.1 MB/s eta 0:00:01\r\u001b[K     |███████████                     | 450 kB 28.1 MB/s eta 0:00:01\r\u001b[K     |███████████▍                    | 460 kB 28.1 MB/s eta 0:00:01\r\u001b[K     |███████████▋                    | 471 kB 28.1 MB/s eta 0:00:01\r\u001b[K     |███████████▉                    | 481 kB 28.1 MB/s eta 0:00:01\r\u001b[K     |████████████                    | 491 kB 28.1 MB/s eta 0:00:01\r\u001b[K     |████████████▍                   | 501 kB 28.1 MB/s eta 0:00:01\r\u001b[K     |████████████▋                   | 512 kB 28.1 MB/s eta 0:00:01\r\u001b[K     |████████████▉                   | 522 kB 28.1 MB/s eta 0:00:01\r\u001b[K     |█████████████                   | 532 kB 28.1 MB/s eta 0:00:01\r\u001b[K     |█████████████▍                  | 542 kB 28.1 MB/s eta 0:00:01\r\u001b[K     |█████████████▋                  | 552 kB 28.1 MB/s eta 0:00:01\r\u001b[K     |█████████████▉                  | 563 kB 28.1 MB/s eta 0:00:01\r\u001b[K     |██████████████                  | 573 kB 28.1 MB/s eta 0:00:01\r\u001b[K     |██████████████▍                 | 583 kB 28.1 MB/s eta 0:00:01\r\u001b[K     |██████████████▋                 | 593 kB 28.1 MB/s eta 0:00:01\r\u001b[K     |██████████████▉                 | 604 kB 28.1 MB/s eta 0:00:01\r\u001b[K     |███████████████▏                | 614 kB 28.1 MB/s eta 0:00:01\r\u001b[K     |███████████████▍                | 624 kB 28.1 MB/s eta 0:00:01\r\u001b[K     |███████████████▋                | 634 kB 28.1 MB/s eta 0:00:01\r\u001b[K     |███████████████▉                | 645 kB 28.1 MB/s eta 0:00:01\r\u001b[K     |████████████████▏               | 655 kB 28.1 MB/s eta 0:00:01\r\u001b[K     |████████████████▍               | 665 kB 28.1 MB/s eta 0:00:01\r\u001b[K     |████████████████▋               | 675 kB 28.1 MB/s eta 0:00:01\r\u001b[K     |████████████████▉               | 686 kB 28.1 MB/s eta 0:00:01\r\u001b[K     |█████████████████▏              | 696 kB 28.1 MB/s eta 0:00:01\r\u001b[K     |█████████████████▍              | 706 kB 28.1 MB/s eta 0:00:01\r\u001b[K     |█████████████████▋              | 716 kB 28.1 MB/s eta 0:00:01\r\u001b[K     |██████████████████              | 727 kB 28.1 MB/s eta 0:00:01\r\u001b[K     |██████████████████▏             | 737 kB 28.1 MB/s eta 0:00:01\r\u001b[K     |██████████████████▍             | 747 kB 28.1 MB/s eta 0:00:01\r\u001b[K     |██████████████████▋             | 757 kB 28.1 MB/s eta 0:00:01\r\u001b[K     |███████████████████             | 768 kB 28.1 MB/s eta 0:00:01\r\u001b[K     |███████████████████▏            | 778 kB 28.1 MB/s eta 0:00:01\r\u001b[K     |███████████████████▍            | 788 kB 28.1 MB/s eta 0:00:01\r\u001b[K     |███████████████████▋            | 798 kB 28.1 MB/s eta 0:00:01\r\u001b[K     |████████████████████            | 808 kB 28.1 MB/s eta 0:00:01\r\u001b[K     |████████████████████▏           | 819 kB 28.1 MB/s eta 0:00:01\r\u001b[K     |████████████████████▍           | 829 kB 28.1 MB/s eta 0:00:01\r\u001b[K     |████████████████████▋           | 839 kB 28.1 MB/s eta 0:00:01\r\u001b[K     |█████████████████████           | 849 kB 28.1 MB/s eta 0:00:01\r\u001b[K     |█████████████████████▏          | 860 kB 28.1 MB/s eta 0:00:01\r\u001b[K     |█████████████████████▍          | 870 kB 28.1 MB/s eta 0:00:01\r\u001b[K     |█████████████████████▊          | 880 kB 28.1 MB/s eta 0:00:01\r\u001b[K     |██████████████████████          | 890 kB 28.1 MB/s eta 0:00:01\r\u001b[K     |██████████████████████▏         | 901 kB 28.1 MB/s eta 0:00:01\r\u001b[K     |██████████████████████▍         | 911 kB 28.1 MB/s eta 0:00:01\r\u001b[K     |██████████████████████▊         | 921 kB 28.1 MB/s eta 0:00:01\r\u001b[K     |███████████████████████         | 931 kB 28.1 MB/s eta 0:00:01\r\u001b[K     |███████████████████████▏        | 942 kB 28.1 MB/s eta 0:00:01\r\u001b[K     |███████████████████████▍        | 952 kB 28.1 MB/s eta 0:00:01\r\u001b[K     |███████████████████████▊        | 962 kB 28.1 MB/s eta 0:00:01\r\u001b[K     |████████████████████████        | 972 kB 28.1 MB/s eta 0:00:01\r\u001b[K     |████████████████████████▏       | 983 kB 28.1 MB/s eta 0:00:01\r\u001b[K     |████████████████████████▍       | 993 kB 28.1 MB/s eta 0:00:01\r\u001b[K     |████████████████████████▊       | 1.0 MB 28.1 MB/s eta 0:00:01\r\u001b[K     |█████████████████████████       | 1.0 MB 28.1 MB/s eta 0:00:01\r\u001b[K     |█████████████████████████▏      | 1.0 MB 28.1 MB/s eta 0:00:01\r\u001b[K     |█████████████████████████▌      | 1.0 MB 28.1 MB/s eta 0:00:01\r\u001b[K     |█████████████████████████▊      | 1.0 MB 28.1 MB/s eta 0:00:01\r\u001b[K     |██████████████████████████      | 1.1 MB 28.1 MB/s eta 0:00:01\r\u001b[K     |██████████████████████████▏     | 1.1 MB 28.1 MB/s eta 0:00:01\r\u001b[K     |██████████████████████████▌     | 1.1 MB 28.1 MB/s eta 0:00:01\r\u001b[K     |██████████████████████████▊     | 1.1 MB 28.1 MB/s eta 0:00:01\r\u001b[K     |███████████████████████████     | 1.1 MB 28.1 MB/s eta 0:00:01\r\u001b[K     |███████████████████████████▏    | 1.1 MB 28.1 MB/s eta 0:00:01\r\u001b[K     |███████████████████████████▌    | 1.1 MB 28.1 MB/s eta 0:00:01\r\u001b[K     |███████████████████████████▊    | 1.1 MB 28.1 MB/s eta 0:00:01\r\u001b[K     |████████████████████████████    | 1.1 MB 28.1 MB/s eta 0:00:01\r\u001b[K     |████████████████████████████▏   | 1.1 MB 28.1 MB/s eta 0:00:01\r\u001b[K     |████████████████████████████▌   | 1.2 MB 28.1 MB/s eta 0:00:01\r\u001b[K     |████████████████████████████▊   | 1.2 MB 28.1 MB/s eta 0:00:01\r\u001b[K     |█████████████████████████████   | 1.2 MB 28.1 MB/s eta 0:00:01\r\u001b[K     |█████████████████████████████▎  | 1.2 MB 28.1 MB/s eta 0:00:01\r\u001b[K     |█████████████████████████████▌  | 1.2 MB 28.1 MB/s eta 0:00:01\r\u001b[K     |█████████████████████████████▊  | 1.2 MB 28.1 MB/s eta 0:00:01\r\u001b[K     |██████████████████████████████  | 1.2 MB 28.1 MB/s eta 0:00:01\r\u001b[K     |██████████████████████████████▎ | 1.2 MB 28.1 MB/s eta 0:00:01\r\u001b[K     |██████████████████████████████▌ | 1.2 MB 28.1 MB/s eta 0:00:01\r\u001b[K     |██████████████████████████████▊ | 1.2 MB 28.1 MB/s eta 0:00:01\r\u001b[K     |███████████████████████████████ | 1.3 MB 28.1 MB/s eta 0:00:01\r\u001b[K     |███████████████████████████████▎| 1.3 MB 28.1 MB/s eta 0:00:01\r\u001b[K     |███████████████████████████████▌| 1.3 MB 28.1 MB/s eta 0:00:01\r\u001b[K     |███████████████████████████████▊| 1.3 MB 28.1 MB/s eta 0:00:01\r\u001b[K     |████████████████████████████████| 1.3 MB 28.1 MB/s eta 0:00:01\r\u001b[K     |████████████████████████████████| 1.3 MB 28.1 MB/s \n",
            "\u001b[?25hRequirement already satisfied: torch>=1.3.1 in /usr/local/lib/python3.6/dist-packages (from -r /content/swedish-bert-models/requirements.txt (line 2)) (1.7.0+cu101)\n",
            "Collecting sentencepiece==0.1.91\n",
            "  Downloading sentencepiece-0.1.91-cp36-cp36m-manylinux1_x86_64.whl (1.1 MB)\n",
            "\u001b[K     |████████████████████████████████| 1.1 MB 59.6 MB/s \n",
            "\u001b[?25hRequirement already satisfied: tqdm>=4.27 in /usr/local/lib/python3.6/dist-packages (from transformers>=2.4.1->-r /content/swedish-bert-models/requirements.txt (line 1)) (4.41.1)\n",
            "Requirement already satisfied: dataclasses; python_version < \"3.7\" in /usr/local/lib/python3.6/dist-packages (from transformers>=2.4.1->-r /content/swedish-bert-models/requirements.txt (line 1)) (0.7)\n",
            "Requirement already satisfied: regex!=2019.12.17 in /usr/local/lib/python3.6/dist-packages (from transformers>=2.4.1->-r /content/swedish-bert-models/requirements.txt (line 1)) (2019.12.20)\n",
            "Requirement already satisfied: requests in /usr/local/lib/python3.6/dist-packages (from transformers>=2.4.1->-r /content/swedish-bert-models/requirements.txt (line 1)) (2.23.0)\n",
            "Requirement already satisfied: numpy in /usr/local/lib/python3.6/dist-packages (from transformers>=2.4.1->-r /content/swedish-bert-models/requirements.txt (line 1)) (1.18.5)\n",
            "Requirement already satisfied: filelock in /usr/local/lib/python3.6/dist-packages (from transformers>=2.4.1->-r /content/swedish-bert-models/requirements.txt (line 1)) (3.0.12)\n",
            "Collecting sacremoses\n",
            "  Downloading sacremoses-0.0.43.tar.gz (883 kB)\n",
            "\u001b[K     |████████████████████████████████| 883 kB 66.1 MB/s \n",
            "\u001b[?25hRequirement already satisfied: protobuf in /usr/local/lib/python3.6/dist-packages (from transformers>=2.4.1->-r /content/swedish-bert-models/requirements.txt (line 1)) (3.12.4)\n",
            "Requirement already satisfied: packaging in /usr/local/lib/python3.6/dist-packages (from transformers>=2.4.1->-r /content/swedish-bert-models/requirements.txt (line 1)) (20.4)\n",
            "Collecting tokenizers==0.9.3\n",
            "  Downloading tokenizers-0.9.3-cp36-cp36m-manylinux1_x86_64.whl (2.9 MB)\n",
            "\u001b[K     |████████████████████████████████| 2.9 MB 63.7 MB/s \n",
            "\u001b[?25hRequirement already satisfied: typing-extensions in /usr/local/lib/python3.6/dist-packages (from torch>=1.3.1->-r /content/swedish-bert-models/requirements.txt (line 2)) (3.7.4.3)\n",
            "Requirement already satisfied: future in /usr/local/lib/python3.6/dist-packages (from torch>=1.3.1->-r /content/swedish-bert-models/requirements.txt (line 2)) (0.16.0)\n",
            "Requirement already satisfied: idna<3,>=2.5 in /usr/local/lib/python3.6/dist-packages (from requests->transformers>=2.4.1->-r /content/swedish-bert-models/requirements.txt (line 1)) (2.10)\n",
            "Requirement already satisfied: urllib3!=1.25.0,!=1.25.1,<1.26,>=1.21.1 in /usr/local/lib/python3.6/dist-packages (from requests->transformers>=2.4.1->-r /content/swedish-bert-models/requirements.txt (line 1)) (1.24.3)\n",
            "Requirement already satisfied: chardet<4,>=3.0.2 in /usr/local/lib/python3.6/dist-packages (from requests->transformers>=2.4.1->-r /content/swedish-bert-models/requirements.txt (line 1)) (3.0.4)\n",
            "Requirement already satisfied: certifi>=2017.4.17 in /usr/local/lib/python3.6/dist-packages (from requests->transformers>=2.4.1->-r /content/swedish-bert-models/requirements.txt (line 1)) (2020.6.20)\n",
            "Requirement already satisfied: six in /usr/local/lib/python3.6/dist-packages (from sacremoses->transformers>=2.4.1->-r /content/swedish-bert-models/requirements.txt (line 1)) (1.15.0)\n",
            "Requirement already satisfied: click in /usr/local/lib/python3.6/dist-packages (from sacremoses->transformers>=2.4.1->-r /content/swedish-bert-models/requirements.txt (line 1)) (7.1.2)\n",
            "Requirement already satisfied: joblib in /usr/local/lib/python3.6/dist-packages (from sacremoses->transformers>=2.4.1->-r /content/swedish-bert-models/requirements.txt (line 1)) (0.17.0)\n",
            "Requirement already satisfied: setuptools in /usr/local/lib/python3.6/dist-packages (from protobuf->transformers>=2.4.1->-r /content/swedish-bert-models/requirements.txt (line 1)) (50.3.2)\n",
            "Requirement already satisfied: pyparsing>=2.0.2 in /usr/local/lib/python3.6/dist-packages (from packaging->transformers>=2.4.1->-r /content/swedish-bert-models/requirements.txt (line 1)) (2.4.7)\n",
            "Building wheels for collected packages: sacremoses\n",
            "  Building wheel for sacremoses (setup.py) ... \u001b[?25l\u001b[?25hdone\n",
            "  Created wheel for sacremoses: filename=sacremoses-0.0.43-py3-none-any.whl size=893259 sha256=279e273c8fc2b8b5f72a1fe724cbe1df1ab9f98acd8d0f13e87f85272601da77\n",
            "  Stored in directory: /root/.cache/pip/wheels/49/25/98/cdea9c79b2d9a22ccc59540b1784b67f06b633378e97f58da2\n",
            "Successfully built sacremoses\n",
            "Installing collected packages: sentencepiece, sacremoses, tokenizers, transformers\n",
            "Successfully installed sacremoses-0.0.43 sentencepiece-0.1.91 tokenizers-0.9.3 transformers-3.5.1\n"
          ],
          "name": "stdout"
        }
      ]
    },
    {
      "cell_type": "code",
      "metadata": {
        "id": "6tCWCZxhoA2S",
        "outputId": "d75286f6-6e0f-486f-b318-13c38666cc17",
        "colab": {
          "base_uri": "https://localhost:8080/",
          "height": 617
        }
      },
      "source": [
        "#dataset kommer ifrån  https://spraakbanken.gu.se/resurser/sentimentlex\n",
        "df = pd.read_csv(\"/content/drive/My Drive/Research In Data Science/sentimentlex rensad - sentimentlex.csv\",error_bad_lines=False)\n",
        "df"
      ],
      "execution_count": null,
      "outputs": [
        {
          "output_type": "execute_result",
          "data": {
            "text/html": [
              "<div>\n",
              "<style scoped>\n",
              "    .dataframe tbody tr th:only-of-type {\n",
              "        vertical-align: middle;\n",
              "    }\n",
              "\n",
              "    .dataframe tbody tr th {\n",
              "        vertical-align: top;\n",
              "    }\n",
              "\n",
              "    .dataframe thead th {\n",
              "        text-align: right;\n",
              "    }\n",
              "</style>\n",
              "<table border=\"1\" class=\"dataframe\">\n",
              "  <thead>\n",
              "    <tr style=\"text-align: right;\">\n",
              "      <th></th>\n",
              "      <th>word</th>\n",
              "      <th>polarity</th>\n",
              "      <th>strength</th>\n",
              "      <th>sense</th>\n",
              "      <th>written_form</th>\n",
              "      <th>part_of_speech</th>\n",
              "      <th>confidence</th>\n",
              "      <th>lemgram</th>\n",
              "      <th>lemgram_frequency</th>\n",
              "      <th>lemma_frequency</th>\n",
              "      <th>example</th>\n",
              "      <th>Unnamed: 11</th>\n",
              "      <th>Unnamed: 12</th>\n",
              "      <th>Unnamed: 13</th>\n",
              "      <th>Unnamed: 14</th>\n",
              "      <th>Unnamed: 15</th>\n",
              "      <th>Unnamed: 16</th>\n",
              "      <th>Unnamed: 17</th>\n",
              "      <th>Unnamed: 18</th>\n",
              "      <th>Unnamed: 19</th>\n",
              "      <th>Unnamed: 20</th>\n",
              "    </tr>\n",
              "  </thead>\n",
              "  <tbody>\n",
              "    <tr>\n",
              "      <th>0</th>\n",
              "      <td>luguber</td>\n",
              "      <td>neg</td>\n",
              "      <td>−2</td>\n",
              "      <td>luguber..1</td>\n",
              "      <td>['luguber']</td>\n",
              "      <td>av</td>\n",
              "      <td>1.15</td>\n",
              "      <td>luguber..av.1</td>\n",
              "      <td>116</td>\n",
              "      <td>116</td>\n",
              "      <td>Dessemellan ligger en lång och luguber period ...</td>\n",
              "      <td>NaN</td>\n",
              "      <td>NaN</td>\n",
              "      <td>NaN</td>\n",
              "      <td>NaN</td>\n",
              "      <td>NaN</td>\n",
              "      <td>NaN</td>\n",
              "      <td>NaN</td>\n",
              "      <td>NaN</td>\n",
              "      <td>NaN</td>\n",
              "      <td>NaN</td>\n",
              "    </tr>\n",
              "    <tr>\n",
              "      <th>1</th>\n",
              "      <td>överraskad</td>\n",
              "      <td>pos</td>\n",
              "      <td>2</td>\n",
              "      <td>NaN</td>\n",
              "      <td>NaN</td>\n",
              "      <td>av</td>\n",
              "      <td>0.25</td>\n",
              "      <td>överraskad..av.1</td>\n",
              "      <td>397</td>\n",
              "      <td>8716</td>\n",
              "      <td>Han var tydligt överraskad av frågan .</td>\n",
              "      <td>NaN</td>\n",
              "      <td>NaN</td>\n",
              "      <td>NaN</td>\n",
              "      <td>NaN</td>\n",
              "      <td>NaN</td>\n",
              "      <td>NaN</td>\n",
              "      <td>NaN</td>\n",
              "      <td>NaN</td>\n",
              "      <td>NaN</td>\n",
              "      <td>NaN</td>\n",
              "    </tr>\n",
              "    <tr>\n",
              "      <th>2</th>\n",
              "      <td>förbittrad</td>\n",
              "      <td>neg</td>\n",
              "      <td>−2</td>\n",
              "      <td>förbittrad..1</td>\n",
              "      <td>['förbittrad']</td>\n",
              "      <td>av</td>\n",
              "      <td>0.50</td>\n",
              "      <td>förbittrad..av.1</td>\n",
              "      <td>95</td>\n",
              "      <td>605</td>\n",
              "      <td>Protestdemonstrationerna har förenat yttersta ...</td>\n",
              "      <td>NaN</td>\n",
              "      <td>NaN</td>\n",
              "      <td>NaN</td>\n",
              "      <td>NaN</td>\n",
              "      <td>NaN</td>\n",
              "      <td>NaN</td>\n",
              "      <td>NaN</td>\n",
              "      <td>NaN</td>\n",
              "      <td>NaN</td>\n",
              "      <td>NaN</td>\n",
              "    </tr>\n",
              "    <tr>\n",
              "      <th>3</th>\n",
              "      <td>fördystra</td>\n",
              "      <td>neg</td>\n",
              "      <td>−2</td>\n",
              "      <td>fördystra..1</td>\n",
              "      <td>['fördystra']</td>\n",
              "      <td>vb</td>\n",
              "      <td>1.15</td>\n",
              "      <td>fördystra..vb.1</td>\n",
              "      <td>76</td>\n",
              "      <td>76</td>\n",
              "      <td>Utspelet kan ytterligare fördystra de redan sp...</td>\n",
              "      <td>NaN</td>\n",
              "      <td>NaN</td>\n",
              "      <td>NaN</td>\n",
              "      <td>NaN</td>\n",
              "      <td>NaN</td>\n",
              "      <td>NaN</td>\n",
              "      <td>NaN</td>\n",
              "      <td>NaN</td>\n",
              "      <td>NaN</td>\n",
              "      <td>NaN</td>\n",
              "    </tr>\n",
              "    <tr>\n",
              "      <th>4</th>\n",
              "      <td>beräknande</td>\n",
              "      <td>pos</td>\n",
              "      <td>2</td>\n",
              "      <td>beräknande..1</td>\n",
              "      <td>['beräknande']</td>\n",
              "      <td>av</td>\n",
              "      <td>1.15</td>\n",
              "      <td>beräknande..av.1</td>\n",
              "      <td>0</td>\n",
              "      <td>817</td>\n",
              "      <td>Den beräknande Gauguin insåg att det var något...</td>\n",
              "      <td>NaN</td>\n",
              "      <td>NaN</td>\n",
              "      <td>NaN</td>\n",
              "      <td>NaN</td>\n",
              "      <td>NaN</td>\n",
              "      <td>NaN</td>\n",
              "      <td>NaN</td>\n",
              "      <td>NaN</td>\n",
              "      <td>NaN</td>\n",
              "      <td>NaN</td>\n",
              "    </tr>\n",
              "    <tr>\n",
              "      <th>...</th>\n",
              "      <td>...</td>\n",
              "      <td>...</td>\n",
              "      <td>...</td>\n",
              "      <td>...</td>\n",
              "      <td>...</td>\n",
              "      <td>...</td>\n",
              "      <td>...</td>\n",
              "      <td>...</td>\n",
              "      <td>...</td>\n",
              "      <td>...</td>\n",
              "      <td>...</td>\n",
              "      <td>...</td>\n",
              "      <td>...</td>\n",
              "      <td>...</td>\n",
              "      <td>...</td>\n",
              "      <td>...</td>\n",
              "      <td>...</td>\n",
              "      <td>...</td>\n",
              "      <td>...</td>\n",
              "      <td>...</td>\n",
              "      <td>...</td>\n",
              "    </tr>\n",
              "    <tr>\n",
              "      <th>2062</th>\n",
              "      <td>inskränkt</td>\n",
              "      <td>neg</td>\n",
              "      <td>−2</td>\n",
              "      <td>NaN</td>\n",
              "      <td>NaN</td>\n",
              "      <td>av</td>\n",
              "      <td>0.25</td>\n",
              "      <td>inskränkt..av.1</td>\n",
              "      <td>153</td>\n",
              "      <td>2294</td>\n",
              "      <td>Hittills har fynden inskränkt sig till små bit...</td>\n",
              "      <td>NaN</td>\n",
              "      <td>NaN</td>\n",
              "      <td>NaN</td>\n",
              "      <td>NaN</td>\n",
              "      <td>NaN</td>\n",
              "      <td>NaN</td>\n",
              "      <td>NaN</td>\n",
              "      <td>NaN</td>\n",
              "      <td>NaN</td>\n",
              "      <td>NaN</td>\n",
              "    </tr>\n",
              "    <tr>\n",
              "      <th>2063</th>\n",
              "      <td>vitmålad</td>\n",
              "      <td>pos</td>\n",
              "      <td>2</td>\n",
              "      <td>NaN</td>\n",
              "      <td>NaN</td>\n",
              "      <td>av</td>\n",
              "      <td>0.25</td>\n",
              "      <td>vitmålad..av.1</td>\n",
              "      <td>984</td>\n",
              "      <td>985</td>\n",
              "      <td>Mellan St : a Birgittas kapell och Sjömagasine...</td>\n",
              "      <td>NaN</td>\n",
              "      <td>NaN</td>\n",
              "      <td>NaN</td>\n",
              "      <td>NaN</td>\n",
              "      <td>NaN</td>\n",
              "      <td>NaN</td>\n",
              "      <td>NaN</td>\n",
              "      <td>NaN</td>\n",
              "      <td>NaN</td>\n",
              "      <td>NaN</td>\n",
              "    </tr>\n",
              "    <tr>\n",
              "      <th>2064</th>\n",
              "      <td>glitterfin</td>\n",
              "      <td>pos</td>\n",
              "      <td>2</td>\n",
              "      <td>glitterfin..1</td>\n",
              "      <td>['glitterfin']</td>\n",
              "      <td>av</td>\n",
              "      <td>0.50</td>\n",
              "      <td>glitterfin..av.1</td>\n",
              "      <td>0</td>\n",
              "      <td>None</td>\n",
              "      <td>NaN</td>\n",
              "      <td>NaN</td>\n",
              "      <td>NaN</td>\n",
              "      <td>NaN</td>\n",
              "      <td>NaN</td>\n",
              "      <td>NaN</td>\n",
              "      <td>NaN</td>\n",
              "      <td>NaN</td>\n",
              "      <td>NaN</td>\n",
              "      <td>NaN</td>\n",
              "      <td>NaN</td>\n",
              "    </tr>\n",
              "    <tr>\n",
              "      <th>2065</th>\n",
              "      <td>spricka</td>\n",
              "      <td>neg</td>\n",
              "      <td>−2</td>\n",
              "      <td>spricka..1</td>\n",
              "      <td>['spricka']</td>\n",
              "      <td>vb</td>\n",
              "      <td>0.50</td>\n",
              "      <td>spricka..vb.1</td>\n",
              "      <td>11147</td>\n",
              "      <td>20255</td>\n",
              "      <td>Om affären kring paragraf 152 har , enligt mån...</td>\n",
              "      <td>NaN</td>\n",
              "      <td>NaN</td>\n",
              "      <td>NaN</td>\n",
              "      <td>NaN</td>\n",
              "      <td>NaN</td>\n",
              "      <td>NaN</td>\n",
              "      <td>NaN</td>\n",
              "      <td>NaN</td>\n",
              "      <td>NaN</td>\n",
              "      <td>NaN</td>\n",
              "    </tr>\n",
              "    <tr>\n",
              "      <th>2066</th>\n",
              "      <td>timid</td>\n",
              "      <td>pos</td>\n",
              "      <td>2</td>\n",
              "      <td>NaN</td>\n",
              "      <td>NaN</td>\n",
              "      <td>av</td>\n",
              "      <td>0.25</td>\n",
              "      <td>timid..av.1</td>\n",
              "      <td>435</td>\n",
              "      <td>435</td>\n",
              "      <td>Shetlandsponnyn är en urstark , timid , vänlig...</td>\n",
              "      <td>NaN</td>\n",
              "      <td>NaN</td>\n",
              "      <td>NaN</td>\n",
              "      <td>NaN</td>\n",
              "      <td>NaN</td>\n",
              "      <td>NaN</td>\n",
              "      <td>NaN</td>\n",
              "      <td>NaN</td>\n",
              "      <td>NaN</td>\n",
              "      <td>NaN</td>\n",
              "    </tr>\n",
              "  </tbody>\n",
              "</table>\n",
              "<p>2067 rows × 21 columns</p>\n",
              "</div>"
            ],
            "text/plain": [
              "            word polarity strength  ... Unnamed: 18 Unnamed: 19 Unnamed: 20\n",
              "0        luguber      neg       −2  ...         NaN         NaN         NaN\n",
              "1     överraskad      pos        2  ...         NaN         NaN         NaN\n",
              "2     förbittrad      neg       −2  ...         NaN         NaN         NaN\n",
              "3      fördystra      neg       −2  ...         NaN         NaN         NaN\n",
              "4     beräknande      pos        2  ...         NaN         NaN         NaN\n",
              "...          ...      ...      ...  ...         ...         ...         ...\n",
              "2062   inskränkt      neg       −2  ...         NaN         NaN         NaN\n",
              "2063    vitmålad      pos        2  ...         NaN         NaN         NaN\n",
              "2064  glitterfin      pos        2  ...         NaN         NaN         NaN\n",
              "2065     spricka      neg       −2  ...         NaN         NaN         NaN\n",
              "2066       timid      pos        2  ...         NaN         NaN         NaN\n",
              "\n",
              "[2067 rows x 21 columns]"
            ]
          },
          "metadata": {
            "tags": []
          },
          "execution_count": 3
        }
      ]
    },
    {
      "cell_type": "markdown",
      "metadata": {
        "id": "stD1OkEVluRX"
      },
      "source": [
        "Remove \n",
        "\n",
        "*   Rows with NaN as value\n",
        "\n"
      ]
    },
    {
      "cell_type": "code",
      "metadata": {
        "id": "uUZyPxNCgmSP",
        "outputId": "97b11fdd-f5aa-4da0-8f81-383377915175",
        "colab": {
          "base_uri": "https://localhost:8080/"
        }
      },
      "source": [
        "df.info()"
      ],
      "execution_count": null,
      "outputs": [
        {
          "output_type": "stream",
          "text": [
            "<class 'pandas.core.frame.DataFrame'>\n",
            "RangeIndex: 2067 entries, 0 to 2066\n",
            "Data columns (total 21 columns):\n",
            " #   Column             Non-Null Count  Dtype  \n",
            "---  ------             --------------  -----  \n",
            " 0   word               2067 non-null   object \n",
            " 1   polarity           2067 non-null   object \n",
            " 2   strength           2067 non-null   object \n",
            " 3   sense              1397 non-null   object \n",
            " 4   written_form       1397 non-null   object \n",
            " 5   part_of_speech     2067 non-null   object \n",
            " 6   confidence         2067 non-null   float64\n",
            " 7   lemgram            2067 non-null   object \n",
            " 8   lemgram_frequency  2067 non-null   int64  \n",
            " 9   lemma_frequency    2067 non-null   object \n",
            " 10  example            1691 non-null   object \n",
            " 11  Unnamed: 11        1 non-null      object \n",
            " 12  Unnamed: 12        1 non-null      float64\n",
            " 13  Unnamed: 13        1 non-null      object \n",
            " 14  Unnamed: 14        1 non-null      object \n",
            " 15  Unnamed: 15        1 non-null      object \n",
            " 16  Unnamed: 16        1 non-null      float64\n",
            " 17  Unnamed: 17        1 non-null      object \n",
            " 18  Unnamed: 18        1 non-null      float64\n",
            " 19  Unnamed: 19        1 non-null      float64\n",
            " 20  Unnamed: 20        1 non-null      object \n",
            "dtypes: float64(5), int64(1), object(15)\n",
            "memory usage: 339.2+ KB\n"
          ],
          "name": "stdout"
        }
      ]
    },
    {
      "cell_type": "code",
      "metadata": {
        "id": "wKhOpd8RIRRl",
        "outputId": "e252825e-d987-4346-84b3-7da9b1a34cf0",
        "colab": {
          "base_uri": "https://localhost:8080/",
          "height": 617
        }
      },
      "source": [
        "\n",
        "df"
      ],
      "execution_count": null,
      "outputs": [
        {
          "output_type": "execute_result",
          "data": {
            "text/html": [
              "<div>\n",
              "<style scoped>\n",
              "    .dataframe tbody tr th:only-of-type {\n",
              "        vertical-align: middle;\n",
              "    }\n",
              "\n",
              "    .dataframe tbody tr th {\n",
              "        vertical-align: top;\n",
              "    }\n",
              "\n",
              "    .dataframe thead th {\n",
              "        text-align: right;\n",
              "    }\n",
              "</style>\n",
              "<table border=\"1\" class=\"dataframe\">\n",
              "  <thead>\n",
              "    <tr style=\"text-align: right;\">\n",
              "      <th></th>\n",
              "      <th>word</th>\n",
              "      <th>polarity</th>\n",
              "      <th>strength</th>\n",
              "      <th>sense</th>\n",
              "      <th>written_form</th>\n",
              "      <th>part_of_speech</th>\n",
              "      <th>confidence</th>\n",
              "      <th>lemgram</th>\n",
              "      <th>lemgram_frequency</th>\n",
              "      <th>lemma_frequency</th>\n",
              "      <th>example</th>\n",
              "      <th>Unnamed: 11</th>\n",
              "      <th>Unnamed: 12</th>\n",
              "      <th>Unnamed: 13</th>\n",
              "      <th>Unnamed: 14</th>\n",
              "      <th>Unnamed: 15</th>\n",
              "      <th>Unnamed: 16</th>\n",
              "      <th>Unnamed: 17</th>\n",
              "      <th>Unnamed: 18</th>\n",
              "      <th>Unnamed: 19</th>\n",
              "      <th>Unnamed: 20</th>\n",
              "    </tr>\n",
              "  </thead>\n",
              "  <tbody>\n",
              "    <tr>\n",
              "      <th>0</th>\n",
              "      <td>luguber</td>\n",
              "      <td>neg</td>\n",
              "      <td>−2</td>\n",
              "      <td>luguber..1</td>\n",
              "      <td>['luguber']</td>\n",
              "      <td>av</td>\n",
              "      <td>1.15</td>\n",
              "      <td>luguber..av.1</td>\n",
              "      <td>116</td>\n",
              "      <td>116</td>\n",
              "      <td>Dessemellan ligger en lång och luguber period ...</td>\n",
              "      <td>NaN</td>\n",
              "      <td>NaN</td>\n",
              "      <td>NaN</td>\n",
              "      <td>NaN</td>\n",
              "      <td>NaN</td>\n",
              "      <td>NaN</td>\n",
              "      <td>NaN</td>\n",
              "      <td>NaN</td>\n",
              "      <td>NaN</td>\n",
              "      <td>NaN</td>\n",
              "    </tr>\n",
              "    <tr>\n",
              "      <th>1</th>\n",
              "      <td>överraskad</td>\n",
              "      <td>pos</td>\n",
              "      <td>2</td>\n",
              "      <td>NaN</td>\n",
              "      <td>NaN</td>\n",
              "      <td>av</td>\n",
              "      <td>0.25</td>\n",
              "      <td>överraskad..av.1</td>\n",
              "      <td>397</td>\n",
              "      <td>8716</td>\n",
              "      <td>Han var tydligt överraskad av frågan .</td>\n",
              "      <td>NaN</td>\n",
              "      <td>NaN</td>\n",
              "      <td>NaN</td>\n",
              "      <td>NaN</td>\n",
              "      <td>NaN</td>\n",
              "      <td>NaN</td>\n",
              "      <td>NaN</td>\n",
              "      <td>NaN</td>\n",
              "      <td>NaN</td>\n",
              "      <td>NaN</td>\n",
              "    </tr>\n",
              "    <tr>\n",
              "      <th>2</th>\n",
              "      <td>förbittrad</td>\n",
              "      <td>neg</td>\n",
              "      <td>−2</td>\n",
              "      <td>förbittrad..1</td>\n",
              "      <td>['förbittrad']</td>\n",
              "      <td>av</td>\n",
              "      <td>0.50</td>\n",
              "      <td>förbittrad..av.1</td>\n",
              "      <td>95</td>\n",
              "      <td>605</td>\n",
              "      <td>Protestdemonstrationerna har förenat yttersta ...</td>\n",
              "      <td>NaN</td>\n",
              "      <td>NaN</td>\n",
              "      <td>NaN</td>\n",
              "      <td>NaN</td>\n",
              "      <td>NaN</td>\n",
              "      <td>NaN</td>\n",
              "      <td>NaN</td>\n",
              "      <td>NaN</td>\n",
              "      <td>NaN</td>\n",
              "      <td>NaN</td>\n",
              "    </tr>\n",
              "    <tr>\n",
              "      <th>3</th>\n",
              "      <td>fördystra</td>\n",
              "      <td>neg</td>\n",
              "      <td>−2</td>\n",
              "      <td>fördystra..1</td>\n",
              "      <td>['fördystra']</td>\n",
              "      <td>vb</td>\n",
              "      <td>1.15</td>\n",
              "      <td>fördystra..vb.1</td>\n",
              "      <td>76</td>\n",
              "      <td>76</td>\n",
              "      <td>Utspelet kan ytterligare fördystra de redan sp...</td>\n",
              "      <td>NaN</td>\n",
              "      <td>NaN</td>\n",
              "      <td>NaN</td>\n",
              "      <td>NaN</td>\n",
              "      <td>NaN</td>\n",
              "      <td>NaN</td>\n",
              "      <td>NaN</td>\n",
              "      <td>NaN</td>\n",
              "      <td>NaN</td>\n",
              "      <td>NaN</td>\n",
              "    </tr>\n",
              "    <tr>\n",
              "      <th>4</th>\n",
              "      <td>beräknande</td>\n",
              "      <td>pos</td>\n",
              "      <td>2</td>\n",
              "      <td>beräknande..1</td>\n",
              "      <td>['beräknande']</td>\n",
              "      <td>av</td>\n",
              "      <td>1.15</td>\n",
              "      <td>beräknande..av.1</td>\n",
              "      <td>0</td>\n",
              "      <td>817</td>\n",
              "      <td>Den beräknande Gauguin insåg att det var något...</td>\n",
              "      <td>NaN</td>\n",
              "      <td>NaN</td>\n",
              "      <td>NaN</td>\n",
              "      <td>NaN</td>\n",
              "      <td>NaN</td>\n",
              "      <td>NaN</td>\n",
              "      <td>NaN</td>\n",
              "      <td>NaN</td>\n",
              "      <td>NaN</td>\n",
              "      <td>NaN</td>\n",
              "    </tr>\n",
              "    <tr>\n",
              "      <th>...</th>\n",
              "      <td>...</td>\n",
              "      <td>...</td>\n",
              "      <td>...</td>\n",
              "      <td>...</td>\n",
              "      <td>...</td>\n",
              "      <td>...</td>\n",
              "      <td>...</td>\n",
              "      <td>...</td>\n",
              "      <td>...</td>\n",
              "      <td>...</td>\n",
              "      <td>...</td>\n",
              "      <td>...</td>\n",
              "      <td>...</td>\n",
              "      <td>...</td>\n",
              "      <td>...</td>\n",
              "      <td>...</td>\n",
              "      <td>...</td>\n",
              "      <td>...</td>\n",
              "      <td>...</td>\n",
              "      <td>...</td>\n",
              "      <td>...</td>\n",
              "    </tr>\n",
              "    <tr>\n",
              "      <th>2062</th>\n",
              "      <td>inskränkt</td>\n",
              "      <td>neg</td>\n",
              "      <td>−2</td>\n",
              "      <td>NaN</td>\n",
              "      <td>NaN</td>\n",
              "      <td>av</td>\n",
              "      <td>0.25</td>\n",
              "      <td>inskränkt..av.1</td>\n",
              "      <td>153</td>\n",
              "      <td>2294</td>\n",
              "      <td>Hittills har fynden inskränkt sig till små bit...</td>\n",
              "      <td>NaN</td>\n",
              "      <td>NaN</td>\n",
              "      <td>NaN</td>\n",
              "      <td>NaN</td>\n",
              "      <td>NaN</td>\n",
              "      <td>NaN</td>\n",
              "      <td>NaN</td>\n",
              "      <td>NaN</td>\n",
              "      <td>NaN</td>\n",
              "      <td>NaN</td>\n",
              "    </tr>\n",
              "    <tr>\n",
              "      <th>2063</th>\n",
              "      <td>vitmålad</td>\n",
              "      <td>pos</td>\n",
              "      <td>2</td>\n",
              "      <td>NaN</td>\n",
              "      <td>NaN</td>\n",
              "      <td>av</td>\n",
              "      <td>0.25</td>\n",
              "      <td>vitmålad..av.1</td>\n",
              "      <td>984</td>\n",
              "      <td>985</td>\n",
              "      <td>Mellan St : a Birgittas kapell och Sjömagasine...</td>\n",
              "      <td>NaN</td>\n",
              "      <td>NaN</td>\n",
              "      <td>NaN</td>\n",
              "      <td>NaN</td>\n",
              "      <td>NaN</td>\n",
              "      <td>NaN</td>\n",
              "      <td>NaN</td>\n",
              "      <td>NaN</td>\n",
              "      <td>NaN</td>\n",
              "      <td>NaN</td>\n",
              "    </tr>\n",
              "    <tr>\n",
              "      <th>2064</th>\n",
              "      <td>glitterfin</td>\n",
              "      <td>pos</td>\n",
              "      <td>2</td>\n",
              "      <td>glitterfin..1</td>\n",
              "      <td>['glitterfin']</td>\n",
              "      <td>av</td>\n",
              "      <td>0.50</td>\n",
              "      <td>glitterfin..av.1</td>\n",
              "      <td>0</td>\n",
              "      <td>None</td>\n",
              "      <td>NaN</td>\n",
              "      <td>NaN</td>\n",
              "      <td>NaN</td>\n",
              "      <td>NaN</td>\n",
              "      <td>NaN</td>\n",
              "      <td>NaN</td>\n",
              "      <td>NaN</td>\n",
              "      <td>NaN</td>\n",
              "      <td>NaN</td>\n",
              "      <td>NaN</td>\n",
              "      <td>NaN</td>\n",
              "    </tr>\n",
              "    <tr>\n",
              "      <th>2065</th>\n",
              "      <td>spricka</td>\n",
              "      <td>neg</td>\n",
              "      <td>−2</td>\n",
              "      <td>spricka..1</td>\n",
              "      <td>['spricka']</td>\n",
              "      <td>vb</td>\n",
              "      <td>0.50</td>\n",
              "      <td>spricka..vb.1</td>\n",
              "      <td>11147</td>\n",
              "      <td>20255</td>\n",
              "      <td>Om affären kring paragraf 152 har , enligt mån...</td>\n",
              "      <td>NaN</td>\n",
              "      <td>NaN</td>\n",
              "      <td>NaN</td>\n",
              "      <td>NaN</td>\n",
              "      <td>NaN</td>\n",
              "      <td>NaN</td>\n",
              "      <td>NaN</td>\n",
              "      <td>NaN</td>\n",
              "      <td>NaN</td>\n",
              "      <td>NaN</td>\n",
              "    </tr>\n",
              "    <tr>\n",
              "      <th>2066</th>\n",
              "      <td>timid</td>\n",
              "      <td>pos</td>\n",
              "      <td>2</td>\n",
              "      <td>NaN</td>\n",
              "      <td>NaN</td>\n",
              "      <td>av</td>\n",
              "      <td>0.25</td>\n",
              "      <td>timid..av.1</td>\n",
              "      <td>435</td>\n",
              "      <td>435</td>\n",
              "      <td>Shetlandsponnyn är en urstark , timid , vänlig...</td>\n",
              "      <td>NaN</td>\n",
              "      <td>NaN</td>\n",
              "      <td>NaN</td>\n",
              "      <td>NaN</td>\n",
              "      <td>NaN</td>\n",
              "      <td>NaN</td>\n",
              "      <td>NaN</td>\n",
              "      <td>NaN</td>\n",
              "      <td>NaN</td>\n",
              "      <td>NaN</td>\n",
              "    </tr>\n",
              "  </tbody>\n",
              "</table>\n",
              "<p>2067 rows × 21 columns</p>\n",
              "</div>"
            ],
            "text/plain": [
              "            word polarity strength  ... Unnamed: 18 Unnamed: 19 Unnamed: 20\n",
              "0        luguber      neg       −2  ...         NaN         NaN         NaN\n",
              "1     överraskad      pos        2  ...         NaN         NaN         NaN\n",
              "2     förbittrad      neg       −2  ...         NaN         NaN         NaN\n",
              "3      fördystra      neg       −2  ...         NaN         NaN         NaN\n",
              "4     beräknande      pos        2  ...         NaN         NaN         NaN\n",
              "...          ...      ...      ...  ...         ...         ...         ...\n",
              "2062   inskränkt      neg       −2  ...         NaN         NaN         NaN\n",
              "2063    vitmålad      pos        2  ...         NaN         NaN         NaN\n",
              "2064  glitterfin      pos        2  ...         NaN         NaN         NaN\n",
              "2065     spricka      neg       −2  ...         NaN         NaN         NaN\n",
              "2066       timid      pos        2  ...         NaN         NaN         NaN\n",
              "\n",
              "[2067 rows x 21 columns]"
            ]
          },
          "metadata": {
            "tags": []
          },
          "execution_count": 5
        }
      ]
    },
    {
      "cell_type": "markdown",
      "metadata": {
        "id": "e93euJksfFIJ"
      },
      "source": [
        "##Data preprocessing"
      ]
    },
    {
      "cell_type": "code",
      "metadata": {
        "id": "UIaJgHkVo_-8",
        "outputId": "a010695c-bb8c-4732-b0cc-da04bbb68633",
        "colab": {
          "base_uri": "https://localhost:8080/"
        }
      },
      "source": [
        "\n",
        "#convert polarity into numbers or binary\n",
        "#polarity is already converted to binary so who hooo\n",
        "\n",
        "dataset__sentence_label = df[['polarity','example']]\n",
        "dataset__sentence_label = dataset__sentence_label.dropna()\n",
        "print(dataset__sentence_label)\n",
        "sentence = dataset__sentence_label.example\n",
        "label = dataset__sentence_label.polarity\n",
        "\n",
        "sentence"
      ],
      "execution_count": null,
      "outputs": [
        {
          "output_type": "stream",
          "text": [
            "     polarity                                            example\n",
            "0         neg  Dessemellan ligger en lång och luguber period ...\n",
            "1         pos             Han var tydligt överraskad av frågan .\n",
            "2         neg  Protestdemonstrationerna har förenat yttersta ...\n",
            "3         neg  Utspelet kan ytterligare fördystra de redan sp...\n",
            "4         pos  Den beräknande Gauguin insåg att det var något...\n",
            "...       ...                                                ...\n",
            "2060      pos  Han drabbades redan som barn av det kreativa r...\n",
            "2062      neg  Hittills har fynden inskränkt sig till små bit...\n",
            "2063      pos  Mellan St : a Birgittas kapell och Sjömagasine...\n",
            "2065      neg  Om affären kring paragraf 152 har , enligt mån...\n",
            "2066      pos  Shetlandsponnyn är en urstark , timid , vänlig...\n",
            "\n",
            "[1691 rows x 2 columns]\n"
          ],
          "name": "stdout"
        },
        {
          "output_type": "execute_result",
          "data": {
            "text/plain": [
              "0       Dessemellan ligger en lång och luguber period ...\n",
              "1                  Han var tydligt överraskad av frågan .\n",
              "2       Protestdemonstrationerna har förenat yttersta ...\n",
              "3       Utspelet kan ytterligare fördystra de redan sp...\n",
              "4       Den beräknande Gauguin insåg att det var något...\n",
              "                              ...                        \n",
              "2060    Han drabbades redan som barn av det kreativa r...\n",
              "2062    Hittills har fynden inskränkt sig till små bit...\n",
              "2063    Mellan St : a Birgittas kapell och Sjömagasine...\n",
              "2065    Om affären kring paragraf 152 har , enligt mån...\n",
              "2066    Shetlandsponnyn är en urstark , timid , vänlig...\n",
              "Name: example, Length: 1691, dtype: object"
            ]
          },
          "metadata": {
            "tags": []
          },
          "execution_count": 6
        }
      ]
    },
    {
      "cell_type": "code",
      "metadata": {
        "id": "qHvAMf4flNrd"
      },
      "source": [
        "token_lens= []\n",
        "\n",
        "for txt in dataset__sentence_label.example:\n",
        "  tokens = tokenizer.encode(txt,max_length=512)\n",
        "  token_lens.append(len(tokens))\n",
        "\n",
        "\n"
      ],
      "execution_count": null,
      "outputs": []
    },
    {
      "cell_type": "code",
      "metadata": {
        "id": "UrLmIgoklcCJ",
        "outputId": "d58dc462-a5d1-4db3-e39d-b1f351178323",
        "colab": {
          "base_uri": "https://localhost:8080/",
          "height": 351
        }
      },
      "source": [
        "import seaborn as sns\n",
        "import matplotlib.pyplot as plt\n",
        "\n",
        "sns.distplot(token_lens)\n",
        "plt.xlim([0,257])\n",
        "plt.xlabel('Token count')"
      ],
      "execution_count": null,
      "outputs": [
        {
          "output_type": "stream",
          "text": [
            "/usr/local/lib/python3.6/dist-packages/seaborn/distributions.py:2551: FutureWarning: `distplot` is a deprecated function and will be removed in a future version. Please adapt your code to use either `displot` (a figure-level function with similar flexibility) or `histplot` (an axes-level function for histograms).\n",
            "  warnings.warn(msg, FutureWarning)\n"
          ],
          "name": "stderr"
        },
        {
          "output_type": "execute_result",
          "data": {
            "text/plain": [
              "Text(0.5, 0, 'Token count')"
            ]
          },
          "metadata": {
            "tags": []
          },
          "execution_count": 23
        },
        {
          "output_type": "display_data",
          "data": {
            "image/png": "[encoded data removed]",
            "text/plain": [
              "<Figure size 432x288 with 1 Axes>"
            ]
          },
          "metadata": {
            "tags": [],
            "needs_background": "light"
          }
        }
      ]
    },
    {
      "cell_type": "markdown",
      "metadata": {
        "id": "OrC6GWeNjax8"
      },
      "source": [
        "##Special Attention for Mr. Bert ;)\n"
      ]
    },
    {
      "cell_type": "code",
      "metadata": {
        "id": "wjPDCq0jkBJg",
        "outputId": "32148d2b-c7b8-4572-8407-b86fa25d6ef4",
        "colab": {
          "base_uri": "https://localhost:8080/"
        }
      },
      "source": [
        "!pip install transformers"
      ],
      "execution_count": null,
      "outputs": [
        {
          "output_type": "stream",
          "text": [
            "Requirement already satisfied: transformers in /usr/local/lib/python3.6/dist-packages (3.5.1)\n",
            "Requirement already satisfied: protobuf in /usr/local/lib/python3.6/dist-packages (from transformers) (3.12.4)\n",
            "Requirement already satisfied: sentencepiece==0.1.91 in /usr/local/lib/python3.6/dist-packages (from transformers) (0.1.91)\n",
            "Requirement already satisfied: dataclasses; python_version < \"3.7\" in /usr/local/lib/python3.6/dist-packages (from transformers) (0.7)\n",
            "Requirement already satisfied: tokenizers==0.9.3 in /usr/local/lib/python3.6/dist-packages (from transformers) (0.9.3)\n",
            "Requirement already satisfied: requests in /usr/local/lib/python3.6/dist-packages (from transformers) (2.23.0)\n",
            "Requirement already satisfied: numpy in /usr/local/lib/python3.6/dist-packages (from transformers) (1.18.5)\n",
            "Requirement already satisfied: filelock in /usr/local/lib/python3.6/dist-packages (from transformers) (3.0.12)\n",
            "Requirement already satisfied: tqdm>=4.27 in /usr/local/lib/python3.6/dist-packages (from transformers) (4.41.1)\n",
            "Requirement already satisfied: regex!=2019.12.17 in /usr/local/lib/python3.6/dist-packages (from transformers) (2019.12.20)\n",
            "Requirement already satisfied: sacremoses in /usr/local/lib/python3.6/dist-packages (from transformers) (0.0.43)\n",
            "Requirement already satisfied: packaging in /usr/local/lib/python3.6/dist-packages (from transformers) (20.4)\n",
            "Requirement already satisfied: six>=1.9 in /usr/local/lib/python3.6/dist-packages (from protobuf->transformers) (1.15.0)\n",
            "Requirement already satisfied: setuptools in /usr/local/lib/python3.6/dist-packages (from protobuf->transformers) (50.3.2)\n",
            "Requirement already satisfied: chardet<4,>=3.0.2 in /usr/local/lib/python3.6/dist-packages (from requests->transformers) (3.0.4)\n",
            "Requirement already satisfied: idna<3,>=2.5 in /usr/local/lib/python3.6/dist-packages (from requests->transformers) (2.10)\n",
            "Requirement already satisfied: urllib3!=1.25.0,!=1.25.1,<1.26,>=1.21.1 in /usr/local/lib/python3.6/dist-packages (from requests->transformers) (1.24.3)\n",
            "Requirement already satisfied: certifi>=2017.4.17 in /usr/local/lib/python3.6/dist-packages (from requests->transformers) (2020.6.20)\n",
            "Requirement already satisfied: joblib in /usr/local/lib/python3.6/dist-packages (from sacremoses->transformers) (0.17.0)\n",
            "Requirement already satisfied: click in /usr/local/lib/python3.6/dist-packages (from sacremoses->transformers) (7.1.2)\n",
            "Requirement already satisfied: pyparsing>=2.0.2 in /usr/local/lib/python3.6/dist-packages (from packaging->transformers) (2.4.7)\n"
          ],
          "name": "stdout"
        }
      ]
    },
    {
      "cell_type": "code",
      "metadata": {
        "id": "SsANzCrar21U",
        "outputId": "8128ebef-8763-447e-d638-3838c09b66bd",
        "colab": {
          "base_uri": "https://localhost:8080/",
          "height": 313,
          "referenced_widgets": [
            "60d86826d22344d6bff470115b181e5b",
            "73bd97a3b201458b87fc29f6572f2879",
            "2c17fdad0d78455fa793b332f25de1d7",
            "dceeb486938443f8b08f365c64b68260",
            "64b1e86357cc41cf878b090a1366e298",
            "fbd185283ee0476c93302003e094e0ed",
            "5c55cffd0dce48d59383658125e01934",
            "60f9ba8882d244b284515540a47174da",
            "f1dedb01ed364418956cbfb5ea03cd00",
            "a363a03cd5834ba3a97335db98ea2655",
            "f0b71a9b336142eb9a71936207ab0e47",
            "a568197c3c204e0e8e37cf8ab052fd63",
            "7b3c68ed30a64fe897219a06528e145a",
            "d79a2a89b2b14084a6cff3b4edc16d17",
            "b2a767fff42d4f7b8b5f91dc702c5309",
            "a4345aeebe6948d9a21fd0875dde92c7",
            "5d9693381cf44ddebd92af0709bc9e0f",
            "e44ce4a6e3b14aa9be2cf8a34d1d6478",
            "047cfeeb73df414486c641dff0531bb6",
            "89e0213f91dd4213963e0e895cf5fa50",
            "42caaba4a49049aaad8c377de039e599",
            "070bd771dbd141ffba3c30d3bdcf5095",
            "4222cd307fc44b4394254fd13b07ecc7",
            "d0be433a7fab49e9abca4de76ced789d",
            "b8aedb041f004e3fa78c9e5b2a072a08",
            "9edc57caaf9b400694bcf2fde4b1dfbb",
            "a6b265e80a30462589e10b02822c19d8",
            "45e08a75fcf2417bb6954f4af38cc65e",
            "d0d13750dfa24093bf1b8e370da24388",
            "967ee005b95f47a68dce593574c2658f",
            "3022ed0e853f4f81a537692ad511bd7c",
            "7687d6556ac847438f697ea7f77d3eba",
            "a7a35626bc804bd98e4a0b60de22d208",
            "b1e9f6577e7345a9b1e9cdc76fffa275",
            "42aec5e81ac3452297bb8878b0927083",
            "73c9ad87568a421f8171d26868fdb72d",
            "85d5f736fb1543e9a4a9d417fa43f86e",
            "0e68c4c3140e47bc8a89849109f22e12",
            "974add481f4c4cbd9e215a41eac82755",
            "2544407676cc46f29b01ec706b446dae",
            "a5321d68f3e0468392629485cd6fdce6",
            "c6299e6e5ffa46fbbf11a0259a1e135d",
            "121456da51cc4097859a0bc2ee006ac8",
            "680f646e81824bbca51a2d16e5a5122a",
            "074d37433fcd4d0a895c3784a1957b3f",
            "7f3520d8803b4cb4ae5ff2578aaa2048",
            "3e0ef14395f24dd586e8971af992718c",
            "d0e2e90c4fb5427284d7eb84aca5a099"
          ]
        }
      },
      "source": [
        "from transformers import AutoModel,AutoTokenizer,TFAutoModel\n",
        "tokenizer = AutoTokenizer.from_pretrained('KB/bert-base-swedish-cased')\n",
        "model = AutoModel.from_pretrained('KB/bert-base-swedish-cased')"
      ],
      "execution_count": null,
      "outputs": [
        {
          "output_type": "display_data",
          "data": {
            "application/vnd.jupyter.widget-view+json": {
              "model_id": "60d86826d22344d6bff470115b181e5b",
              "version_minor": 0,
              "version_major": 2
            },
            "text/plain": [
              "HBox(children=(FloatProgress(value=0.0, description='Downloading', max=491.0, style=ProgressStyle(description_…"
            ]
          },
          "metadata": {
            "tags": []
          }
        },
        {
          "output_type": "stream",
          "text": [
            "\n"
          ],
          "name": "stdout"
        },
        {
          "output_type": "display_data",
          "data": {
            "application/vnd.jupyter.widget-view+json": {
              "model_id": "f1dedb01ed364418956cbfb5ea03cd00",
              "version_minor": 0,
              "version_major": 2
            },
            "text/plain": [
              "HBox(children=(FloatProgress(value=0.0, description='Downloading', max=399162.0, style=ProgressStyle(descripti…"
            ]
          },
          "metadata": {
            "tags": []
          }
        },
        {
          "output_type": "stream",
          "text": [
            "\n"
          ],
          "name": "stdout"
        },
        {
          "output_type": "display_data",
          "data": {
            "application/vnd.jupyter.widget-view+json": {
              "model_id": "5d9693381cf44ddebd92af0709bc9e0f",
              "version_minor": 0,
              "version_major": 2
            },
            "text/plain": [
              "HBox(children=(FloatProgress(value=0.0, description='Downloading', max=2.0, style=ProgressStyle(description_wi…"
            ]
          },
          "metadata": {
            "tags": []
          }
        },
        {
          "output_type": "stream",
          "text": [
            "\n"
          ],
          "name": "stdout"
        },
        {
          "output_type": "display_data",
          "data": {
            "application/vnd.jupyter.widget-view+json": {
              "model_id": "b8aedb041f004e3fa78c9e5b2a072a08",
              "version_minor": 0,
              "version_major": 2
            },
            "text/plain": [
              "HBox(children=(FloatProgress(value=0.0, description='Downloading', max=112.0, style=ProgressStyle(description_…"
            ]
          },
          "metadata": {
            "tags": []
          }
        },
        {
          "output_type": "stream",
          "text": [
            "\n"
          ],
          "name": "stdout"
        },
        {
          "output_type": "display_data",
          "data": {
            "application/vnd.jupyter.widget-view+json": {
              "model_id": "a7a35626bc804bd98e4a0b60de22d208",
              "version_minor": 0,
              "version_major": 2
            },
            "text/plain": [
              "HBox(children=(FloatProgress(value=0.0, description='Downloading', max=48.0, style=ProgressStyle(description_w…"
            ]
          },
          "metadata": {
            "tags": []
          }
        },
        {
          "output_type": "stream",
          "text": [
            "\n"
          ],
          "name": "stdout"
        },
        {
          "output_type": "display_data",
          "data": {
            "application/vnd.jupyter.widget-view+json": {
              "model_id": "a5321d68f3e0468392629485cd6fdce6",
              "version_minor": 0,
              "version_major": 2
            },
            "text/plain": [
              "HBox(children=(FloatProgress(value=0.0, description='Downloading', max=501379977.0, style=ProgressStyle(descri…"
            ]
          },
          "metadata": {
            "tags": []
          }
        },
        {
          "output_type": "stream",
          "text": [
            "\n"
          ],
          "name": "stdout"
        }
      ]
    },
    {
      "cell_type": "code",
      "metadata": {
        "id": "bdaytjzfN8iH",
        "outputId": "dc235a85-2e9c-4bb7-f2be-f55155f3ae15",
        "colab": {
          "base_uri": "https://localhost:8080/"
        }
      },
      "source": [
        "sample_txt = sentence[0]\n",
        "\n",
        "tokens = tokenizer.tokenize(sample_txt)\n",
        "\n",
        "token_ids = tokenizer.convert_tokens_to_ids(tokens)\n",
        "\n",
        "\n",
        "print(f' Sentence: {sample_txt}')\n",
        "print(f'   Tokens: {tokens}')\n",
        "print(f'Token IDs: {token_ids}')\n"
      ],
      "execution_count": null,
      "outputs": [
        {
          "output_type": "stream",
          "text": [
            " Sentence: Dessemellan ligger en lång och luguber period som stalinistiskt lydparti .\n",
            "   Tokens: ['Dess', '##emellan', 'ligger', 'en', 'lång', 'och', 'lug', '##uber', 'period', 'som', 'stalin', '##istiskt', 'ly', '##d', '##parti', '.']\n",
            "Token IDs: [2008, 19412, 536, 59, 747, 36, 2358, 40485, 4321, 67, 46301, 6025, 1869, 49799, 12933, 7]\n"
          ],
          "name": "stdout"
        }
      ]
    },
    {
      "cell_type": "code",
      "metadata": {
        "id": "ryG8_Ic-2Qpq"
      },
      "source": [
        "MAX_LEN = 128\n",
        "\n",
        "EPOCHS = 20\n"
      ],
      "execution_count": null,
      "outputs": []
    },
    {
      "cell_type": "markdown",
      "metadata": {
        "id": "cpTlgdMp2hD2"
      },
      "source": [
        "###Test train Split"
      ]
    },
    {
      "cell_type": "code",
      "metadata": {
        "id": "55idvokSkFRp",
        "outputId": "3e8f2618-7a97-4d60-85bb-3688e571eaeb",
        "colab": {
          "base_uri": "https://localhost:8080/"
        }
      },
      "source": [
        "frames = [sentence,label]\n",
        "new_df = pd.concat(frames,axis=1)\n",
        "\n",
        "#data[\"income\"].replace({ ' <=50K': 0, ' >50K':1 }, inplace=True)\n",
        "new_df[\"polarity\"].replace({'pos':1,'neg':0},inplace=True)\n",
        "print(new_df)\n",
        "new_df.info()"
      ],
      "execution_count": null,
      "outputs": [
        {
          "output_type": "stream",
          "text": [
            "                                                example  polarity\n",
            "0     Dessemellan ligger en lång och luguber period ...         0\n",
            "1                Han var tydligt överraskad av frågan .         1\n",
            "2     Protestdemonstrationerna har förenat yttersta ...         0\n",
            "3     Utspelet kan ytterligare fördystra de redan sp...         0\n",
            "4     Den beräknande Gauguin insåg att det var något...         1\n",
            "...                                                 ...       ...\n",
            "2060  Han drabbades redan som barn av det kreativa r...         1\n",
            "2062  Hittills har fynden inskränkt sig till små bit...         0\n",
            "2063  Mellan St : a Birgittas kapell och Sjömagasine...         1\n",
            "2065  Om affären kring paragraf 152 har , enligt mån...         0\n",
            "2066  Shetlandsponnyn är en urstark , timid , vänlig...         1\n",
            "\n",
            "[1691 rows x 2 columns]\n",
            "<class 'pandas.core.frame.DataFrame'>\n",
            "Int64Index: 1691 entries, 0 to 2066\n",
            "Data columns (total 2 columns):\n",
            " #   Column    Non-Null Count  Dtype \n",
            "---  ------    --------------  ----- \n",
            " 0   example   1691 non-null   object\n",
            " 1   polarity  1691 non-null   int64 \n",
            "dtypes: int64(1), object(1)\n",
            "memory usage: 119.6+ KB\n"
          ],
          "name": "stdout"
        }
      ]
    },
    {
      "cell_type": "code",
      "metadata": {
        "id": "OmMV0izq2gqs",
        "outputId": "9fc3f252-1848-4df3-b21e-45a3d968d6cd",
        "colab": {
          "base_uri": "https://localhost:8080/"
        }
      },
      "source": [
        "from sklearn.model_selection import train_test_split\n",
        "from torch.utils.data import TensorDataset,DataLoader, RandomSampler, SequentialSampler\n",
        "\n",
        "\n",
        "\n",
        "df_train, df_test = train_test_split(new_df, test_size =0.1, random_state= 1234)\n",
        "df_val,df_test = train_test_split(df_test,test_size=0.5,random_state=1234)\n",
        "\n",
        "df_test.shape,df_val.shape"
      ],
      "execution_count": null,
      "outputs": [
        {
          "output_type": "execute_result",
          "data": {
            "text/plain": [
              "((85, 2), (85, 2))"
            ]
          },
          "metadata": {
            "tags": []
          },
          "execution_count": 24
        }
      ]
    },
    {
      "cell_type": "code",
      "metadata": {
        "id": "hHEIK_KMR_XO"
      },
      "source": [
        "#encoded_data_train = "
      ],
      "execution_count": null,
      "outputs": []
    },
    {
      "cell_type": "code",
      "metadata": {
        "id": "Q_A2ug4izGPt"
      },
      "source": [
        "import torch\n",
        "from torch.utils.data import TensorDataset\n",
        "device = torch.device(\"cuda\")"
      ],
      "execution_count": null,
      "outputs": []
    },
    {
      "cell_type": "code",
      "metadata": {
        "id": "aXh0Nz1Nf3qh"
      },
      "source": [
        "torched_labels = torch.tensor(new_df.polarity.values)"
      ],
      "execution_count": null,
      "outputs": []
    },
    {
      "cell_type": "code",
      "metadata": {
        "id": "iNNM51OB2gj-",
        "outputId": "63fa7206-4baa-43f0-cae5-353188432d3a",
        "colab": {
          "base_uri": "https://localhost:8080/"
        }
      },
      "source": [
        "encoded_data = tokenizer.batch_encode_plus(\n",
        "    new_df.example.values,\n",
        "    add_special_tokens=True, \n",
        "    return_attention_mask=True, \n",
        "    pad_to_max_length=True, \n",
        "    max_length=256, \n",
        "    return_tensors='pt'\n",
        ")"
      ],
      "execution_count": null,
      "outputs": [
        {
          "output_type": "stream",
          "text": [
            "Truncation was not explicitly activated but `max_length` is provided a specific value, please use `truncation=True` to explicitly truncate examples to max length. Defaulting to 'longest_first' truncation strategy. If you encode pairs of sequences (GLUE-style) with the tokenizer you can select this strategy more precisely by providing a specific strategy to `truncation`.\n",
            "/usr/local/lib/python3.6/dist-packages/transformers/tokenization_utils_base.py:2022: FutureWarning: The `pad_to_max_length` argument is deprecated and will be removed in a future version, use `padding=True` or `padding='longest'` to pad to the longest sequence in the batch, or use `padding='max_length'` to pad to a max length. In this case, you can give a specific length with `max_length` (e.g. `max_length=45`) or leave max_length to None to pad to the maximal input size of the model (e.g. 512 for Bert).\n",
            "  FutureWarning,\n"
          ],
          "name": "stderr"
        }
      ]
    },
    {
      "cell_type": "code",
      "metadata": {
        "id": "uNvNSq6jkYVV",
        "outputId": "8c535f55-1e1a-4287-c00c-c22763f5333b",
        "colab": {
          "base_uri": "https://localhost:8080/"
        }
      },
      "source": [
        "input_ids = []\n",
        "attention_masks = []\n",
        "labels = []\n",
        "\n",
        "for sent in new_df.example:\n",
        "    encoded_dict = tokenizer.encode_plus(\n",
        "                            sent,                      # Sentence to encode.\n",
        "                            add_special_tokens = True, # Add '[CLS]' and '[SEP]'\n",
        "                            max_length = 100,           # Pad & truncate all sentences.\n",
        "                            pad_to_max_length = True,\n",
        "                            return_attention_mask = True,   # Construct attn. masks.\n",
        "                            return_tensors = 'pt',     # Return pytorch tensors.\n",
        "                      )\n",
        "    input_ids.append(encoded_dict['input_ids'])\n",
        "    attention_masks.append(encoded_dict['attention_mask'])\n",
        "    \n",
        "\n",
        "\n",
        "\n",
        "\n"
      ],
      "execution_count": null,
      "outputs": [
        {
          "output_type": "stream",
          "text": [
            "/usr/local/lib/python3.6/dist-packages/transformers/tokenization_utils_base.py:2022: FutureWarning: The `pad_to_max_length` argument is deprecated and will be removed in a future version, use `padding=True` or `padding='longest'` to pad to the longest sequence in the batch, or use `padding='max_length'` to pad to a max length. In this case, you can give a specific length with `max_length` (e.g. `max_length=45`) or leave max_length to None to pad to the maximal input size of the model (e.g. 512 for Bert).\n",
            "  FutureWarning,\n"
          ],
          "name": "stderr"
        }
      ]
    },
    {
      "cell_type": "code",
      "metadata": {
        "id": "yICZU7Q2yjSJ"
      },
      "source": [
        "tensor_data = TensorDataset(encoded_data['input_ids'],encoded_data['attention_mask'],torched_labels)"
      ],
      "execution_count": null,
      "outputs": []
    },
    {
      "cell_type": "code",
      "metadata": {
        "id": "SLc_5PuQnoMp"
      },
      "source": [
        "BATCH_SIZE = 8\n",
        "\n",
        "dataLoader = DataLoader(tensor_data,sampler=RandomSampler(tensor_data),batch_size=BATCH_SIZE)\n"
      ],
      "execution_count": null,
      "outputs": []
    },
    {
      "cell_type": "markdown",
      "metadata": {
        "id": "_SNwCszAoMqK"
      },
      "source": [
        "Optimizer"
      ]
    },
    {
      "cell_type": "code",
      "metadata": {
        "id": "J1IlBbp8oKoZ"
      },
      "source": [
        "from transformers import AdamW, get_linear_schedule_with_warmup\n",
        "\n",
        "optimizer = AdamW(model.parameters(),\n",
        "                  lr=1e-5, \n",
        "                  eps=1e-8)\n",
        "\n",
        "epochs = 3\n",
        "scheduler = get_linear_schedule_with_warmup(optimizer, \n",
        "                                            num_warmup_steps=0,\n",
        "                                            num_training_steps=len(dataLoader)*epochs)"
      ],
      "execution_count": null,
      "outputs": []
    },
    {
      "cell_type": "code",
      "metadata": {
        "id": "lEbuJ34VoXzK"
      },
      "source": [
        "import random\n",
        "import numpy as np\n",
        "\n",
        "\n",
        "seed_val = 17\n",
        "random.seed(seed_val)\n",
        "np.random.seed(seed_val)\n",
        "torch.manual_seed(seed_val)\n",
        "torch.cuda.manual_seed_all(seed_val)\n",
        "\n",
        "device = torch.device('cuda' if torch.cuda.is_available() else 'cpu')\n",
        "model.to(device)"
      ],
      "execution_count": null,
      "outputs": []
    },
    {
      "cell_type": "code",
      "metadata": {
        "id": "fUHBj2b2p_8y"
      },
      "source": [
        ""
      ],
      "execution_count": null,
      "outputs": []
    }
  ]
}