{
  "nbformat": 4,
  "nbformat_minor": 0,
  "metadata": {
    "accelerator": "GPU",
    "colab": {
      "name": "Swe_Bert_Training_Bigger_dataset.ipynb",
      "provenance": [],
      "mount_file_id": "1tipBJVXXslfrKE-DRi951mPkJVNAVLJ1",
      "authorship_tag": "ABX9TyMNuu+3jc/1Ft7NTYx2jjGs"
    },
    "kernelspec": {
      "display_name": "Python 3",
      "name": "python3"
    },
    "widgets": {
      "application/vnd.jupyter.widget-state+json": {
        "75703e0961c3417a92f9ed482c538b1a": {
          "model_module": "@jupyter-widgets/controls",
          "model_name": "HBoxModel",
          "state": {
            "_view_name": "HBoxView",
            "_dom_classes": [],
            "_model_name": "HBoxModel",
            "_view_module": "@jupyter-widgets/controls",
            "_model_module_version": "1.5.0",
            "_view_count": null,
            "_view_module_version": "1.5.0",
            "box_style": "",
            "layout": "IPY_MODEL_aaabfc9c73b04df69c75f53f96c6a908",
            "_model_module": "@jupyter-widgets/controls",
            "children": [
              "IPY_MODEL_2efc787328d84e0484627785e6b9802d",
              "IPY_MODEL_ee48835f146e43fd997772b07577433e"
            ]
          }
        },
        "aaabfc9c73b04df69c75f53f96c6a908": {
          "model_module": "@jupyter-widgets/base",
          "model_name": "LayoutModel",
          "state": {
            "_view_name": "LayoutView",
            "grid_template_rows": null,
            "right": null,
            "justify_content": null,
            "_view_module": "@jupyter-widgets/base",
            "overflow": null,
            "_model_module_version": "1.2.0",
            "_view_count": null,
            "flex_flow": null,
            "width": null,
            "min_width": null,
            "border": null,
            "align_items": null,
            "bottom": null,
            "_model_module": "@jupyter-widgets/base",
            "top": null,
            "grid_column": null,
            "overflow_y": null,
            "overflow_x": null,
            "grid_auto_flow": null,
            "grid_area": null,
            "grid_template_columns": null,
            "flex": null,
            "_model_name": "LayoutModel",
            "justify_items": null,
            "grid_row": null,
            "max_height": null,
            "align_content": null,
            "visibility": null,
            "align_self": null,
            "height": null,
            "min_height": null,
            "padding": null,
            "grid_auto_rows": null,
            "grid_gap": null,
            "max_width": null,
            "order": null,
            "_view_module_version": "1.2.0",
            "grid_template_areas": null,
            "object_position": null,
            "object_fit": null,
            "grid_auto_columns": null,
            "margin": null,
            "display": null,
            "left": null
          }
        },
        "2efc787328d84e0484627785e6b9802d": {
          "model_module": "@jupyter-widgets/controls",
          "model_name": "FloatProgressModel",
          "state": {
            "_view_name": "ProgressView",
            "style": "IPY_MODEL_075a3e0884094846b0c641b3844d2152",
            "_dom_classes": [],
            "description": "Downloading: 100%",
            "_model_name": "FloatProgressModel",
            "bar_style": "success",
            "max": 491,
            "_view_module": "@jupyter-widgets/controls",
            "_model_module_version": "1.5.0",
            "value": 491,
            "_view_count": null,
            "_view_module_version": "1.5.0",
            "orientation": "horizontal",
            "min": 0,
            "description_tooltip": null,
            "_model_module": "@jupyter-widgets/controls",
            "layout": "IPY_MODEL_69035c24cdba45a9932b7f3e80c744e9"
          }
        },
        "ee48835f146e43fd997772b07577433e": {
          "model_module": "@jupyter-widgets/controls",
          "model_name": "HTMLModel",
          "state": {
            "_view_name": "HTMLView",
            "style": "IPY_MODEL_cc44c5b0cfec493ab6c33671aea9396a",
            "_dom_classes": [],
            "description": "",
            "_model_name": "HTMLModel",
            "placeholder": "​",
            "_view_module": "@jupyter-widgets/controls",
            "_model_module_version": "1.5.0",
            "value": " 491/491 [00:00&lt;00:00, 822B/s]",
            "_view_count": null,
            "_view_module_version": "1.5.0",
            "description_tooltip": null,
            "_model_module": "@jupyter-widgets/controls",
            "layout": "IPY_MODEL_e755a923661e42e5b55929dc9023bc41"
          }
        },
        "075a3e0884094846b0c641b3844d2152": {
          "model_module": "@jupyter-widgets/controls",
          "model_name": "ProgressStyleModel",
          "state": {
            "_view_name": "StyleView",
            "_model_name": "ProgressStyleModel",
            "description_width": "initial",
            "_view_module": "@jupyter-widgets/base",
            "_model_module_version": "1.5.0",
            "_view_count": null,
            "_view_module_version": "1.2.0",
            "bar_color": null,
            "_model_module": "@jupyter-widgets/controls"
          }
        },
        "69035c24cdba45a9932b7f3e80c744e9": {
          "model_module": "@jupyter-widgets/base",
          "model_name": "LayoutModel",
          "state": {
            "_view_name": "LayoutView",
            "grid_template_rows": null,
            "right": null,
            "justify_content": null,
            "_view_module": "@jupyter-widgets/base",
            "overflow": null,
            "_model_module_version": "1.2.0",
            "_view_count": null,
            "flex_flow": null,
            "width": null,
            "min_width": null,
            "border": null,
            "align_items": null,
            "bottom": null,
            "_model_module": "@jupyter-widgets/base",
            "top": null,
            "grid_column": null,
            "overflow_y": null,
            "overflow_x": null,
            "grid_auto_flow": null,
            "grid_area": null,
            "grid_template_columns": null,
            "flex": null,
            "_model_name": "LayoutModel",
            "justify_items": null,
            "grid_row": null,
            "max_height": null,
            "align_content": null,
            "visibility": null,
            "align_self": null,
            "height": null,
            "min_height": null,
            "padding": null,
            "grid_auto_rows": null,
            "grid_gap": null,
            "max_width": null,
            "order": null,
            "_view_module_version": "1.2.0",
            "grid_template_areas": null,
            "object_position": null,
            "object_fit": null,
            "grid_auto_columns": null,
            "margin": null,
            "display": null,
            "left": null
          }
        },
        "cc44c5b0cfec493ab6c33671aea9396a": {
          "model_module": "@jupyter-widgets/controls",
          "model_name": "DescriptionStyleModel",
          "state": {
            "_view_name": "StyleView",
            "_model_name": "DescriptionStyleModel",
            "description_width": "",
            "_view_module": "@jupyter-widgets/base",
            "_model_module_version": "1.5.0",
            "_view_count": null,
            "_view_module_version": "1.2.0",
            "_model_module": "@jupyter-widgets/controls"
          }
        },
        "e755a923661e42e5b55929dc9023bc41": {
          "model_module": "@jupyter-widgets/base",
          "model_name": "LayoutModel",
          "state": {
            "_view_name": "LayoutView",
            "grid_template_rows": null,
            "right": null,
            "justify_content": null,
            "_view_module": "@jupyter-widgets/base",
            "overflow": null,
            "_model_module_version": "1.2.0",
            "_view_count": null,
            "flex_flow": null,
            "width": null,
            "min_width": null,
            "border": null,
            "align_items": null,
            "bottom": null,
            "_model_module": "@jupyter-widgets/base",
            "top": null,
            "grid_column": null,
            "overflow_y": null,
            "overflow_x": null,
            "grid_auto_flow": null,
            "grid_area": null,
            "grid_template_columns": null,
            "flex": null,
            "_model_name": "LayoutModel",
            "justify_items": null,
            "grid_row": null,
            "max_height": null,
            "align_content": null,
            "visibility": null,
            "align_self": null,
            "height": null,
            "min_height": null,
            "padding": null,
            "grid_auto_rows": null,
            "grid_gap": null,
            "max_width": null,
            "order": null,
            "_view_module_version": "1.2.0",
            "grid_template_areas": null,
            "object_position": null,
            "object_fit": null,
            "grid_auto_columns": null,
            "margin": null,
            "display": null,
            "left": null
          }
        },
        "1719f2a4c2c34ff99d58c88fd38505ee": {
          "model_module": "@jupyter-widgets/controls",
          "model_name": "HBoxModel",
          "state": {
            "_view_name": "HBoxView",
            "_dom_classes": [],
            "_model_name": "HBoxModel",
            "_view_module": "@jupyter-widgets/controls",
            "_model_module_version": "1.5.0",
            "_view_count": null,
            "_view_module_version": "1.5.0",
            "box_style": "",
            "layout": "IPY_MODEL_8882efee85ba4ba89858bc38ecee5e89",
            "_model_module": "@jupyter-widgets/controls",
            "children": [
              "IPY_MODEL_2c6253047a9b49c495954843351cdf69",
              "IPY_MODEL_b0f732d22f56439cbba7e2ed7a9d53e4"
            ]
          }
        },
        "8882efee85ba4ba89858bc38ecee5e89": {
          "model_module": "@jupyter-widgets/base",
          "model_name": "LayoutModel",
          "state": {
            "_view_name": "LayoutView",
            "grid_template_rows": null,
            "right": null,
            "justify_content": null,
            "_view_module": "@jupyter-widgets/base",
            "overflow": null,
            "_model_module_version": "1.2.0",
            "_view_count": null,
            "flex_flow": null,
            "width": null,
            "min_width": null,
            "border": null,
            "align_items": null,
            "bottom": null,
            "_model_module": "@jupyter-widgets/base",
            "top": null,
            "grid_column": null,
            "overflow_y": null,
            "overflow_x": null,
            "grid_auto_flow": null,
            "grid_area": null,
            "grid_template_columns": null,
            "flex": null,
            "_model_name": "LayoutModel",
            "justify_items": null,
            "grid_row": null,
            "max_height": null,
            "align_content": null,
            "visibility": null,
            "align_self": null,
            "height": null,
            "min_height": null,
            "padding": null,
            "grid_auto_rows": null,
            "grid_gap": null,
            "max_width": null,
            "order": null,
            "_view_module_version": "1.2.0",
            "grid_template_areas": null,
            "object_position": null,
            "object_fit": null,
            "grid_auto_columns": null,
            "margin": null,
            "display": null,
            "left": null
          }
        },
        "2c6253047a9b49c495954843351cdf69": {
          "model_module": "@jupyter-widgets/controls",
          "model_name": "FloatProgressModel",
          "state": {
            "_view_name": "ProgressView",
            "style": "IPY_MODEL_a01b6d0477084073811b8233b4ae8767",
            "_dom_classes": [],
            "description": "Downloading: 100%",
            "_model_name": "FloatProgressModel",
            "bar_style": "success",
            "max": 399162,
            "_view_module": "@jupyter-widgets/controls",
            "_model_module_version": "1.5.0",
            "value": 399162,
            "_view_count": null,
            "_view_module_version": "1.5.0",
            "orientation": "horizontal",
            "min": 0,
            "description_tooltip": null,
            "_model_module": "@jupyter-widgets/controls",
            "layout": "IPY_MODEL_f31697bd901c44769cfc425d658edb66"
          }
        },
        "b0f732d22f56439cbba7e2ed7a9d53e4": {
          "model_module": "@jupyter-widgets/controls",
          "model_name": "HTMLModel",
          "state": {
            "_view_name": "HTMLView",
            "style": "IPY_MODEL_b5f995a63aa04606b92d68f13a53f629",
            "_dom_classes": [],
            "description": "",
            "_model_name": "HTMLModel",
            "placeholder": "​",
            "_view_module": "@jupyter-widgets/controls",
            "_model_module_version": "1.5.0",
            "value": " 399k/399k [00:02&lt;00:00, 170kB/s]",
            "_view_count": null,
            "_view_module_version": "1.5.0",
            "description_tooltip": null,
            "_model_module": "@jupyter-widgets/controls",
            "layout": "IPY_MODEL_390337640fc04d56923ed80169554cef"
          }
        },
        "a01b6d0477084073811b8233b4ae8767": {
          "model_module": "@jupyter-widgets/controls",
          "model_name": "ProgressStyleModel",
          "state": {
            "_view_name": "StyleView",
            "_model_name": "ProgressStyleModel",
            "description_width": "initial",
            "_view_module": "@jupyter-widgets/base",
            "_model_module_version": "1.5.0",
            "_view_count": null,
            "_view_module_version": "1.2.0",
            "bar_color": null,
            "_model_module": "@jupyter-widgets/controls"
          }
        },
        "f31697bd901c44769cfc425d658edb66": {
          "model_module": "@jupyter-widgets/base",
          "model_name": "LayoutModel",
          "state": {
            "_view_name": "LayoutView",
            "grid_template_rows": null,
            "right": null,
            "justify_content": null,
            "_view_module": "@jupyter-widgets/base",
            "overflow": null,
            "_model_module_version": "1.2.0",
            "_view_count": null,
            "flex_flow": null,
            "width": null,
            "min_width": null,
            "border": null,
            "align_items": null,
            "bottom": null,
            "_model_module": "@jupyter-widgets/base",
            "top": null,
            "grid_column": null,
            "overflow_y": null,
            "overflow_x": null,
            "grid_auto_flow": null,
            "grid_area": null,
            "grid_template_columns": null,
            "flex": null,
            "_model_name": "LayoutModel",
            "justify_items": null,
            "grid_row": null,
            "max_height": null,
            "align_content": null,
            "visibility": null,
            "align_self": null,
            "height": null,
            "min_height": null,
            "padding": null,
            "grid_auto_rows": null,
            "grid_gap": null,
            "max_width": null,
            "order": null,
            "_view_module_version": "1.2.0",
            "grid_template_areas": null,
            "object_position": null,
            "object_fit": null,
            "grid_auto_columns": null,
            "margin": null,
            "display": null,
            "left": null
          }
        },
        "b5f995a63aa04606b92d68f13a53f629": {
          "model_module": "@jupyter-widgets/controls",
          "model_name": "DescriptionStyleModel",
          "state": {
            "_view_name": "StyleView",
            "_model_name": "DescriptionStyleModel",
            "description_width": "",
            "_view_module": "@jupyter-widgets/base",
            "_model_module_version": "1.5.0",
            "_view_count": null,
            "_view_module_version": "1.2.0",
            "_model_module": "@jupyter-widgets/controls"
          }
        },
        "390337640fc04d56923ed80169554cef": {
          "model_module": "@jupyter-widgets/base",
          "model_name": "LayoutModel",
          "state": {
            "_view_name": "LayoutView",
            "grid_template_rows": null,
            "right": null,
            "justify_content": null,
            "_view_module": "@jupyter-widgets/base",
            "overflow": null,
            "_model_module_version": "1.2.0",
            "_view_count": null,
            "flex_flow": null,
            "width": null,
            "min_width": null,
            "border": null,
            "align_items": null,
            "bottom": null,
            "_model_module": "@jupyter-widgets/base",
            "top": null,
            "grid_column": null,
            "overflow_y": null,
            "overflow_x": null,
            "grid_auto_flow": null,
            "grid_area": null,
            "grid_template_columns": null,
            "flex": null,
            "_model_name": "LayoutModel",
            "justify_items": null,
            "grid_row": null,
            "max_height": null,
            "align_content": null,
            "visibility": null,
            "align_self": null,
            "height": null,
            "min_height": null,
            "padding": null,
            "grid_auto_rows": null,
            "grid_gap": null,
            "max_width": null,
            "order": null,
            "_view_module_version": "1.2.0",
            "grid_template_areas": null,
            "object_position": null,
            "object_fit": null,
            "grid_auto_columns": null,
            "margin": null,
            "display": null,
            "left": null
          }
        },
        "bf7a7f41b545481ba298b57ba0d56c1f": {
          "model_module": "@jupyter-widgets/controls",
          "model_name": "HBoxModel",
          "state": {
            "_view_name": "HBoxView",
            "_dom_classes": [],
            "_model_name": "HBoxModel",
            "_view_module": "@jupyter-widgets/controls",
            "_model_module_version": "1.5.0",
            "_view_count": null,
            "_view_module_version": "1.5.0",
            "box_style": "",
            "layout": "IPY_MODEL_9beefbaaa1ab4dc4a0cb1bcbae079a65",
            "_model_module": "@jupyter-widgets/controls",
            "children": [
              "IPY_MODEL_3e209a45562d4a22b491c6a55e7daa3b",
              "IPY_MODEL_73b37d8f9b45440b9ee35c341f72e0ec"
            ]
          }
        },
        "9beefbaaa1ab4dc4a0cb1bcbae079a65": {
          "model_module": "@jupyter-widgets/base",
          "model_name": "LayoutModel",
          "state": {
            "_view_name": "LayoutView",
            "grid_template_rows": null,
            "right": null,
            "justify_content": null,
            "_view_module": "@jupyter-widgets/base",
            "overflow": null,
            "_model_module_version": "1.2.0",
            "_view_count": null,
            "flex_flow": null,
            "width": null,
            "min_width": null,
            "border": null,
            "align_items": null,
            "bottom": null,
            "_model_module": "@jupyter-widgets/base",
            "top": null,
            "grid_column": null,
            "overflow_y": null,
            "overflow_x": null,
            "grid_auto_flow": null,
            "grid_area": null,
            "grid_template_columns": null,
            "flex": null,
            "_model_name": "LayoutModel",
            "justify_items": null,
            "grid_row": null,
            "max_height": null,
            "align_content": null,
            "visibility": null,
            "align_self": null,
            "height": null,
            "min_height": null,
            "padding": null,
            "grid_auto_rows": null,
            "grid_gap": null,
            "max_width": null,
            "order": null,
            "_view_module_version": "1.2.0",
            "grid_template_areas": null,
            "object_position": null,
            "object_fit": null,
            "grid_auto_columns": null,
            "margin": null,
            "display": null,
            "left": null
          }
        },
        "3e209a45562d4a22b491c6a55e7daa3b": {
          "model_module": "@jupyter-widgets/controls",
          "model_name": "FloatProgressModel",
          "state": {
            "_view_name": "ProgressView",
            "style": "IPY_MODEL_38d9db3f348b48d3993acb6dc7c0a57a",
            "_dom_classes": [],
            "description": "Downloading: 100%",
            "_model_name": "FloatProgressModel",
            "bar_style": "success",
            "max": 2,
            "_view_module": "@jupyter-widgets/controls",
            "_model_module_version": "1.5.0",
            "value": 2,
            "_view_count": null,
            "_view_module_version": "1.5.0",
            "orientation": "horizontal",
            "min": 0,
            "description_tooltip": null,
            "_model_module": "@jupyter-widgets/controls",
            "layout": "IPY_MODEL_580b628bfe784c50ad2da880ed26b79c"
          }
        },
        "73b37d8f9b45440b9ee35c341f72e0ec": {
          "model_module": "@jupyter-widgets/controls",
          "model_name": "HTMLModel",
          "state": {
            "_view_name": "HTMLView",
            "style": "IPY_MODEL_ac682b30ec3e4efaa6bad4fb2dc5a260",
            "_dom_classes": [],
            "description": "",
            "_model_name": "HTMLModel",
            "placeholder": "​",
            "_view_module": "@jupyter-widgets/controls",
            "_model_module_version": "1.5.0",
            "value": " 2.00/2.00 [00:01&lt;00:00, 1.72B/s]",
            "_view_count": null,
            "_view_module_version": "1.5.0",
            "description_tooltip": null,
            "_model_module": "@jupyter-widgets/controls",
            "layout": "IPY_MODEL_eacde400212c4379874d85e4060a0d08"
          }
        },
        "38d9db3f348b48d3993acb6dc7c0a57a": {
          "model_module": "@jupyter-widgets/controls",
          "model_name": "ProgressStyleModel",
          "state": {
            "_view_name": "StyleView",
            "_model_name": "ProgressStyleModel",
            "description_width": "initial",
            "_view_module": "@jupyter-widgets/base",
            "_model_module_version": "1.5.0",
            "_view_count": null,
            "_view_module_version": "1.2.0",
            "bar_color": null,
            "_model_module": "@jupyter-widgets/controls"
          }
        },
        "580b628bfe784c50ad2da880ed26b79c": {
          "model_module": "@jupyter-widgets/base",
          "model_name": "LayoutModel",
          "state": {
            "_view_name": "LayoutView",
            "grid_template_rows": null,
            "right": null,
            "justify_content": null,
            "_view_module": "@jupyter-widgets/base",
            "overflow": null,
            "_model_module_version": "1.2.0",
            "_view_count": null,
            "flex_flow": null,
            "width": null,
            "min_width": null,
            "border": null,
            "align_items": null,
            "bottom": null,
            "_model_module": "@jupyter-widgets/base",
            "top": null,
            "grid_column": null,
            "overflow_y": null,
            "overflow_x": null,
            "grid_auto_flow": null,
            "grid_area": null,
            "grid_template_columns": null,
            "flex": null,
            "_model_name": "LayoutModel",
            "justify_items": null,
            "grid_row": null,
            "max_height": null,
            "align_content": null,
            "visibility": null,
            "align_self": null,
            "height": null,
            "min_height": null,
            "padding": null,
            "grid_auto_rows": null,
            "grid_gap": null,
            "max_width": null,
            "order": null,
            "_view_module_version": "1.2.0",
            "grid_template_areas": null,
            "object_position": null,
            "object_fit": null,
            "grid_auto_columns": null,
            "margin": null,
            "display": null,
            "left": null
          }
        },
        "ac682b30ec3e4efaa6bad4fb2dc5a260": {
          "model_module": "@jupyter-widgets/controls",
          "model_name": "DescriptionStyleModel",
          "state": {
            "_view_name": "StyleView",
            "_model_name": "DescriptionStyleModel",
            "description_width": "",
            "_view_module": "@jupyter-widgets/base",
            "_model_module_version": "1.5.0",
            "_view_count": null,
            "_view_module_version": "1.2.0",
            "_model_module": "@jupyter-widgets/controls"
          }
        },
        "eacde400212c4379874d85e4060a0d08": {
          "model_module": "@jupyter-widgets/base",
          "model_name": "LayoutModel",
          "state": {
            "_view_name": "LayoutView",
            "grid_template_rows": null,
            "right": null,
            "justify_content": null,
            "_view_module": "@jupyter-widgets/base",
            "overflow": null,
            "_model_module_version": "1.2.0",
            "_view_count": null,
            "flex_flow": null,
            "width": null,
            "min_width": null,
            "border": null,
            "align_items": null,
            "bottom": null,
            "_model_module": "@jupyter-widgets/base",
            "top": null,
            "grid_column": null,
            "overflow_y": null,
            "overflow_x": null,
            "grid_auto_flow": null,
            "grid_area": null,
            "grid_template_columns": null,
            "flex": null,
            "_model_name": "LayoutModel",
            "justify_items": null,
            "grid_row": null,
            "max_height": null,
            "align_content": null,
            "visibility": null,
            "align_self": null,
            "height": null,
            "min_height": null,
            "padding": null,
            "grid_auto_rows": null,
            "grid_gap": null,
            "max_width": null,
            "order": null,
            "_view_module_version": "1.2.0",
            "grid_template_areas": null,
            "object_position": null,
            "object_fit": null,
            "grid_auto_columns": null,
            "margin": null,
            "display": null,
            "left": null
          }
        },
        "9a093499bd0a402a8d2f7766087c106b": {
          "model_module": "@jupyter-widgets/controls",
          "model_name": "HBoxModel",
          "state": {
            "_view_name": "HBoxView",
            "_dom_classes": [],
            "_model_name": "HBoxModel",
            "_view_module": "@jupyter-widgets/controls",
            "_model_module_version": "1.5.0",
            "_view_count": null,
            "_view_module_version": "1.5.0",
            "box_style": "",
            "layout": "IPY_MODEL_583a1ba18ed74765a44160975fc9de35",
            "_model_module": "@jupyter-widgets/controls",
            "children": [
              "IPY_MODEL_a87f9e68863442829640e2b815d19393",
              "IPY_MODEL_e085b85c7d05489eb20ff9bffad2096d"
            ]
          }
        },
        "583a1ba18ed74765a44160975fc9de35": {
          "model_module": "@jupyter-widgets/base",
          "model_name": "LayoutModel",
          "state": {
            "_view_name": "LayoutView",
            "grid_template_rows": null,
            "right": null,
            "justify_content": null,
            "_view_module": "@jupyter-widgets/base",
            "overflow": null,
            "_model_module_version": "1.2.0",
            "_view_count": null,
            "flex_flow": null,
            "width": null,
            "min_width": null,
            "border": null,
            "align_items": null,
            "bottom": null,
            "_model_module": "@jupyter-widgets/base",
            "top": null,
            "grid_column": null,
            "overflow_y": null,
            "overflow_x": null,
            "grid_auto_flow": null,
            "grid_area": null,
            "grid_template_columns": null,
            "flex": null,
            "_model_name": "LayoutModel",
            "justify_items": null,
            "grid_row": null,
            "max_height": null,
            "align_content": null,
            "visibility": null,
            "align_self": null,
            "height": null,
            "min_height": null,
            "padding": null,
            "grid_auto_rows": null,
            "grid_gap": null,
            "max_width": null,
            "order": null,
            "_view_module_version": "1.2.0",
            "grid_template_areas": null,
            "object_position": null,
            "object_fit": null,
            "grid_auto_columns": null,
            "margin": null,
            "display": null,
            "left": null
          }
        },
        "a87f9e68863442829640e2b815d19393": {
          "model_module": "@jupyter-widgets/controls",
          "model_name": "FloatProgressModel",
          "state": {
            "_view_name": "ProgressView",
            "style": "IPY_MODEL_d95a53c965d44bf084b7d801d4f024d9",
            "_dom_classes": [],
            "description": "Downloading: 100%",
            "_model_name": "FloatProgressModel",
            "bar_style": "success",
            "max": 112,
            "_view_module": "@jupyter-widgets/controls",
            "_model_module_version": "1.5.0",
            "value": 112,
            "_view_count": null,
            "_view_module_version": "1.5.0",
            "orientation": "horizontal",
            "min": 0,
            "description_tooltip": null,
            "_model_module": "@jupyter-widgets/controls",
            "layout": "IPY_MODEL_33afebc523f8490ea31722c606f67a40"
          }
        },
        "e085b85c7d05489eb20ff9bffad2096d": {
          "model_module": "@jupyter-widgets/controls",
          "model_name": "HTMLModel",
          "state": {
            "_view_name": "HTMLView",
            "style": "IPY_MODEL_439cbe571f0346f99af2c44890b67846",
            "_dom_classes": [],
            "description": "",
            "_model_name": "HTMLModel",
            "placeholder": "​",
            "_view_module": "@jupyter-widgets/controls",
            "_model_module_version": "1.5.0",
            "value": " 112/112 [00:00&lt;00:00, 194B/s]",
            "_view_count": null,
            "_view_module_version": "1.5.0",
            "description_tooltip": null,
            "_model_module": "@jupyter-widgets/controls",
            "layout": "IPY_MODEL_5341c0b88a9e498cb0641fd2db52a7b7"
          }
        },
        "d95a53c965d44bf084b7d801d4f024d9": {
          "model_module": "@jupyter-widgets/controls",
          "model_name": "ProgressStyleModel",
          "state": {
            "_view_name": "StyleView",
            "_model_name": "ProgressStyleModel",
            "description_width": "initial",
            "_view_module": "@jupyter-widgets/base",
            "_model_module_version": "1.5.0",
            "_view_count": null,
            "_view_module_version": "1.2.0",
            "bar_color": null,
            "_model_module": "@jupyter-widgets/controls"
          }
        },
        "33afebc523f8490ea31722c606f67a40": {
          "model_module": "@jupyter-widgets/base",
          "model_name": "LayoutModel",
          "state": {
            "_view_name": "LayoutView",
            "grid_template_rows": null,
            "right": null,
            "justify_content": null,
            "_view_module": "@jupyter-widgets/base",
            "overflow": null,
            "_model_module_version": "1.2.0",
            "_view_count": null,
            "flex_flow": null,
            "width": null,
            "min_width": null,
            "border": null,
            "align_items": null,
            "bottom": null,
            "_model_module": "@jupyter-widgets/base",
            "top": null,
            "grid_column": null,
            "overflow_y": null,
            "overflow_x": null,
            "grid_auto_flow": null,
            "grid_area": null,
            "grid_template_columns": null,
            "flex": null,
            "_model_name": "LayoutModel",
            "justify_items": null,
            "grid_row": null,
            "max_height": null,
            "align_content": null,
            "visibility": null,
            "align_self": null,
            "height": null,
            "min_height": null,
            "padding": null,
            "grid_auto_rows": null,
            "grid_gap": null,
            "max_width": null,
            "order": null,
            "_view_module_version": "1.2.0",
            "grid_template_areas": null,
            "object_position": null,
            "object_fit": null,
            "grid_auto_columns": null,
            "margin": null,
            "display": null,
            "left": null
          }
        },
        "439cbe571f0346f99af2c44890b67846": {
          "model_module": "@jupyter-widgets/controls",
          "model_name": "DescriptionStyleModel",
          "state": {
            "_view_name": "StyleView",
            "_model_name": "DescriptionStyleModel",
            "description_width": "",
            "_view_module": "@jupyter-widgets/base",
            "_model_module_version": "1.5.0",
            "_view_count": null,
            "_view_module_version": "1.2.0",
            "_model_module": "@jupyter-widgets/controls"
          }
        },
        "5341c0b88a9e498cb0641fd2db52a7b7": {
          "model_module": "@jupyter-widgets/base",
          "model_name": "LayoutModel",
          "state": {
            "_view_name": "LayoutView",
            "grid_template_rows": null,
            "right": null,
            "justify_content": null,
            "_view_module": "@jupyter-widgets/base",
            "overflow": null,
            "_model_module_version": "1.2.0",
            "_view_count": null,
            "flex_flow": null,
            "width": null,
            "min_width": null,
            "border": null,
            "align_items": null,
            "bottom": null,
            "_model_module": "@jupyter-widgets/base",
            "top": null,
            "grid_column": null,
            "overflow_y": null,
            "overflow_x": null,
            "grid_auto_flow": null,
            "grid_area": null,
            "grid_template_columns": null,
            "flex": null,
            "_model_name": "LayoutModel",
            "justify_items": null,
            "grid_row": null,
            "max_height": null,
            "align_content": null,
            "visibility": null,
            "align_self": null,
            "height": null,
            "min_height": null,
            "padding": null,
            "grid_auto_rows": null,
            "grid_gap": null,
            "max_width": null,
            "order": null,
            "_view_module_version": "1.2.0",
            "grid_template_areas": null,
            "object_position": null,
            "object_fit": null,
            "grid_auto_columns": null,
            "margin": null,
            "display": null,
            "left": null
          }
        },
        "9dff37862f2744b9b938fcf712e1c87e": {
          "model_module": "@jupyter-widgets/controls",
          "model_name": "HBoxModel",
          "state": {
            "_view_name": "HBoxView",
            "_dom_classes": [],
            "_model_name": "HBoxModel",
            "_view_module": "@jupyter-widgets/controls",
            "_model_module_version": "1.5.0",
            "_view_count": null,
            "_view_module_version": "1.5.0",
            "box_style": "",
            "layout": "IPY_MODEL_0b1b654cce684a05b27d47c1a64e8a4f",
            "_model_module": "@jupyter-widgets/controls",
            "children": [
              "IPY_MODEL_6e14803da7394e4d8bcefb94cbee998e",
              "IPY_MODEL_739bd945f38b49c1b18a6df686c9a990"
            ]
          }
        },
        "0b1b654cce684a05b27d47c1a64e8a4f": {
          "model_module": "@jupyter-widgets/base",
          "model_name": "LayoutModel",
          "state": {
            "_view_name": "LayoutView",
            "grid_template_rows": null,
            "right": null,
            "justify_content": null,
            "_view_module": "@jupyter-widgets/base",
            "overflow": null,
            "_model_module_version": "1.2.0",
            "_view_count": null,
            "flex_flow": null,
            "width": null,
            "min_width": null,
            "border": null,
            "align_items": null,
            "bottom": null,
            "_model_module": "@jupyter-widgets/base",
            "top": null,
            "grid_column": null,
            "overflow_y": null,
            "overflow_x": null,
            "grid_auto_flow": null,
            "grid_area": null,
            "grid_template_columns": null,
            "flex": null,
            "_model_name": "LayoutModel",
            "justify_items": null,
            "grid_row": null,
            "max_height": null,
            "align_content": null,
            "visibility": null,
            "align_self": null,
            "height": null,
            "min_height": null,
            "padding": null,
            "grid_auto_rows": null,
            "grid_gap": null,
            "max_width": null,
            "order": null,
            "_view_module_version": "1.2.0",
            "grid_template_areas": null,
            "object_position": null,
            "object_fit": null,
            "grid_auto_columns": null,
            "margin": null,
            "display": null,
            "left": null
          }
        },
        "6e14803da7394e4d8bcefb94cbee998e": {
          "model_module": "@jupyter-widgets/controls",
          "model_name": "FloatProgressModel",
          "state": {
            "_view_name": "ProgressView",
            "style": "IPY_MODEL_c382d86d105d48cbbd9d3d9b9ee94a79",
            "_dom_classes": [],
            "description": "Downloading: 100%",
            "_model_name": "FloatProgressModel",
            "bar_style": "success",
            "max": 48,
            "_view_module": "@jupyter-widgets/controls",
            "_model_module_version": "1.5.0",
            "value": 48,
            "_view_count": null,
            "_view_module_version": "1.5.0",
            "orientation": "horizontal",
            "min": 0,
            "description_tooltip": null,
            "_model_module": "@jupyter-widgets/controls",
            "layout": "IPY_MODEL_0bb97c83eba243c299231cd756f5cfad"
          }
        },
        "739bd945f38b49c1b18a6df686c9a990": {
          "model_module": "@jupyter-widgets/controls",
          "model_name": "HTMLModel",
          "state": {
            "_view_name": "HTMLView",
            "style": "IPY_MODEL_18f8bf2c18dc4900b4eb4f9177c9e20b",
            "_dom_classes": [],
            "description": "",
            "_model_name": "HTMLModel",
            "placeholder": "​",
            "_view_module": "@jupyter-widgets/controls",
            "_model_module_version": "1.5.0",
            "value": " 48.0/48.0 [00:00&lt;00:00, 141B/s]",
            "_view_count": null,
            "_view_module_version": "1.5.0",
            "description_tooltip": null,
            "_model_module": "@jupyter-widgets/controls",
            "layout": "IPY_MODEL_0fc9ed09cfe54d11bd68db23bb1e5c82"
          }
        },
        "c382d86d105d48cbbd9d3d9b9ee94a79": {
          "model_module": "@jupyter-widgets/controls",
          "model_name": "ProgressStyleModel",
          "state": {
            "_view_name": "StyleView",
            "_model_name": "ProgressStyleModel",
            "description_width": "initial",
            "_view_module": "@jupyter-widgets/base",
            "_model_module_version": "1.5.0",
            "_view_count": null,
            "_view_module_version": "1.2.0",
            "bar_color": null,
            "_model_module": "@jupyter-widgets/controls"
          }
        },
        "0bb97c83eba243c299231cd756f5cfad": {
          "model_module": "@jupyter-widgets/base",
          "model_name": "LayoutModel",
          "state": {
            "_view_name": "LayoutView",
            "grid_template_rows": null,
            "right": null,
            "justify_content": null,
            "_view_module": "@jupyter-widgets/base",
            "overflow": null,
            "_model_module_version": "1.2.0",
            "_view_count": null,
            "flex_flow": null,
            "width": null,
            "min_width": null,
            "border": null,
            "align_items": null,
            "bottom": null,
            "_model_module": "@jupyter-widgets/base",
            "top": null,
            "grid_column": null,
            "overflow_y": null,
            "overflow_x": null,
            "grid_auto_flow": null,
            "grid_area": null,
            "grid_template_columns": null,
            "flex": null,
            "_model_name": "LayoutModel",
            "justify_items": null,
            "grid_row": null,
            "max_height": null,
            "align_content": null,
            "visibility": null,
            "align_self": null,
            "height": null,
            "min_height": null,
            "padding": null,
            "grid_auto_rows": null,
            "grid_gap": null,
            "max_width": null,
            "order": null,
            "_view_module_version": "1.2.0",
            "grid_template_areas": null,
            "object_position": null,
            "object_fit": null,
            "grid_auto_columns": null,
            "margin": null,
            "display": null,
            "left": null
          }
        },
        "18f8bf2c18dc4900b4eb4f9177c9e20b": {
          "model_module": "@jupyter-widgets/controls",
          "model_name": "DescriptionStyleModel",
          "state": {
            "_view_name": "StyleView",
            "_model_name": "DescriptionStyleModel",
            "description_width": "",
            "_view_module": "@jupyter-widgets/base",
            "_model_module_version": "1.5.0",
            "_view_count": null,
            "_view_module_version": "1.2.0",
            "_model_module": "@jupyter-widgets/controls"
          }
        },
        "0fc9ed09cfe54d11bd68db23bb1e5c82": {
          "model_module": "@jupyter-widgets/base",
          "model_name": "LayoutModel",
          "state": {
            "_view_name": "LayoutView",
            "grid_template_rows": null,
            "right": null,
            "justify_content": null,
            "_view_module": "@jupyter-widgets/base",
            "overflow": null,
            "_model_module_version": "1.2.0",
            "_view_count": null,
            "flex_flow": null,
            "width": null,
            "min_width": null,
            "border": null,
            "align_items": null,
            "bottom": null,
            "_model_module": "@jupyter-widgets/base",
            "top": null,
            "grid_column": null,
            "overflow_y": null,
            "overflow_x": null,
            "grid_auto_flow": null,
            "grid_area": null,
            "grid_template_columns": null,
            "flex": null,
            "_model_name": "LayoutModel",
            "justify_items": null,
            "grid_row": null,
            "max_height": null,
            "align_content": null,
            "visibility": null,
            "align_self": null,
            "height": null,
            "min_height": null,
            "padding": null,
            "grid_auto_rows": null,
            "grid_gap": null,
            "max_width": null,
            "order": null,
            "_view_module_version": "1.2.0",
            "grid_template_areas": null,
            "object_position": null,
            "object_fit": null,
            "grid_auto_columns": null,
            "margin": null,
            "display": null,
            "left": null
          }
        },
        "56ed27705ae24cc19bf0c6601d59fadb": {
          "model_module": "@jupyter-widgets/controls",
          "model_name": "HBoxModel",
          "state": {
            "_view_name": "HBoxView",
            "_dom_classes": [],
            "_model_name": "HBoxModel",
            "_view_module": "@jupyter-widgets/controls",
            "_model_module_version": "1.5.0",
            "_view_count": null,
            "_view_module_version": "1.5.0",
            "box_style": "",
            "layout": "IPY_MODEL_d330c2ef062a418faf7914bb7bbfb4de",
            "_model_module": "@jupyter-widgets/controls",
            "children": [
              "IPY_MODEL_04f730c35219477b99469ecee0456168",
              "IPY_MODEL_74a9e7c7d4cd4d8b82ef9c25d76bcd23"
            ]
          }
        },
        "d330c2ef062a418faf7914bb7bbfb4de": {
          "model_module": "@jupyter-widgets/base",
          "model_name": "LayoutModel",
          "state": {
            "_view_name": "LayoutView",
            "grid_template_rows": null,
            "right": null,
            "justify_content": null,
            "_view_module": "@jupyter-widgets/base",
            "overflow": null,
            "_model_module_version": "1.2.0",
            "_view_count": null,
            "flex_flow": null,
            "width": null,
            "min_width": null,
            "border": null,
            "align_items": null,
            "bottom": null,
            "_model_module": "@jupyter-widgets/base",
            "top": null,
            "grid_column": null,
            "overflow_y": null,
            "overflow_x": null,
            "grid_auto_flow": null,
            "grid_area": null,
            "grid_template_columns": null,
            "flex": null,
            "_model_name": "LayoutModel",
            "justify_items": null,
            "grid_row": null,
            "max_height": null,
            "align_content": null,
            "visibility": null,
            "align_self": null,
            "height": null,
            "min_height": null,
            "padding": null,
            "grid_auto_rows": null,
            "grid_gap": null,
            "max_width": null,
            "order": null,
            "_view_module_version": "1.2.0",
            "grid_template_areas": null,
            "object_position": null,
            "object_fit": null,
            "grid_auto_columns": null,
            "margin": null,
            "display": null,
            "left": null
          }
        },
        "04f730c35219477b99469ecee0456168": {
          "model_module": "@jupyter-widgets/controls",
          "model_name": "FloatProgressModel",
          "state": {
            "_view_name": "ProgressView",
            "style": "IPY_MODEL_1aa7da1850344ba4b68780c72bcf12b6",
            "_dom_classes": [],
            "description": "Downloading: 100%",
            "_model_name": "FloatProgressModel",
            "bar_style": "success",
            "max": 501379977,
            "_view_module": "@jupyter-widgets/controls",
            "_model_module_version": "1.5.0",
            "value": 501379977,
            "_view_count": null,
            "_view_module_version": "1.5.0",
            "orientation": "horizontal",
            "min": 0,
            "description_tooltip": null,
            "_model_module": "@jupyter-widgets/controls",
            "layout": "IPY_MODEL_f3a2af25ea8c47ee96865877d05d0dee"
          }
        },
        "74a9e7c7d4cd4d8b82ef9c25d76bcd23": {
          "model_module": "@jupyter-widgets/controls",
          "model_name": "HTMLModel",
          "state": {
            "_view_name": "HTMLView",
            "style": "IPY_MODEL_b47500bd22b2404cabc649d6a3e667eb",
            "_dom_classes": [],
            "description": "",
            "_model_name": "HTMLModel",
            "placeholder": "​",
            "_view_module": "@jupyter-widgets/controls",
            "_model_module_version": "1.5.0",
            "value": " 501M/501M [00:07&lt;00:00, 68.2MB/s]",
            "_view_count": null,
            "_view_module_version": "1.5.0",
            "description_tooltip": null,
            "_model_module": "@jupyter-widgets/controls",
            "layout": "IPY_MODEL_e429c30b693b41b38cb05daf54b45447"
          }
        },
        "1aa7da1850344ba4b68780c72bcf12b6": {
          "model_module": "@jupyter-widgets/controls",
          "model_name": "ProgressStyleModel",
          "state": {
            "_view_name": "StyleView",
            "_model_name": "ProgressStyleModel",
            "description_width": "initial",
            "_view_module": "@jupyter-widgets/base",
            "_model_module_version": "1.5.0",
            "_view_count": null,
            "_view_module_version": "1.2.0",
            "bar_color": null,
            "_model_module": "@jupyter-widgets/controls"
          }
        },
        "f3a2af25ea8c47ee96865877d05d0dee": {
          "model_module": "@jupyter-widgets/base",
          "model_name": "LayoutModel",
          "state": {
            "_view_name": "LayoutView",
            "grid_template_rows": null,
            "right": null,
            "justify_content": null,
            "_view_module": "@jupyter-widgets/base",
            "overflow": null,
            "_model_module_version": "1.2.0",
            "_view_count": null,
            "flex_flow": null,
            "width": null,
            "min_width": null,
            "border": null,
            "align_items": null,
            "bottom": null,
            "_model_module": "@jupyter-widgets/base",
            "top": null,
            "grid_column": null,
            "overflow_y": null,
            "overflow_x": null,
            "grid_auto_flow": null,
            "grid_area": null,
            "grid_template_columns": null,
            "flex": null,
            "_model_name": "LayoutModel",
            "justify_items": null,
            "grid_row": null,
            "max_height": null,
            "align_content": null,
            "visibility": null,
            "align_self": null,
            "height": null,
            "min_height": null,
            "padding": null,
            "grid_auto_rows": null,
            "grid_gap": null,
            "max_width": null,
            "order": null,
            "_view_module_version": "1.2.0",
            "grid_template_areas": null,
            "object_position": null,
            "object_fit": null,
            "grid_auto_columns": null,
            "margin": null,
            "display": null,
            "left": null
          }
        },
        "b47500bd22b2404cabc649d6a3e667eb": {
          "model_module": "@jupyter-widgets/controls",
          "model_name": "DescriptionStyleModel",
          "state": {
            "_view_name": "StyleView",
            "_model_name": "DescriptionStyleModel",
            "description_width": "",
            "_view_module": "@jupyter-widgets/base",
            "_model_module_version": "1.5.0",
            "_view_count": null,
            "_view_module_version": "1.2.0",
            "_model_module": "@jupyter-widgets/controls"
          }
        },
        "e429c30b693b41b38cb05daf54b45447": {
          "model_module": "@jupyter-widgets/base",
          "model_name": "LayoutModel",
          "state": {
            "_view_name": "LayoutView",
            "grid_template_rows": null,
            "right": null,
            "justify_content": null,
            "_view_module": "@jupyter-widgets/base",
            "overflow": null,
            "_model_module_version": "1.2.0",
            "_view_count": null,
            "flex_flow": null,
            "width": null,
            "min_width": null,
            "border": null,
            "align_items": null,
            "bottom": null,
            "_model_module": "@jupyter-widgets/base",
            "top": null,
            "grid_column": null,
            "overflow_y": null,
            "overflow_x": null,
            "grid_auto_flow": null,
            "grid_area": null,
            "grid_template_columns": null,
            "flex": null,
            "_model_name": "LayoutModel",
            "justify_items": null,
            "grid_row": null,
            "max_height": null,
            "align_content": null,
            "visibility": null,
            "align_self": null,
            "height": null,
            "min_height": null,
            "padding": null,
            "grid_auto_rows": null,
            "grid_gap": null,
            "max_width": null,
            "order": null,
            "_view_module_version": "1.2.0",
            "grid_template_areas": null,
            "object_position": null,
            "object_fit": null,
            "grid_auto_columns": null,
            "margin": null,
            "display": null,
            "left": null
          }
        }
      }
    }
  },
  "cells": [
    {
      "cell_type": "code",
      "metadata": {
        "colab": {
          "base_uri": "https://localhost:8080/"
        },
        "id": "JbzolTDdjxXf",
        "outputId": "c13c3ba3-f3eb-4f3a-ff54-8ceddf56f8e9"
      },
      "source": [
        "!nvidia-smi"
      ],
      "execution_count": null,
      "outputs": [
        {
          "output_type": "stream",
          "text": [
            "Mon Nov 23 19:01:25 2020       \n",
            "+-----------------------------------------------------------------------------+\n",
            "| NVIDIA-SMI 455.38       Driver Version: 418.67       CUDA Version: 10.1     |\n",
            "|-------------------------------+----------------------+----------------------+\n",
            "| GPU  Name        Persistence-M| Bus-Id        Disp.A | Volatile Uncorr. ECC |\n",
            "| Fan  Temp  Perf  Pwr:Usage/Cap|         Memory-Usage | GPU-Util  Compute M. |\n",
            "|                               |                      |               MIG M. |\n",
            "|===============================+======================+======================|\n",
            "|   0  Tesla T4            Off  | 00000000:00:04.0 Off |                    0 |\n",
            "| N/A   65C    P8    12W /  70W |      0MiB / 15079MiB |      0%      Default |\n",
            "|                               |                      |                 ERR! |\n",
            "+-------------------------------+----------------------+----------------------+\n",
            "                                                                               \n",
            "+-----------------------------------------------------------------------------+\n",
            "| Processes:                                                                  |\n",
            "|  GPU   GI   CI        PID   Type   Process name                  GPU Memory |\n",
            "|        ID   ID                                                   Usage      |\n",
            "|=============================================================================|\n",
            "|  No running processes found                                                 |\n",
            "+-----------------------------------------------------------------------------+\n"
          ],
          "name": "stdout"
        }
      ]
    },
    {
      "cell_type": "code",
      "metadata": {
        "id": "_uy8uB8vqlkX"
      },
      "source": [
        "import os\n",
        "import re\n",
        "from tqdm import tqdm\n",
        "import numpy as np\n",
        "import pandas as pd\n",
        "import matplotlib.pyplot as plt"
      ],
      "execution_count": null,
      "outputs": []
    },
    {
      "cell_type": "code",
      "metadata": {
        "colab": {
          "base_uri": "https://localhost:8080/"
        },
        "id": "NLddqcCiqohi",
        "outputId": "ed83498a-9ab7-408f-c5a3-3d4739a0b2cb"
      },
      "source": [
        "import pandas as pd\n",
        "!git clone https://github.com/Kungbib/swedish-bert-models\n",
        "!cd swedish-bert-models\n",
        "!python3 -m venv venv\n",
        "!source venv/bin/activate\n",
        "!pip install --upgrade pip\n",
        "!pip install -r /content/swedish-bert-models/requirements.txt"
      ],
      "execution_count": null,
      "outputs": [
        {
          "output_type": "stream",
          "text": [
            "Cloning into 'swedish-bert-models'...\n",
            "remote: Enumerating objects: 30, done.\u001b[K\n",
            "remote: Counting objects: 100% (30/30), done.\u001b[K\n",
            "remote: Compressing objects: 100% (30/30), done.\u001b[K\n",
            "remote: Total 232 (delta 9), reused 0 (delta 0), pack-reused 202\u001b[K\n",
            "Receiving objects: 100% (232/232), 41.73 KiB | 8.35 MiB/s, done.\n",
            "Resolving deltas: 100% (74/74), done.\n",
            "The virtual environment was not created successfully because ensurepip is not\n",
            "available.  On Debian/Ubuntu systems, you need to install the python3-venv\n",
            "package using the following command.\n",
            "\n",
            "    apt-get install python3-venv\n",
            "\n",
            "You may need to use sudo with that command.  After installing the python3-venv\n",
            "package, recreate your virtual environment.\n",
            "\n",
            "Failing command: ['/content/venv/bin/python3', '-Im', 'ensurepip', '--upgrade', '--default-pip']\n",
            "\n",
            "/bin/bash: venv/bin/activate: No such file or directory\n",
            "Collecting pip\n",
            "\u001b[?25l  Downloading https://files.pythonhosted.org/packages/cb/28/91f26bd088ce8e22169032100d4260614fc3da435025ff389ef1d396a433/pip-20.2.4-py2.py3-none-any.whl (1.5MB)\n",
            "\u001b[K     |████████████████████████████████| 1.5MB 7.9MB/s \n",
            "\u001b[?25hInstalling collected packages: pip\n",
            "  Found existing installation: pip 19.3.1\n",
            "    Uninstalling pip-19.3.1:\n",
            "      Successfully uninstalled pip-19.3.1\n",
            "Successfully installed pip-20.2.4\n",
            "Collecting transformers>=2.4.1\n",
            "  Downloading transformers-3.5.1-py3-none-any.whl (1.3 MB)\n",
            "\u001b[K     |████████████████████████████████| 1.3 MB 9.4 MB/s \n",
            "\u001b[?25hRequirement already satisfied: torch>=1.3.1 in /usr/local/lib/python3.6/dist-packages (from -r /content/swedish-bert-models/requirements.txt (line 2)) (1.7.0+cu101)\n",
            "Collecting sentencepiece==0.1.91\n",
            "  Downloading sentencepiece-0.1.91-cp36-cp36m-manylinux1_x86_64.whl (1.1 MB)\n",
            "\u001b[K     |████████████████████████████████| 1.1 MB 16.4 MB/s \n",
            "\u001b[?25hRequirement already satisfied: packaging in /usr/local/lib/python3.6/dist-packages (from transformers>=2.4.1->-r /content/swedish-bert-models/requirements.txt (line 1)) (20.4)\n",
            "Requirement already satisfied: tqdm>=4.27 in /usr/local/lib/python3.6/dist-packages (from transformers>=2.4.1->-r /content/swedish-bert-models/requirements.txt (line 1)) (4.41.1)\n",
            "Requirement already satisfied: regex!=2019.12.17 in /usr/local/lib/python3.6/dist-packages (from transformers>=2.4.1->-r /content/swedish-bert-models/requirements.txt (line 1)) (2019.12.20)\n",
            "Requirement already satisfied: requests in /usr/local/lib/python3.6/dist-packages (from transformers>=2.4.1->-r /content/swedish-bert-models/requirements.txt (line 1)) (2.23.0)\n",
            "Requirement already satisfied: numpy in /usr/local/lib/python3.6/dist-packages (from transformers>=2.4.1->-r /content/swedish-bert-models/requirements.txt (line 1)) (1.18.5)\n",
            "Requirement already satisfied: protobuf in /usr/local/lib/python3.6/dist-packages (from transformers>=2.4.1->-r /content/swedish-bert-models/requirements.txt (line 1)) (3.12.4)\n",
            "Collecting sacremoses\n",
            "  Downloading sacremoses-0.0.43.tar.gz (883 kB)\n",
            "\u001b[K     |████████████████████████████████| 883 kB 20.1 MB/s \n",
            "\u001b[?25hRequirement already satisfied: dataclasses; python_version < \"3.7\" in /usr/local/lib/python3.6/dist-packages (from transformers>=2.4.1->-r /content/swedish-bert-models/requirements.txt (line 1)) (0.8)\n",
            "Requirement already satisfied: filelock in /usr/local/lib/python3.6/dist-packages (from transformers>=2.4.1->-r /content/swedish-bert-models/requirements.txt (line 1)) (3.0.12)\n",
            "Collecting tokenizers==0.9.3\n",
            "  Downloading tokenizers-0.9.3-cp36-cp36m-manylinux1_x86_64.whl (2.9 MB)\n",
            "\u001b[K     |████████████████████████████████| 2.9 MB 14.7 MB/s \n",
            "\u001b[?25hRequirement already satisfied: future in /usr/local/lib/python3.6/dist-packages (from torch>=1.3.1->-r /content/swedish-bert-models/requirements.txt (line 2)) (0.16.0)\n",
            "Requirement already satisfied: typing-extensions in /usr/local/lib/python3.6/dist-packages (from torch>=1.3.1->-r /content/swedish-bert-models/requirements.txt (line 2)) (3.7.4.3)\n",
            "Requirement already satisfied: pyparsing>=2.0.2 in /usr/local/lib/python3.6/dist-packages (from packaging->transformers>=2.4.1->-r /content/swedish-bert-models/requirements.txt (line 1)) (2.4.7)\n",
            "Requirement already satisfied: six in /usr/local/lib/python3.6/dist-packages (from packaging->transformers>=2.4.1->-r /content/swedish-bert-models/requirements.txt (line 1)) (1.15.0)\n",
            "Requirement already satisfied: idna<3,>=2.5 in /usr/local/lib/python3.6/dist-packages (from requests->transformers>=2.4.1->-r /content/swedish-bert-models/requirements.txt (line 1)) (2.10)\n",
            "Requirement already satisfied: certifi>=2017.4.17 in /usr/local/lib/python3.6/dist-packages (from requests->transformers>=2.4.1->-r /content/swedish-bert-models/requirements.txt (line 1)) (2020.11.8)\n",
            "Requirement already satisfied: urllib3!=1.25.0,!=1.25.1,<1.26,>=1.21.1 in /usr/local/lib/python3.6/dist-packages (from requests->transformers>=2.4.1->-r /content/swedish-bert-models/requirements.txt (line 1)) (1.24.3)\n",
            "Requirement already satisfied: chardet<4,>=3.0.2 in /usr/local/lib/python3.6/dist-packages (from requests->transformers>=2.4.1->-r /content/swedish-bert-models/requirements.txt (line 1)) (3.0.4)\n",
            "Requirement already satisfied: setuptools in /usr/local/lib/python3.6/dist-packages (from protobuf->transformers>=2.4.1->-r /content/swedish-bert-models/requirements.txt (line 1)) (50.3.2)\n",
            "Requirement already satisfied: click in /usr/local/lib/python3.6/dist-packages (from sacremoses->transformers>=2.4.1->-r /content/swedish-bert-models/requirements.txt (line 1)) (7.1.2)\n",
            "Requirement already satisfied: joblib in /usr/local/lib/python3.6/dist-packages (from sacremoses->transformers>=2.4.1->-r /content/swedish-bert-models/requirements.txt (line 1)) (0.17.0)\n",
            "Building wheels for collected packages: sacremoses\n",
            "  Building wheel for sacremoses (setup.py) ... \u001b[?25l\u001b[?25hdone\n",
            "  Created wheel for sacremoses: filename=sacremoses-0.0.43-py3-none-any.whl size=893259 sha256=81bdde84f9b15bed06e5215f01e75d5cdd49b7ccad08ca7bab5bebe76fde0e20\n",
            "  Stored in directory: /root/.cache/pip/wheels/49/25/98/cdea9c79b2d9a22ccc59540b1784b67f06b633378e97f58da2\n",
            "Successfully built sacremoses\n",
            "Installing collected packages: sentencepiece, sacremoses, tokenizers, transformers\n",
            "Successfully installed sacremoses-0.0.43 sentencepiece-0.1.91 tokenizers-0.9.3 transformers-3.5.1\n"
          ],
          "name": "stdout"
        }
      ]
    },
    {
      "cell_type": "code",
      "metadata": {
        "colab": {
          "base_uri": "https://localhost:8080/"
        },
        "id": "oK0dAeWv5SDb",
        "outputId": "393f897a-7832-4f83-e38e-cf22be64ee67"
      },
      "source": [
        "!mkdir data\n",
        "!mkdir temp\n",
        "!wget https://github.com/ks222rt/DeepLearning-ThesisWork-Convolutional/raw/master/cnn-model/datasets/testDatasetWithNeuTwo -O temp/train.csv\n",
        "!wget https://github.com/ks222rt/DeepLearning-ThesisWork-Convolutional/raw/master/cnn-model/datasets/testDatasetWithNeuOne -O temp/val.csv"
      ],
      "execution_count": null,
      "outputs": [
        {
          "output_type": "stream",
          "text": [
            "--2020-11-23 19:01:37--  https://github.com/ks222rt/DeepLearning-ThesisWork-Convolutional/raw/master/cnn-model/datasets/testDatasetWithNeuTwo\n",
            "Resolving github.com (github.com)... 192.30.255.113\n",
            "Connecting to github.com (github.com)|192.30.255.113|:443... connected.\n",
            "HTTP request sent, awaiting response... 301 Moved Permanently\n",
            "Location: https://github.com/stoffesvensson/DeepLearning-ThesisWork-Convolutional/raw/master/cnn-model/datasets/testDatasetWithNeuTwo [following]\n",
            "--2020-11-23 19:01:37--  https://github.com/stoffesvensson/DeepLearning-ThesisWork-Convolutional/raw/master/cnn-model/datasets/testDatasetWithNeuTwo\n",
            "Reusing existing connection to github.com:443.\n",
            "HTTP request sent, awaiting response... 302 Found\n",
            "Location: https://raw.githubusercontent.com/stoffesvensson/DeepLearning-ThesisWork-Convolutional/master/cnn-model/datasets/testDatasetWithNeuTwo [following]\n",
            "--2020-11-23 19:01:37--  https://raw.githubusercontent.com/stoffesvensson/DeepLearning-ThesisWork-Convolutional/master/cnn-model/datasets/testDatasetWithNeuTwo\n",
            "Resolving raw.githubusercontent.com (raw.githubusercontent.com)... 151.101.0.133, 151.101.64.133, 151.101.128.133, ...\n",
            "Connecting to raw.githubusercontent.com (raw.githubusercontent.com)|151.101.0.133|:443... connected.\n",
            "HTTP request sent, awaiting response... 200 OK\n",
            "Length: 469424 (458K) [text/plain]\n",
            "Saving to: ‘temp/train.csv’\n",
            "\n",
            "temp/train.csv      100%[===================>] 458.42K  --.-KB/s    in 0.02s   \n",
            "\n",
            "2020-11-23 19:01:37 (18.9 MB/s) - ‘temp/train.csv’ saved [469424/469424]\n",
            "\n",
            "--2020-11-23 19:01:37--  https://github.com/ks222rt/DeepLearning-ThesisWork-Convolutional/raw/master/cnn-model/datasets/testDatasetWithNeuOne\n",
            "Resolving github.com (github.com)... 192.30.255.113\n",
            "Connecting to github.com (github.com)|192.30.255.113|:443... connected.\n",
            "HTTP request sent, awaiting response... 301 Moved Permanently\n",
            "Location: https://github.com/stoffesvensson/DeepLearning-ThesisWork-Convolutional/raw/master/cnn-model/datasets/testDatasetWithNeuOne [following]\n",
            "--2020-11-23 19:01:37--  https://github.com/stoffesvensson/DeepLearning-ThesisWork-Convolutional/raw/master/cnn-model/datasets/testDatasetWithNeuOne\n",
            "Reusing existing connection to github.com:443.\n",
            "HTTP request sent, awaiting response... 302 Found\n",
            "Location: https://raw.githubusercontent.com/stoffesvensson/DeepLearning-ThesisWork-Convolutional/master/cnn-model/datasets/testDatasetWithNeuOne [following]\n",
            "--2020-11-23 19:01:38--  https://raw.githubusercontent.com/stoffesvensson/DeepLearning-ThesisWork-Convolutional/master/cnn-model/datasets/testDatasetWithNeuOne\n",
            "Resolving raw.githubusercontent.com (raw.githubusercontent.com)... 151.101.0.133, 151.101.64.133, 151.101.128.133, ...\n",
            "Connecting to raw.githubusercontent.com (raw.githubusercontent.com)|151.101.0.133|:443... connected.\n",
            "HTTP request sent, awaiting response... 200 OK\n",
            "Length: 451320 (441K) [text/plain]\n",
            "Saving to: ‘temp/val.csv’\n",
            "\n",
            "temp/val.csv        100%[===================>] 440.74K  --.-KB/s    in 0.02s   \n",
            "\n",
            "2020-11-23 19:01:38 (17.9 MB/s) - ‘temp/val.csv’ saved [451320/451320]\n",
            "\n"
          ],
          "name": "stdout"
        }
      ]
    },
    {
      "cell_type": "code",
      "metadata": {
        "colab": {
          "base_uri": "https://localhost:8080/"
        },
        "id": "I0ijMgkBI1xA",
        "outputId": "6a307b2b-8fe9-4056-a9fc-d5852c1dbe2a"
      },
      "source": [
        "!wget https://raw.githubusercontent.com/stoffesvensson/DeepLearning-ThesisWork-Convolutional/master/cnn-model/datasets/datasetWithoutNeutral -O temp/full_data.csv"
      ],
      "execution_count": null,
      "outputs": [
        {
          "output_type": "stream",
          "text": [
            "--2020-11-23 19:01:38--  https://raw.githubusercontent.com/stoffesvensson/DeepLearning-ThesisWork-Convolutional/master/cnn-model/datasets/datasetWithoutNeutral\n",
            "Resolving raw.githubusercontent.com (raw.githubusercontent.com)... 151.101.0.133, 151.101.64.133, 151.101.128.133, ...\n",
            "Connecting to raw.githubusercontent.com (raw.githubusercontent.com)|151.101.0.133|:443... connected.\n",
            "HTTP request sent, awaiting response... 200 OK\n",
            "Length: 4305995 (4.1M) [text/plain]\n",
            "Saving to: ‘temp/full_data.csv’\n",
            "\n",
            "temp/full_data.csv  100%[===================>]   4.11M  --.-KB/s    in 0.07s   \n",
            "\n",
            "2020-11-23 19:01:41 (57.7 MB/s) - ‘temp/full_data.csv’ saved [4305995/4305995]\n",
            "\n"
          ],
          "name": "stdout"
        }
      ]
    },
    {
      "cell_type": "code",
      "metadata": {
        "colab": {
          "base_uri": "https://localhost:8080/",
          "height": 407
        },
        "id": "5clKUwoDq7zp",
        "outputId": "792a9bb9-8b52-446e-ae28-2d9a98442a77"
      },
      "source": [
        "#dataset kommer ifrån  https://spraakbanken.gu.se/resurser/sentimentlex\n",
        "df = pd.read_csv(\"/content/temp/full_data.csv\",error_bad_lines=False)\n",
        "df"
      ],
      "execution_count": null,
      "outputs": [
        {
          "output_type": "execute_result",
          "data": {
            "text/html": [
              "<div>\n",
              "<style scoped>\n",
              "    .dataframe tbody tr th:only-of-type {\n",
              "        vertical-align: middle;\n",
              "    }\n",
              "\n",
              "    .dataframe tbody tr th {\n",
              "        vertical-align: top;\n",
              "    }\n",
              "\n",
              "    .dataframe thead th {\n",
              "        text-align: right;\n",
              "    }\n",
              "</style>\n",
              "<table border=\"1\" class=\"dataframe\">\n",
              "  <thead>\n",
              "    <tr style=\"text-align: right;\">\n",
              "      <th></th>\n",
              "      <th>index</th>\n",
              "      <th>text</th>\n",
              "      <th>rating</th>\n",
              "    </tr>\n",
              "  </thead>\n",
              "  <tbody>\n",
              "    <tr>\n",
              "      <th>0</th>\n",
              "      <td>1</td>\n",
              "      <td>kanonsnabb leverans</td>\n",
              "      <td>positive</td>\n",
              "    </tr>\n",
              "    <tr>\n",
              "      <th>1</th>\n",
              "      <td>2</td>\n",
              "      <td>appen funkar kanon! det enda som är lite skabb...</td>\n",
              "      <td>positive</td>\n",
              "    </tr>\n",
              "    <tr>\n",
              "      <th>2</th>\n",
              "      <td>3</td>\n",
              "      <td>i tid, trevliga och utförde ett bra jobb. jag ...</td>\n",
              "      <td>positive</td>\n",
              "    </tr>\n",
              "    <tr>\n",
              "      <th>3</th>\n",
              "      <td>4</td>\n",
              "      <td>jag har betalat extra för en express leverans....</td>\n",
              "      <td>negative</td>\n",
              "    </tr>\n",
              "    <tr>\n",
              "      <th>4</th>\n",
              "      <td>5</td>\n",
              "      <td>fungerade fint med bokning och service och mat...</td>\n",
              "      <td>positive</td>\n",
              "    </tr>\n",
              "    <tr>\n",
              "      <th>...</th>\n",
              "      <td>...</td>\n",
              "      <td>...</td>\n",
              "      <td>...</td>\n",
              "    </tr>\n",
              "    <tr>\n",
              "      <th>14291</th>\n",
              "      <td>14292</td>\n",
              "      <td>beställde en bilbarnstol till mitt barnbarn so...</td>\n",
              "      <td>negative</td>\n",
              "    </tr>\n",
              "    <tr>\n",
              "      <th>14292</th>\n",
              "      <td>14293</td>\n",
              "      <td>varning för lång leveranstid trots att varan f...</td>\n",
              "      <td>negative</td>\n",
              "    </tr>\n",
              "    <tr>\n",
              "      <th>14293</th>\n",
              "      <td>14294</td>\n",
              "      <td>fick inte alla skruvar med när jag beställde e...</td>\n",
              "      <td>negative</td>\n",
              "    </tr>\n",
              "    <tr>\n",
              "      <th>14294</th>\n",
              "      <td>14295</td>\n",
              "      <td>ett av få företag som svarar i telefon omedelb...</td>\n",
              "      <td>positive</td>\n",
              "    </tr>\n",
              "    <tr>\n",
              "      <th>14295</th>\n",
              "      <td>14296</td>\n",
              "      <td>behöver inte hålla på att springa till p-autom...</td>\n",
              "      <td>positive</td>\n",
              "    </tr>\n",
              "  </tbody>\n",
              "</table>\n",
              "<p>14296 rows × 3 columns</p>\n",
              "</div>"
            ],
            "text/plain": [
              "       index                                               text    rating\n",
              "0          1                               kanonsnabb leverans   positive\n",
              "1          2  appen funkar kanon! det enda som är lite skabb...  positive\n",
              "2          3  i tid, trevliga och utförde ett bra jobb. jag ...  positive\n",
              "3          4  jag har betalat extra för en express leverans....  negative\n",
              "4          5  fungerade fint med bokning och service och mat...  positive\n",
              "...      ...                                                ...       ...\n",
              "14291  14292  beställde en bilbarnstol till mitt barnbarn so...  negative\n",
              "14292  14293  varning för lång leveranstid trots att varan f...  negative\n",
              "14293  14294  fick inte alla skruvar med när jag beställde e...  negative\n",
              "14294  14295  ett av få företag som svarar i telefon omedelb...  positive\n",
              "14295  14296  behöver inte hålla på att springa till p-autom...  positive\n",
              "\n",
              "[14296 rows x 3 columns]"
            ]
          },
          "metadata": {
            "tags": []
          },
          "execution_count": 6
        }
      ]
    },
    {
      "cell_type": "code",
      "metadata": {
        "colab": {
          "base_uri": "https://localhost:8080/"
        },
        "id": "1mib3yZQrJJA",
        "outputId": "b7ec4e43-a42f-4d31-b289-1b149feabea7"
      },
      "source": [
        "\n",
        "#convert polarity into numbers or binary\n",
        "dataset__sentence_label = df[['text','rating']]\n",
        "dataset__sentence_label.replace({'neutral': np.NaN},inplace=True)\n",
        "dataset__sentence_label = dataset__sentence_label.dropna()\n",
        "print(dataset__sentence_label)\n",
        "sentence = dataset__sentence_label.text\n",
        "label = dataset__sentence_label.rating\n",
        "\n",
        "#sentence"
      ],
      "execution_count": null,
      "outputs": [
        {
          "output_type": "stream",
          "text": [
            "                                                    text    rating\n",
            "0                                   kanonsnabb leverans   positive\n",
            "1      appen funkar kanon! det enda som är lite skabb...  positive\n",
            "2      i tid, trevliga och utförde ett bra jobb. jag ...  positive\n",
            "3      jag har betalat extra för en express leverans....  negative\n",
            "4      fungerade fint med bokning och service och mat...  positive\n",
            "...                                                  ...       ...\n",
            "14291  beställde en bilbarnstol till mitt barnbarn so...  negative\n",
            "14292  varning för lång leveranstid trots att varan f...  negative\n",
            "14293  fick inte alla skruvar med när jag beställde e...  negative\n",
            "14294  ett av få företag som svarar i telefon omedelb...  positive\n",
            "14295  behöver inte hålla på att springa till p-autom...  positive\n",
            "\n",
            "[14296 rows x 2 columns]\n"
          ],
          "name": "stdout"
        },
        {
          "output_type": "stream",
          "text": [
            "/usr/local/lib/python3.6/dist-packages/pandas/core/frame.py:4389: SettingWithCopyWarning: \n",
            "A value is trying to be set on a copy of a slice from a DataFrame\n",
            "\n",
            "See the caveats in the documentation: https://pandas.pydata.org/pandas-docs/stable/user_guide/indexing.html#returning-a-view-versus-a-copy\n",
            "  method=method,\n"
          ],
          "name": "stderr"
        }
      ]
    },
    {
      "cell_type": "code",
      "metadata": {
        "colab": {
          "base_uri": "https://localhost:8080/"
        },
        "id": "wMEENi0NgzZj",
        "outputId": "e2192b6d-b057-4733-bbf2-fb5a17ebd062"
      },
      "source": [
        "from collections import Counter\n",
        "print(Counter(label))"
      ],
      "execution_count": null,
      "outputs": [
        {
          "output_type": "stream",
          "text": [
            "Counter({'positive': 9667, 'negative': 4629})\n"
          ],
          "name": "stdout"
        }
      ]
    },
    {
      "cell_type": "code",
      "metadata": {
        "colab": {
          "base_uri": "https://localhost:8080/"
        },
        "id": "ApMhcLk7rKGD",
        "outputId": "86f18fd9-ce72-4580-b5c8-0c2981010209"
      },
      "source": [
        "frames = [sentence,label]\n",
        "new_df = pd.concat(frames,axis=1)\n",
        "\n",
        "#data[\"income\"].replace({ ' <=50K': 0, ' >50K':1 }, inplace=True)\n",
        "new_df[\"rating\"].replace({'positive':1,'negative':0},inplace=True)\n",
        "print(new_df)\n",
        "new_df.info()\n",
        "print(\"================================\")\n",
        "print()\n",
        "print()\n",
        "print()\n",
        "\n",
        "print(Counter(new_df.rating))"
      ],
      "execution_count": null,
      "outputs": [
        {
          "output_type": "stream",
          "text": [
            "                                                    text  rating\n",
            "0                                   kanonsnabb leverans        1\n",
            "1      appen funkar kanon! det enda som är lite skabb...       1\n",
            "2      i tid, trevliga och utförde ett bra jobb. jag ...       1\n",
            "3      jag har betalat extra för en express leverans....       0\n",
            "4      fungerade fint med bokning och service och mat...       1\n",
            "...                                                  ...     ...\n",
            "14291  beställde en bilbarnstol till mitt barnbarn so...       0\n",
            "14292  varning för lång leveranstid trots att varan f...       0\n",
            "14293  fick inte alla skruvar med när jag beställde e...       0\n",
            "14294  ett av få företag som svarar i telefon omedelb...       1\n",
            "14295  behöver inte hålla på att springa till p-autom...       1\n",
            "\n",
            "[14296 rows x 2 columns]\n",
            "<class 'pandas.core.frame.DataFrame'>\n",
            "Int64Index: 14296 entries, 0 to 14295\n",
            "Data columns (total 2 columns):\n",
            " #   Column  Non-Null Count  Dtype \n",
            "---  ------  --------------  ----- \n",
            " 0   text    14296 non-null  object\n",
            " 1   rating  14296 non-null  int64 \n",
            "dtypes: int64(1), object(1)\n",
            "memory usage: 335.1+ KB\n",
            "================================\n",
            "\n",
            "\n",
            "\n",
            "Counter({1: 9667, 0: 4629})\n"
          ],
          "name": "stdout"
        }
      ]
    },
    {
      "cell_type": "markdown",
      "metadata": {
        "id": "QSOFtco_7exm"
      },
      "source": [
        "Holdout set for testing classifier\n"
      ]
    },
    {
      "cell_type": "code",
      "metadata": {
        "colab": {
          "base_uri": "https://localhost:8080/"
        },
        "id": "GdP5c77O7kt8",
        "outputId": "00b0b60e-763b-49f2-e8fc-a33c2ea89e8c"
      },
      "source": [
        "holdout_df = new_df.sample(570)\n",
        "\n",
        "new_df = new_df.drop(holdout_df.index, axis =0)\n",
        "\n",
        "print(\"Holdout set \", Counter(holdout_df.rating))\n",
        "print(\"Training set \",Counter(new_df.rating))"
      ],
      "execution_count": null,
      "outputs": [
        {
          "output_type": "stream",
          "text": [
            "Holdout set  Counter({1: 399, 0: 171})\n",
            "Training set  Counter({1: 9268, 0: 4458})\n"
          ],
          "name": "stdout"
        }
      ]
    },
    {
      "cell_type": "code",
      "metadata": {
        "colab": {
          "base_uri": "https://localhost:8080/"
        },
        "id": "z7sSsC7DrUz9",
        "outputId": "cf36ae80-eeef-401c-d140-6b430354ad1a"
      },
      "source": [
        "import torch\n",
        "\n",
        "if torch.cuda.is_available():       \n",
        "    device = torch.device(\"cuda\")\n",
        "    print(f'There are {torch.cuda.device_count()} GPU(s) available.')\n",
        "    print('Device name:', torch.cuda.get_device_name(0))\n",
        "\n",
        "else:\n",
        "    print('No GPU available, using the CPU instead.')\n",
        "    device = torch.device(\"cpu\")"
      ],
      "execution_count": null,
      "outputs": [
        {
          "output_type": "stream",
          "text": [
            "There are 1 GPU(s) available.\n",
            "Device name: Tesla T4\n"
          ],
          "name": "stdout"
        }
      ]
    },
    {
      "cell_type": "code",
      "metadata": {
        "colab": {
          "base_uri": "https://localhost:8080/"
        },
        "id": "gj_CIsmAwSWW",
        "outputId": "c410d40c-81ca-440f-b697-3456752e3a38"
      },
      "source": [
        "!pip install transformers"
      ],
      "execution_count": null,
      "outputs": [
        {
          "output_type": "stream",
          "text": [
            "Requirement already satisfied: transformers in /usr/local/lib/python3.6/dist-packages (3.5.1)\n",
            "Requirement already satisfied: tokenizers==0.9.3 in /usr/local/lib/python3.6/dist-packages (from transformers) (0.9.3)\n",
            "Requirement already satisfied: requests in /usr/local/lib/python3.6/dist-packages (from transformers) (2.23.0)\n",
            "Requirement already satisfied: dataclasses; python_version < \"3.7\" in /usr/local/lib/python3.6/dist-packages (from transformers) (0.8)\n",
            "Requirement already satisfied: sentencepiece==0.1.91 in /usr/local/lib/python3.6/dist-packages (from transformers) (0.1.91)\n",
            "Requirement already satisfied: filelock in /usr/local/lib/python3.6/dist-packages (from transformers) (3.0.12)\n",
            "Requirement already satisfied: sacremoses in /usr/local/lib/python3.6/dist-packages (from transformers) (0.0.43)\n",
            "Requirement already satisfied: regex!=2019.12.17 in /usr/local/lib/python3.6/dist-packages (from transformers) (2019.12.20)\n",
            "Requirement already satisfied: packaging in /usr/local/lib/python3.6/dist-packages (from transformers) (20.4)\n",
            "Requirement already satisfied: numpy in /usr/local/lib/python3.6/dist-packages (from transformers) (1.18.5)\n",
            "Requirement already satisfied: tqdm>=4.27 in /usr/local/lib/python3.6/dist-packages (from transformers) (4.41.1)\n",
            "Requirement already satisfied: protobuf in /usr/local/lib/python3.6/dist-packages (from transformers) (3.12.4)\n",
            "Requirement already satisfied: urllib3!=1.25.0,!=1.25.1,<1.26,>=1.21.1 in /usr/local/lib/python3.6/dist-packages (from requests->transformers) (1.24.3)\n",
            "Requirement already satisfied: chardet<4,>=3.0.2 in /usr/local/lib/python3.6/dist-packages (from requests->transformers) (3.0.4)\n",
            "Requirement already satisfied: certifi>=2017.4.17 in /usr/local/lib/python3.6/dist-packages (from requests->transformers) (2020.11.8)\n",
            "Requirement already satisfied: idna<3,>=2.5 in /usr/local/lib/python3.6/dist-packages (from requests->transformers) (2.10)\n",
            "Requirement already satisfied: six in /usr/local/lib/python3.6/dist-packages (from sacremoses->transformers) (1.15.0)\n",
            "Requirement already satisfied: joblib in /usr/local/lib/python3.6/dist-packages (from sacremoses->transformers) (0.17.0)\n",
            "Requirement already satisfied: click in /usr/local/lib/python3.6/dist-packages (from sacremoses->transformers) (7.1.2)\n",
            "Requirement already satisfied: pyparsing>=2.0.2 in /usr/local/lib/python3.6/dist-packages (from packaging->transformers) (2.4.7)\n",
            "Requirement already satisfied: setuptools in /usr/local/lib/python3.6/dist-packages (from protobuf->transformers) (50.3.2)\n"
          ],
          "name": "stdout"
        }
      ]
    },
    {
      "cell_type": "code",
      "metadata": {
        "colab": {
          "base_uri": "https://localhost:8080/",
          "height": 313,
          "referenced_widgets": [
            "75703e0961c3417a92f9ed482c538b1a",
            "aaabfc9c73b04df69c75f53f96c6a908",
            "2efc787328d84e0484627785e6b9802d",
            "ee48835f146e43fd997772b07577433e",
            "075a3e0884094846b0c641b3844d2152",
            "69035c24cdba45a9932b7f3e80c744e9",
            "cc44c5b0cfec493ab6c33671aea9396a",
            "e755a923661e42e5b55929dc9023bc41",
            "1719f2a4c2c34ff99d58c88fd38505ee",
            "8882efee85ba4ba89858bc38ecee5e89",
            "2c6253047a9b49c495954843351cdf69",
            "b0f732d22f56439cbba7e2ed7a9d53e4",
            "a01b6d0477084073811b8233b4ae8767",
            "f31697bd901c44769cfc425d658edb66",
            "b5f995a63aa04606b92d68f13a53f629",
            "390337640fc04d56923ed80169554cef",
            "bf7a7f41b545481ba298b57ba0d56c1f",
            "9beefbaaa1ab4dc4a0cb1bcbae079a65",
            "3e209a45562d4a22b491c6a55e7daa3b",
            "73b37d8f9b45440b9ee35c341f72e0ec",
            "38d9db3f348b48d3993acb6dc7c0a57a",
            "580b628bfe784c50ad2da880ed26b79c",
            "ac682b30ec3e4efaa6bad4fb2dc5a260",
            "eacde400212c4379874d85e4060a0d08",
            "9a093499bd0a402a8d2f7766087c106b",
            "583a1ba18ed74765a44160975fc9de35",
            "a87f9e68863442829640e2b815d19393",
            "e085b85c7d05489eb20ff9bffad2096d",
            "d95a53c965d44bf084b7d801d4f024d9",
            "33afebc523f8490ea31722c606f67a40",
            "439cbe571f0346f99af2c44890b67846",
            "5341c0b88a9e498cb0641fd2db52a7b7",
            "9dff37862f2744b9b938fcf712e1c87e",
            "0b1b654cce684a05b27d47c1a64e8a4f",
            "6e14803da7394e4d8bcefb94cbee998e",
            "739bd945f38b49c1b18a6df686c9a990",
            "c382d86d105d48cbbd9d3d9b9ee94a79",
            "0bb97c83eba243c299231cd756f5cfad",
            "18f8bf2c18dc4900b4eb4f9177c9e20b",
            "0fc9ed09cfe54d11bd68db23bb1e5c82",
            "56ed27705ae24cc19bf0c6601d59fadb",
            "d330c2ef062a418faf7914bb7bbfb4de",
            "04f730c35219477b99469ecee0456168",
            "74a9e7c7d4cd4d8b82ef9c25d76bcd23",
            "1aa7da1850344ba4b68780c72bcf12b6",
            "f3a2af25ea8c47ee96865877d05d0dee",
            "b47500bd22b2404cabc649d6a3e667eb",
            "e429c30b693b41b38cb05daf54b45447"
          ]
        },
        "id": "cZcZTvgYrej3",
        "outputId": "4848a0fe-2c85-4754-ed73-ce6edcaf4238"
      },
      "source": [
        "from transformers import AutoModel,AutoTokenizer,TFAutoModel\n",
        "tokenizer = AutoTokenizer.from_pretrained('KB/bert-base-swedish-cased')\n",
        "model = AutoModel.from_pretrained('KB/bert-base-swedish-cased')"
      ],
      "execution_count": null,
      "outputs": [
        {
          "output_type": "display_data",
          "data": {
            "application/vnd.jupyter.widget-view+json": {
              "model_id": "75703e0961c3417a92f9ed482c538b1a",
              "version_minor": 0,
              "version_major": 2
            },
            "text/plain": [
              "HBox(children=(FloatProgress(value=0.0, description='Downloading', max=491.0, style=ProgressStyle(description_…"
            ]
          },
          "metadata": {
            "tags": []
          }
        },
        {
          "output_type": "stream",
          "text": [
            "\n"
          ],
          "name": "stdout"
        },
        {
          "output_type": "display_data",
          "data": {
            "application/vnd.jupyter.widget-view+json": {
              "model_id": "1719f2a4c2c34ff99d58c88fd38505ee",
              "version_minor": 0,
              "version_major": 2
            },
            "text/plain": [
              "HBox(children=(FloatProgress(value=0.0, description='Downloading', max=399162.0, style=ProgressStyle(descripti…"
            ]
          },
          "metadata": {
            "tags": []
          }
        },
        {
          "output_type": "stream",
          "text": [
            "\n"
          ],
          "name": "stdout"
        },
        {
          "output_type": "display_data",
          "data": {
            "application/vnd.jupyter.widget-view+json": {
              "model_id": "bf7a7f41b545481ba298b57ba0d56c1f",
              "version_minor": 0,
              "version_major": 2
            },
            "text/plain": [
              "HBox(children=(FloatProgress(value=0.0, description='Downloading', max=2.0, style=ProgressStyle(description_wi…"
            ]
          },
          "metadata": {
            "tags": []
          }
        },
        {
          "output_type": "stream",
          "text": [
            "\n"
          ],
          "name": "stdout"
        },
        {
          "output_type": "display_data",
          "data": {
            "application/vnd.jupyter.widget-view+json": {
              "model_id": "9a093499bd0a402a8d2f7766087c106b",
              "version_minor": 0,
              "version_major": 2
            },
            "text/plain": [
              "HBox(children=(FloatProgress(value=0.0, description='Downloading', max=112.0, style=ProgressStyle(description_…"
            ]
          },
          "metadata": {
            "tags": []
          }
        },
        {
          "output_type": "stream",
          "text": [
            "\n"
          ],
          "name": "stdout"
        },
        {
          "output_type": "display_data",
          "data": {
            "application/vnd.jupyter.widget-view+json": {
              "model_id": "9dff37862f2744b9b938fcf712e1c87e",
              "version_minor": 0,
              "version_major": 2
            },
            "text/plain": [
              "HBox(children=(FloatProgress(value=0.0, description='Downloading', max=48.0, style=ProgressStyle(description_w…"
            ]
          },
          "metadata": {
            "tags": []
          }
        },
        {
          "output_type": "stream",
          "text": [
            "\n"
          ],
          "name": "stdout"
        },
        {
          "output_type": "display_data",
          "data": {
            "application/vnd.jupyter.widget-view+json": {
              "model_id": "56ed27705ae24cc19bf0c6601d59fadb",
              "version_minor": 0,
              "version_major": 2
            },
            "text/plain": [
              "HBox(children=(FloatProgress(value=0.0, description='Downloading', max=501379977.0, style=ProgressStyle(descri…"
            ]
          },
          "metadata": {
            "tags": []
          }
        },
        {
          "output_type": "stream",
          "text": [
            "\n"
          ],
          "name": "stdout"
        }
      ]
    },
    {
      "cell_type": "code",
      "metadata": {
        "id": "pg4Mozx7wXIj"
      },
      "source": [
        "#from sklearn.model_selection import train_test_split\n",
        "#from torch.utils.data import TensorDataset,DataLoader, RandomSampler, SequentialSampler\n",
        "\n",
        "#df_train, df_test = train_test_split(new_df, test_size =0.1, random_state= 1234)\n",
        "##df_val,df_test = train_test_split(df_test,test_size=0.5,random_state=1234)\n",
        "\n",
        "#df_test.shape,df_val.shape"
      ],
      "execution_count": null,
      "outputs": []
    },
    {
      "cell_type": "code",
      "metadata": {
        "colab": {
          "base_uri": "https://localhost:8080/"
        },
        "id": "Xh0JZs9R0QFT",
        "outputId": "b28e7701-1305-4b7d-acbe-4dae29810b8a"
      },
      "source": [
        "from sklearn.model_selection import train_test_split\n",
        "\n",
        "X = new_df.text.values\n",
        "y = new_df.rating.values\n",
        "\n",
        "X_train, X_val, y_train, y_val = train_test_split(X, y, test_size=0.1, random_state=2020)\n",
        "#X_train, X_test,y_train,y_test = train_test_split(X, y, test_size=0.1, random_state=2020)\n",
        "#X_val,X_test\n",
        "print(\"Validation set examples \", X_val.shape ,\"  y_val \", y_val.shape)"
      ],
      "execution_count": null,
      "outputs": [
        {
          "output_type": "stream",
          "text": [
            "Validation set examples  (1373,)   y_val  (1373,)\n"
          ],
          "name": "stdout"
        }
      ]
    },
    {
      "cell_type": "code",
      "metadata": {
        "id": "iy1yU3oixDd6"
      },
      "source": [
        "# Create a function to tokenize a set of texts\n",
        "def preprocessing_for_bert(data):\n",
        "    \"\"\"Perform required preprocessing steps for pretrained BERT.\n",
        "    @param    data (np.array): Array of texts to be processed.\n",
        "    @return   input_ids (torch.Tensor): Tensor of token ids to be fed to a model.\n",
        "    @return   attention_masks (torch.Tensor): Tensor of indices specifying which\n",
        "                  tokens should be attended to by the model.\n",
        "    \"\"\"\n",
        "    # Create empty lists to store outputs\n",
        "    input_ids = []\n",
        "    attention_masks = []\n",
        "\n",
        "    # For every sentence...\n",
        "    for sent in data:\n",
        "        # `encode_plus` will:\n",
        "        #    (1) Tokenize the sentence\n",
        "        #    (2) Add the `[CLS]` and `[SEP]` token to the start and end\n",
        "        #    (3) Truncate/Pad sentence to max length\n",
        "        #    (4) Map tokens to their IDs\n",
        "        #    (5) Create attention mask\n",
        "        #    (6) Return a dictionary of outputs\n",
        "        encoded_sent = tokenizer.encode_plus(\n",
        "            text=sent,  # Preprocess sentence\n",
        "            add_special_tokens=True,        # Add `[CLS]` and `[SEP]`\n",
        "            max_length=MAX_LEN,                  # Max length to truncate/pad\n",
        "            pad_to_max_length=True,         # Pad sentence to max length\n",
        "            #return_tensors='pt',           # Return PyTorch tensor\n",
        "            return_attention_mask=True      # Return attention mask\n",
        "            )\n",
        "        \n",
        "        # Add the outputs to the lists\n",
        "        input_ids.append(encoded_sent.get('input_ids'))\n",
        "        attention_masks.append(encoded_sent.get('attention_mask'))\n",
        "\n",
        "    # Convert lists to tensors\n",
        "    input_ids = torch.tensor(input_ids)\n",
        "    attention_masks = torch.tensor(attention_masks)\n",
        "\n",
        "    return input_ids, attention_masks\n"
      ],
      "execution_count": null,
      "outputs": []
    },
    {
      "cell_type": "markdown",
      "metadata": {
        "id": "8VBnqeYAIJLK"
      },
      "source": [
        "Choosing MAX LENGTH\n"
      ]
    },
    {
      "cell_type": "code",
      "metadata": {
        "id": "9kjbOZYQIIbn"
      },
      "source": [
        ""
      ],
      "execution_count": null,
      "outputs": []
    },
    {
      "cell_type": "code",
      "metadata": {
        "colab": {
          "base_uri": "https://localhost:8080/"
        },
        "id": "qLiPyEIFxSwU",
        "outputId": "9e259aaa-99f7-42b5-c9e2-67b07daa93f8"
      },
      "source": [
        "MAX_LEN = 100\n",
        "# Run function `preprocessing_for_bert` on the train set and the validation set\n",
        "\n",
        "print('Tokenizing data...')\n",
        "train_inputs, train_masks = preprocessing_for_bert(X_train)\n",
        "val_inputs, val_masks = preprocessing_for_bert(X_val)"
      ],
      "execution_count": null,
      "outputs": [
        {
          "output_type": "stream",
          "text": [
            "Truncation was not explicitly activated but `max_length` is provided a specific value, please use `truncation=True` to explicitly truncate examples to max length. Defaulting to 'longest_first' truncation strategy. If you encode pairs of sequences (GLUE-style) with the tokenizer you can select this strategy more precisely by providing a specific strategy to `truncation`.\n"
          ],
          "name": "stderr"
        },
        {
          "output_type": "stream",
          "text": [
            "Tokenizing data...\n"
          ],
          "name": "stdout"
        },
        {
          "output_type": "stream",
          "text": [
            "/usr/local/lib/python3.6/dist-packages/transformers/tokenization_utils_base.py:2022: FutureWarning: The `pad_to_max_length` argument is deprecated and will be removed in a future version, use `padding=True` or `padding='longest'` to pad to the longest sequence in the batch, or use `padding='max_length'` to pad to a max length. In this case, you can give a specific length with `max_length` (e.g. `max_length=45`) or leave max_length to None to pad to the maximal input size of the model (e.g. 512 for Bert).\n",
            "  FutureWarning,\n"
          ],
          "name": "stderr"
        }
      ]
    },
    {
      "cell_type": "code",
      "metadata": {
        "id": "OyD2nemU0NWp"
      },
      "source": [
        "from torch.utils.data import TensorDataset, DataLoader, RandomSampler, SequentialSampler\n",
        "\n",
        "# Convert other data types to torch.Tensor\n",
        "train_labels = torch.tensor(y_train)\n",
        "val_labels = torch.tensor(y_val)\n",
        "\n",
        "# For fine-tuning BERT, the authors recommend a batch size of 16 or 32.\n",
        "batch_size = 32\n",
        "\n",
        "# Create the DataLoader for our training set\n",
        "train_data = TensorDataset(train_inputs, train_masks, train_labels)\n",
        "\n",
        "train_sampler = RandomSampler(train_data)\n",
        "train_dataloader = DataLoader(train_data, sampler=train_sampler, batch_size=batch_size)\n",
        "\n",
        "# Create the DataLoader for our validation set\n",
        "val_data = TensorDataset(val_inputs, val_masks, val_labels)\n",
        "val_sampler = SequentialSampler(val_data)\n",
        "val_dataloader = DataLoader(val_data, sampler=val_sampler, batch_size=batch_size)"
      ],
      "execution_count": null,
      "outputs": []
    },
    {
      "cell_type": "code",
      "metadata": {
        "id": "4pWNp6Eb0soU"
      },
      "source": [
        "import torch\n",
        "import torch.nn as nn\n",
        "from transformers import BertModel\n",
        "\n",
        "# Create the BertClassfier class\n",
        "class BertClassifier(nn.Module):\n",
        "    \"\"\"Bert Model for Classification Tasks.\n",
        "    \"\"\"\n",
        "    def __init__(self, freeze_bert=False):\n",
        "        \"\"\"\n",
        "        @param    bert: a BertModel object\n",
        "        @param    classifier: a torch.nn.Module classifier\n",
        "        @param    freeze_bert (bool): Set `False` to fine-tune the BERT model\n",
        "        \"\"\"\n",
        "        super(BertClassifier, self).__init__()\n",
        "        # Specify hidden size of BERT, hidden size of our classifier, and number of labels\n",
        "        D_in, H, D_out = 768, 50, 2\n",
        "\n",
        "        # Instantiate BERT model\n",
        "        self.bert = BertModel.from_pretrained('KB/bert-base-swedish-cased')\n",
        "\n",
        "        # Instantiate an one-layer feed-forward classifier\n",
        "        self.classifier = nn.Sequential(\n",
        "            nn.Linear(D_in, H),\n",
        "            nn.ReLU(),\n",
        "            #nn.Dropout(0.5),\n",
        "            nn.Linear(H, D_out)\n",
        "        )\n",
        "\n",
        "        # Freeze the BERT model\n",
        "        if freeze_bert:\n",
        "            for param in self.bert.parameters():\n",
        "                param.requires_grad = False\n",
        "        \n",
        "    def forward(self, input_ids, attention_mask):\n",
        "        \"\"\"\n",
        "        \n",
        "        Feed input to BERT and the classifier to compute logits.\n",
        "        @param    input_ids (torch.Tensor): an input tensor with shape (batch_size,\n",
        "                      max_length)\n",
        "        @param    attention_mask (torch.Tensor): a tensor that hold attention mask\n",
        "                      information with shape (batch_size, max_length)\n",
        "        @return   logits (torch.Tensor): an output tensor with shape (batch_size,\n",
        "                      num_labels)\n",
        "\n",
        "        \"\"\"\n",
        "        # Feed input to BERT\n",
        "        outputs = self.bert(input_ids=input_ids,\n",
        "                            attention_mask=attention_mask)\n",
        "        \n",
        "        # Extract the last hidden state of the token `[CLS]` for classification task\n",
        "        last_hidden_state_cls = outputs[0][:, 0, :]\n",
        "\n",
        "        # Feed input to classifier to compute logits\n",
        "        logits = self.classifier(last_hidden_state_cls)\n",
        "\n",
        "        return logits\n"
      ],
      "execution_count": null,
      "outputs": []
    },
    {
      "cell_type": "code",
      "metadata": {
        "id": "bE5PQvgrnyxu"
      },
      "source": [
        "class_names = ['negative', 'positive']"
      ],
      "execution_count": null,
      "outputs": []
    },
    {
      "cell_type": "code",
      "metadata": {
        "id": "roIs-d2yo0Cj"
      },
      "source": [
        "#@misc{ \n",
        " #   swedish-bert,\n",
        " #   title={Playing with Words at the National Library of Sweden -- Making a Swedish BERT},\n",
        " #   author={Martin Malmsten and Love Börjeson and Chris Haffenden},\n",
        " #   year={2020},\n",
        " #   eprint={2007.01658},\n",
        " #   archivePrefix={arXiv},\n",
        " #   primaryClass={cs.CL}\n",
        "#}"
      ],
      "execution_count": null,
      "outputs": []
    },
    {
      "cell_type": "code",
      "metadata": {
        "id": "8w-gZv7Bmnnm"
      },
      "source": [
        "class SentimentClassifier(nn.Module):\n",
        "\n",
        "  def __init__(self, n_classes):\n",
        "    super(SentimentClassifier, self).__init__()\n",
        "    self.bert = BertModel.from_pretrained('KB/bert-base-swedish-cased')\n",
        "    self.drop = nn.Dropout(p=0.3)\n",
        "    self.out = nn.Linear(self.bert.config.hidden_size, n_classes)\n",
        "  \n",
        "  def forward(self, input_ids, attention_mask):\n",
        "    _, pooled_output = self.bert(\n",
        "      input_ids=input_ids,\n",
        "      attention_mask=attention_mask\n",
        "    )\n",
        "    output = self.drop(pooled_output)\n",
        "    return self.out(output)"
      ],
      "execution_count": null,
      "outputs": []
    },
    {
      "cell_type": "code",
      "metadata": {
        "id": "2V-Fz9Nq02AD"
      },
      "source": [
        "from transformers import AdamW, get_linear_schedule_with_warmup\n",
        "\n",
        "def initialize_model(epochs=4):\n",
        "    \"\"\"Initialize the Bert Classifier, the optimizer and the learning rate scheduler.\n",
        "    \"\"\"\n",
        "    # Instantiate Bert Classifier\n",
        "    #bert_classifier = BertClassifier(freeze_bert=False)\n",
        "    bert_classifier = SentimentClassifier(len(class_names))\n",
        "    # Tell PyTorch to run the model on GPU\n",
        "    bert_classifier.to(device)\n",
        "\n",
        "    # Create the optimizer\n",
        "    optimizer = AdamW(bert_classifier.parameters(),\n",
        "                      lr=5e-5,    # Default learning rate\n",
        "                      eps=1e-8    # Default epsilon value\n",
        "                      )\n",
        "\n",
        "    # Total number of training steps\n",
        "    total_steps = len(train_dataloader) * epochs\n",
        "\n",
        "    # Set up the learning rate scheduler\n",
        "    scheduler = get_linear_schedule_with_warmup(optimizer,\n",
        "                                                num_warmup_steps=0, # Default value\n",
        "                                                num_training_steps=total_steps)\n",
        "    return bert_classifier, optimizer, scheduler\n"
      ],
      "execution_count": null,
      "outputs": []
    },
    {
      "cell_type": "code",
      "metadata": {
        "id": "oZ4KxAo-05zy"
      },
      "source": [
        "import random\n",
        "import time\n",
        "\n",
        "# Specify loss function\n",
        "loss_fn = nn.CrossEntropyLoss()\n",
        "\n",
        "def set_seed(seed_value=42):\n",
        "    \"\"\"Set seed for reproducibility.\n",
        "    \"\"\"\n",
        "    random.seed(seed_value)\n",
        "    np.random.seed(seed_value)\n",
        "    torch.manual_seed(seed_value)\n",
        "    torch.cuda.manual_seed_all(seed_value)\n",
        "\n",
        "def train(model, train_dataloader, val_dataloader=None, epochs=4, evaluation=False):\n",
        "    \"\"\"Train the BertClassifier model.\n",
        "    \"\"\"\n",
        "    # Start training loop\n",
        "    print(\"Start training...\\n\")\n",
        "    for epoch_i in range(epochs):\n",
        "        # =======================================\n",
        "        #               Training\n",
        "        # =======================================\n",
        "        # Print the header of the result table\n",
        "        print(f\"{'Epoch':^7} | {'Batch':^7} | {'Train Loss':^12} | {'Val Loss':^10} | {'Val Acc':^9} | {'Elapsed':^9}\")\n",
        "        print(\"-\"*70)\n",
        "\n",
        "        # Measure the elapsed time of each epoch\n",
        "        t0_epoch, t0_batch = time.time(), time.time()\n",
        "\n",
        "        # Reset tracking variables at the beginning of each epoch\n",
        "        total_loss, batch_loss, batch_counts = 0, 0, 0\n",
        "\n",
        "        # Put the model into the training mode [ITS JUST A FLAG]\n",
        "        model.train()\n",
        "\n",
        "        # For each batch of training data...\n",
        "        for step, batch in enumerate(train_dataloader):\n",
        "            batch_counts +=1\n",
        "            # Load batch to GPU\n",
        "            b_input_ids, b_attn_mask, b_labels = tuple(t.to(device) for t in batch) #We take every tokenized sentence and put it to the gpu\n",
        "\n",
        "            # Zero out any previously calculated gradients\n",
        "            model.zero_grad() #Refresh the gradients before performing a backward pass\n",
        "\n",
        "            # Perform a forward pass. This will return logits.\n",
        "            logits = model(b_input_ids, b_attn_mask) #put b_labels \n",
        "\n",
        "            # Compute loss and accumulate the loss values\n",
        "            loss = loss_fn(logits, b_labels)\n",
        "            batch_loss += loss.item()\n",
        "            total_loss += loss.item()\n",
        "\n",
        "            # Perform a backward pass to calculate gradients\n",
        "            loss.backward()\n",
        "\n",
        "            # Clip the norm of the gradients to 1.0 to prevent \"exploding gradients\"\n",
        "            torch.nn.utils.clip_grad_norm_(model.parameters(), 1.0)\n",
        "\n",
        "            # Update parameters and the learning rate\n",
        "            optimizer.step()\n",
        "            scheduler.step()\n",
        "\n",
        "            # Print the loss values and time elapsed for every 20 batches\n",
        "            if (step % 20 == 0 and step != 0) or (step == len(train_dataloader) - 1):\n",
        "                # Calculate time elapsed for 20 batches\n",
        "                time_elapsed = time.time() - t0_batch\n",
        "\n",
        "                # Print training results\n",
        "                print(f\"{epoch_i + 1:^7} | {step:^7} | {batch_loss / batch_counts:^12.6f} | {'-':^10} | {'-':^9} | {time_elapsed:^9.2f}\")\n",
        "\n",
        "                # Reset batch tracking variables\n",
        "                batch_loss, batch_counts = 0, 0\n",
        "                t0_batch = time.time()\n",
        "\n",
        "        # Calculate the average loss over the entire training data\n",
        "        avg_train_loss = total_loss / len(train_dataloader)\n",
        "\n",
        "        print(\"-\"*70)\n",
        "        # =======================================\n",
        "        #               Evaluation\n",
        "        # =======================================\n",
        "        if evaluation == True:\n",
        "            # After the completion of each training epoch, measure the model's performance\n",
        "            # on our validation set.\n",
        "            val_loss, val_accuracy = evaluate(model, val_dataloader)\n",
        "\n",
        "            # Print performance over the entire training data\n",
        "            time_elapsed = time.time() - t0_epoch\n",
        "            \n",
        "            print(f\"{epoch_i + 1:^7} | {'-':^7} | {avg_train_loss:^12.6f} | {val_loss:^10.6f} | {val_accuracy:^9.2f} | {time_elapsed:^9.2f}\")\n",
        "            print(\"-\"*70)\n",
        "        print(\"\\n\")\n",
        "    \n",
        "    print(\"Training complete!\")\n",
        "\n",
        "\n",
        "def evaluate(model, val_dataloader):\n",
        "    \"\"\"After the completion of each training epoch, measure the model's performance\n",
        "    on our validation set.\n",
        "    \"\"\"\n",
        "    # Put the model into the evaluation mode. The dropout layers are disabled during\n",
        "    # the test time.\n",
        "    model.eval()\n",
        "\n",
        "    # Tracking variables\n",
        "    val_accuracy = []\n",
        "    val_loss = []\n",
        "\n",
        "    # For each batch in our validation set...\n",
        "    for batch in val_dataloader:\n",
        "        # Load batch to GPU\n",
        "        b_input_ids, b_attn_mask, b_labels = tuple(t.to(device) for t in batch)\n",
        "\n",
        "        # Compute logits\n",
        "        with torch.no_grad():\n",
        "            logits = model(b_input_ids, b_attn_mask)\n",
        "\n",
        "        # Compute loss\n",
        "        loss = loss_fn(logits, b_labels)\n",
        "        val_loss.append(loss.item())\n",
        "\n",
        "        # Get the predictions\n",
        "        preds = torch.argmax(logits, dim=1).flatten()\n",
        "\n",
        "        # Calculate the accuracy rate\n",
        "        accuracy = (preds == b_labels).cpu().numpy().mean() * 100\n",
        "        val_accuracy.append(accuracy)\n",
        "\n",
        "    # Compute the average accuracy and loss over the validation set.\n",
        "    val_loss = np.mean(val_loss)\n",
        "    val_accuracy = np.mean(val_accuracy)\n",
        "\n",
        "    return val_loss, val_accuracy\n"
      ],
      "execution_count": null,
      "outputs": []
    },
    {
      "cell_type": "code",
      "metadata": {
        "id": "t3GH2B5Y1B37",
        "colab": {
          "base_uri": "https://localhost:8080/"
        },
        "outputId": "15c8e5f2-b136-47f0-e04e-20f19bfc65f9"
      },
      "source": [
        "set_seed(42)    # Set seed for reproducibility\n",
        "bert_classifier, optimizer, scheduler = initialize_model(epochs=4)\n",
        "train(bert_classifier, train_dataloader, val_dataloader, epochs=4, evaluation=True)\n"
      ],
      "execution_count": null,
      "outputs": [
        {
          "output_type": "stream",
          "text": [
            "Start training...\n",
            "\n",
            " Epoch  |  Batch  |  Train Loss  |  Val Loss  |  Val Acc  |  Elapsed \n",
            "----------------------------------------------------------------------\n",
            "   1    |   20    |   0.305337   |     -      |     -     |   12.21  \n",
            "   1    |   40    |   0.202754   |     -      |     -     |   11.82  \n",
            "   1    |   60    |   0.227890   |     -      |     -     |   12.48  \n",
            "   1    |   80    |   0.170630   |     -      |     -     |   13.01  \n",
            "   1    |   100   |   0.128689   |     -      |     -     |   12.79  \n",
            "   1    |   120   |   0.155825   |     -      |     -     |   12.26  \n",
            "   1    |   140   |   0.143732   |     -      |     -     |   12.01  \n",
            "   1    |   160   |   0.132333   |     -      |     -     |   12.00  \n",
            "   1    |   180   |   0.092476   |     -      |     -     |   12.10  \n",
            "   1    |   200   |   0.167229   |     -      |     -     |   12.38  \n",
            "   1    |   220   |   0.175261   |     -      |     -     |   12.51  \n",
            "   1    |   240   |   0.155693   |     -      |     -     |   12.45  \n",
            "   1    |   260   |   0.129185   |     -      |     -     |   12.33  \n",
            "   1    |   280   |   0.101651   |     -      |     -     |   12.25  \n",
            "   1    |   300   |   0.116348   |     -      |     -     |   12.24  \n",
            "   1    |   320   |   0.162501   |     -      |     -     |   12.29  \n",
            "   1    |   340   |   0.131188   |     -      |     -     |   12.31  \n",
            "   1    |   360   |   0.127390   |     -      |     -     |   12.36  \n",
            "   1    |   380   |   0.098625   |     -      |     -     |   12.36  \n",
            "   1    |   386   |   0.129588   |     -      |     -     |   3.19   \n",
            "----------------------------------------------------------------------\n",
            "   1    |    -    |   0.153947   |  0.164188  |   94.75   |  246.67  \n",
            "----------------------------------------------------------------------\n",
            "\n",
            "\n",
            " Epoch  |  Batch  |  Train Loss  |  Val Loss  |  Val Acc  |  Elapsed \n",
            "----------------------------------------------------------------------\n",
            "   2    |   20    |   0.062092   |     -      |     -     |   12.91  \n",
            "   2    |   40    |   0.091043   |     -      |     -     |   12.28  \n",
            "   2    |   60    |   0.055869   |     -      |     -     |   12.32  \n",
            "   2    |   80    |   0.076402   |     -      |     -     |   12.30  \n",
            "   2    |   100   |   0.077320   |     -      |     -     |   12.32  \n",
            "   2    |   120   |   0.075714   |     -      |     -     |   12.25  \n",
            "   2    |   140   |   0.060517   |     -      |     -     |   12.28  \n",
            "   2    |   160   |   0.085358   |     -      |     -     |   12.29  \n",
            "   2    |   180   |   0.121690   |     -      |     -     |   12.32  \n",
            "   2    |   200   |   0.067230   |     -      |     -     |   12.34  \n",
            "   2    |   220   |   0.086812   |     -      |     -     |   12.34  \n",
            "   2    |   240   |   0.112550   |     -      |     -     |   12.33  \n",
            "   2    |   260   |   0.080648   |     -      |     -     |   12.32  \n",
            "   2    |   280   |   0.069588   |     -      |     -     |   12.33  \n",
            "   2    |   300   |   0.060470   |     -      |     -     |   12.28  \n",
            "   2    |   320   |   0.086670   |     -      |     -     |   12.24  \n",
            "   2    |   340   |   0.081377   |     -      |     -     |   12.24  \n",
            "   2    |   360   |   0.046497   |     -      |     -     |   12.25  \n",
            "   2    |   380   |   0.112983   |     -      |     -     |   12.25  \n",
            "   2    |   386   |   0.054338   |     -      |     -     |   3.15   \n",
            "----------------------------------------------------------------------\n",
            "   2    |    -    |   0.079082   |  0.104050  |   96.42   |  246.57  \n",
            "----------------------------------------------------------------------\n",
            "\n",
            "\n",
            " Epoch  |  Batch  |  Train Loss  |  Val Loss  |  Val Acc  |  Elapsed \n",
            "----------------------------------------------------------------------\n",
            "   3    |   20    |   0.032651   |     -      |     -     |   12.81  \n",
            "   3    |   40    |   0.060658   |     -      |     -     |   12.19  \n",
            "   3    |   60    |   0.057199   |     -      |     -     |   12.21  \n",
            "   3    |   80    |   0.040967   |     -      |     -     |   12.23  \n",
            "   3    |   100   |   0.028994   |     -      |     -     |   12.23  \n",
            "   3    |   120   |   0.030349   |     -      |     -     |   12.23  \n",
            "   3    |   140   |   0.035226   |     -      |     -     |   12.27  \n",
            "   3    |   160   |   0.044468   |     -      |     -     |   12.30  \n",
            "   3    |   180   |   0.054250   |     -      |     -     |   12.33  \n",
            "   3    |   200   |   0.021789   |     -      |     -     |   12.28  \n",
            "   3    |   220   |   0.041696   |     -      |     -     |   12.31  \n",
            "   3    |   240   |   0.074843   |     -      |     -     |   12.25  \n",
            "   3    |   260   |   0.041272   |     -      |     -     |   12.29  \n",
            "   3    |   280   |   0.023245   |     -      |     -     |   12.25  \n",
            "   3    |   300   |   0.017528   |     -      |     -     |   12.22  \n",
            "   3    |   320   |   0.039939   |     -      |     -     |   12.28  \n",
            "   3    |   340   |   0.063344   |     -      |     -     |   12.26  \n",
            "   3    |   360   |   0.019468   |     -      |     -     |   12.21  \n",
            "   3    |   380   |   0.040645   |     -      |     -     |   12.22  \n",
            "   3    |   386   |   0.072554   |     -      |     -     |   3.16   \n",
            "----------------------------------------------------------------------\n",
            "   3    |    -    |   0.040927   |  0.168523  |   96.36   |  245.83  \n",
            "----------------------------------------------------------------------\n",
            "\n",
            "\n",
            " Epoch  |  Batch  |  Train Loss  |  Val Loss  |  Val Acc  |  Elapsed \n",
            "----------------------------------------------------------------------\n",
            "   4    |   20    |   0.037381   |     -      |     -     |   12.85  \n",
            "   4    |   40    |   0.025427   |     -      |     -     |   12.26  \n",
            "   4    |   60    |   0.036394   |     -      |     -     |   12.28  \n",
            "   4    |   80    |   0.018539   |     -      |     -     |   12.25  \n",
            "   4    |   100   |   0.016589   |     -      |     -     |   12.24  \n",
            "   4    |   120   |   0.019257   |     -      |     -     |   12.29  \n",
            "   4    |   140   |   0.024206   |     -      |     -     |   12.31  \n",
            "   4    |   160   |   0.038008   |     -      |     -     |   12.26  \n",
            "   4    |   180   |   0.003104   |     -      |     -     |   12.23  \n",
            "   4    |   200   |   0.022991   |     -      |     -     |   12.25  \n",
            "   4    |   220   |   0.036232   |     -      |     -     |   12.25  \n",
            "   4    |   240   |   0.001703   |     -      |     -     |   12.23  \n",
            "   4    |   260   |   0.003302   |     -      |     -     |   12.21  \n",
            "   4    |   280   |   0.027903   |     -      |     -     |   12.20  \n",
            "   4    |   300   |   0.015386   |     -      |     -     |   12.22  \n",
            "   4    |   320   |   0.030681   |     -      |     -     |   12.15  \n",
            "   4    |   340   |   0.011226   |     -      |     -     |   12.21  \n",
            "   4    |   360   |   0.016698   |     -      |     -     |   12.25  \n",
            "   4    |   380   |   0.002534   |     -      |     -     |   12.22  \n",
            "   4    |   386   |   0.002981   |     -      |     -     |   3.16   \n",
            "----------------------------------------------------------------------\n",
            "   4    |    -    |   0.020172   |  0.199393  |   96.36   |  245.63  \n",
            "----------------------------------------------------------------------\n",
            "\n",
            "\n",
            " Epoch  |  Batch  |  Train Loss  |  Val Loss  |  Val Acc  |  Elapsed \n",
            "----------------------------------------------------------------------\n",
            "   5    |   20    |   0.004000   |     -      |     -     |   12.85  \n",
            "   5    |   40    |   0.017743   |     -      |     -     |   12.21  \n",
            "   5    |   60    |   0.000680   |     -      |     -     |   12.28  \n",
            "   5    |   80    |   0.019996   |     -      |     -     |   12.25  \n",
            "   5    |   100   |   0.011211   |     -      |     -     |   12.19  \n",
            "   5    |   120   |   0.002908   |     -      |     -     |   12.20  \n",
            "   5    |   140   |   0.000760   |     -      |     -     |   12.26  \n",
            "   5    |   160   |   0.000429   |     -      |     -     |   12.16  \n",
            "   5    |   180   |   0.000499   |     -      |     -     |   12.21  \n",
            "   5    |   200   |   0.040131   |     -      |     -     |   12.16  \n",
            "   5    |   220   |   0.004169   |     -      |     -     |   12.17  \n",
            "   5    |   240   |   0.014341   |     -      |     -     |   12.20  \n",
            "   5    |   260   |   0.020005   |     -      |     -     |   12.28  \n",
            "   5    |   280   |   0.018992   |     -      |     -     |   12.26  \n",
            "   5    |   300   |   0.026574   |     -      |     -     |   12.25  \n",
            "   5    |   320   |   0.007862   |     -      |     -     |   12.22  \n",
            "   5    |   340   |   0.005634   |     -      |     -     |   12.19  \n",
            "   5    |   360   |   0.009425   |     -      |     -     |   12.22  \n",
            "   5    |   380   |   0.017330   |     -      |     -     |   12.20  \n",
            "   5    |   386   |   0.002587   |     -      |     -     |   3.12   \n",
            "----------------------------------------------------------------------\n",
            "   5    |    -    |   0.011559   |  0.213876  |   96.43   |  245.12  \n",
            "----------------------------------------------------------------------\n",
            "\n",
            "\n",
            " Epoch  |  Batch  |  Train Loss  |  Val Loss  |  Val Acc  |  Elapsed \n",
            "----------------------------------------------------------------------\n",
            "   6    |   20    |   0.003594   |     -      |     -     |   12.80  \n",
            "   6    |   40    |   0.001510   |     -      |     -     |   12.17  \n",
            "   6    |   60    |   0.000241   |     -      |     -     |   12.22  \n",
            "   6    |   80    |   0.001015   |     -      |     -     |   12.26  \n",
            "   6    |   100   |   0.006773   |     -      |     -     |   12.33  \n",
            "   6    |   120   |   0.004614   |     -      |     -     |   12.29  \n",
            "   6    |   140   |   0.003330   |     -      |     -     |   12.27  \n",
            "   6    |   160   |   0.000135   |     -      |     -     |   12.24  \n",
            "   6    |   180   |   0.005290   |     -      |     -     |   12.23  \n",
            "   6    |   200   |   0.013297   |     -      |     -     |   12.21  \n",
            "   6    |   220   |   0.000271   |     -      |     -     |   12.24  \n",
            "   6    |   240   |   0.020757   |     -      |     -     |   12.27  \n",
            "   6    |   260   |   0.011512   |     -      |     -     |   12.25  \n",
            "   6    |   280   |   0.009471   |     -      |     -     |   12.25  \n",
            "   6    |   300   |   0.002098   |     -      |     -     |   12.22  \n",
            "   6    |   320   |   0.007479   |     -      |     -     |   12.22  \n",
            "   6    |   340   |   0.013369   |     -      |     -     |   12.30  \n",
            "   6    |   360   |   0.006696   |     -      |     -     |   12.35  \n",
            "   6    |   380   |   0.011113   |     -      |     -     |   12.33  \n",
            "   6    |   386   |   0.001388   |     -      |     -     |   3.16   \n",
            "----------------------------------------------------------------------\n",
            "   6    |    -    |   0.006365   |  0.275773  |   95.85   |  245.93  \n",
            "----------------------------------------------------------------------\n",
            "\n",
            "\n",
            " Epoch  |  Batch  |  Train Loss  |  Val Loss  |  Val Acc  |  Elapsed \n",
            "----------------------------------------------------------------------\n",
            "   7    |   20    |   0.015226   |     -      |     -     |   12.88  \n",
            "   7    |   40    |   0.005293   |     -      |     -     |   12.29  \n",
            "   7    |   60    |   0.012712   |     -      |     -     |   12.27  \n",
            "   7    |   80    |   0.001910   |     -      |     -     |   12.31  \n",
            "   7    |   100   |   0.000156   |     -      |     -     |   12.29  \n",
            "   7    |   120   |   0.009015   |     -      |     -     |   12.28  \n",
            "   7    |   140   |   0.004609   |     -      |     -     |   12.30  \n",
            "   7    |   160   |   0.009073   |     -      |     -     |   12.30  \n",
            "   7    |   180   |   0.014695   |     -      |     -     |   12.31  \n",
            "   7    |   200   |   0.014530   |     -      |     -     |   12.27  \n",
            "   7    |   220   |   0.008634   |     -      |     -     |   12.32  \n",
            "   7    |   240   |   0.002768   |     -      |     -     |   12.30  \n",
            "   7    |   260   |   0.007801   |     -      |     -     |   12.27  \n",
            "   7    |   280   |   0.013684   |     -      |     -     |   12.28  \n",
            "   7    |   300   |   0.002977   |     -      |     -     |   12.30  \n",
            "   7    |   320   |   0.001114   |     -      |     -     |   12.24  \n",
            "   7    |   340   |   0.001033   |     -      |     -     |   12.33  \n",
            "   7    |   360   |   0.002406   |     -      |     -     |   12.29  \n",
            "   7    |   380   |   0.008189   |     -      |     -     |   12.27  \n",
            "   7    |   386   |   0.006177   |     -      |     -     |   3.17   \n",
            "----------------------------------------------------------------------\n",
            "   7    |    -    |   0.007154   |  0.234605  |   96.50   |  246.56  \n",
            "----------------------------------------------------------------------\n",
            "\n",
            "\n",
            " Epoch  |  Batch  |  Train Loss  |  Val Loss  |  Val Acc  |  Elapsed \n",
            "----------------------------------------------------------------------\n",
            "   8    |   20    |   0.001350   |     -      |     -     |   12.85  \n",
            "   8    |   40    |   0.003094   |     -      |     -     |   12.27  \n",
            "   8    |   60    |   0.002361   |     -      |     -     |   12.23  \n",
            "   8    |   80    |   0.003591   |     -      |     -     |   12.23  \n",
            "   8    |   100   |   0.001704   |     -      |     -     |   12.23  \n",
            "   8    |   120   |   0.000699   |     -      |     -     |   12.24  \n",
            "   8    |   140   |   0.007397   |     -      |     -     |   12.24  \n",
            "   8    |   160   |   0.002858   |     -      |     -     |   12.17  \n",
            "   8    |   180   |   0.003555   |     -      |     -     |   12.25  \n",
            "   8    |   200   |   0.002347   |     -      |     -     |   12.20  \n",
            "   8    |   220   |   0.000065   |     -      |     -     |   12.25  \n",
            "   8    |   240   |   0.001829   |     -      |     -     |   12.23  \n",
            "   8    |   260   |   0.007723   |     -      |     -     |   12.26  \n",
            "   8    |   280   |   0.015709   |     -      |     -     |   12.26  \n",
            "   8    |   300   |   0.003332   |     -      |     -     |   12.30  \n",
            "   8    |   320   |   0.001241   |     -      |     -     |   12.29  \n",
            "   8    |   340   |   0.004762   |     -      |     -     |   12.31  \n",
            "   8    |   360   |   0.001307   |     -      |     -     |   12.32  \n",
            "   8    |   380   |   0.000895   |     -      |     -     |   12.26  \n",
            "   8    |   386   |   0.044716   |     -      |     -     |   3.15   \n",
            "----------------------------------------------------------------------\n",
            "   8    |    -    |   0.004098   |  0.267875  |   96.36   |  245.82  \n",
            "----------------------------------------------------------------------\n",
            "\n",
            "\n",
            " Epoch  |  Batch  |  Train Loss  |  Val Loss  |  Val Acc  |  Elapsed \n",
            "----------------------------------------------------------------------\n",
            "   9    |   20    |   0.000857   |     -      |     -     |   12.84  \n",
            "   9    |   40    |   0.001456   |     -      |     -     |   12.20  \n",
            "   9    |   60    |   0.005511   |     -      |     -     |   12.23  \n",
            "   9    |   80    |   0.003701   |     -      |     -     |   12.24  \n",
            "   9    |   100   |   0.002184   |     -      |     -     |   12.24  \n",
            "   9    |   120   |   0.012335   |     -      |     -     |   12.20  \n",
            "   9    |   140   |   0.002462   |     -      |     -     |   12.29  \n",
            "   9    |   160   |   0.010430   |     -      |     -     |   12.23  \n",
            "   9    |   180   |   0.004810   |     -      |     -     |   12.30  \n",
            "   9    |   200   |   0.003668   |     -      |     -     |   12.29  \n",
            "   9    |   220   |   0.009868   |     -      |     -     |   12.32  \n",
            "   9    |   240   |   0.002344   |     -      |     -     |   12.29  \n",
            "   9    |   260   |   0.002296   |     -      |     -     |   12.31  \n",
            "   9    |   280   |   0.001652   |     -      |     -     |   12.32  \n",
            "   9    |   300   |   0.006140   |     -      |     -     |   12.27  \n",
            "   9    |   320   |   0.000066   |     -      |     -     |   12.28  \n",
            "   9    |   340   |   0.000868   |     -      |     -     |   12.20  \n",
            "   9    |   360   |   0.000052   |     -      |     -     |   12.25  \n",
            "   9    |   380   |   0.001977   |     -      |     -     |   12.22  \n",
            "   9    |   386   |   0.000052   |     -      |     -     |   3.15   \n",
            "----------------------------------------------------------------------\n",
            "   9    |    -    |   0.003759   |  0.262861  |   96.50   |  245.92  \n",
            "----------------------------------------------------------------------\n",
            "\n",
            "\n",
            " Epoch  |  Batch  |  Train Loss  |  Val Loss  |  Val Acc  |  Elapsed \n",
            "----------------------------------------------------------------------\n",
            "  10    |   20    |   0.002291   |     -      |     -     |   12.86  \n",
            "  10    |   40    |   0.001349   |     -      |     -     |   12.23  \n",
            "  10    |   60    |   0.000710   |     -      |     -     |   12.26  \n",
            "  10    |   80    |   0.005507   |     -      |     -     |   12.24  \n",
            "  10    |   100   |   0.003436   |     -      |     -     |   12.30  \n",
            "  10    |   120   |   0.000886   |     -      |     -     |   12.26  \n",
            "  10    |   140   |   0.001547   |     -      |     -     |   12.29  \n",
            "  10    |   160   |   0.000881   |     -      |     -     |   12.32  \n",
            "  10    |   180   |   0.004702   |     -      |     -     |   12.31  \n",
            "  10    |   200   |   0.000046   |     -      |     -     |   12.27  \n",
            "  10    |   220   |   0.000131   |     -      |     -     |   12.27  \n",
            "  10    |   240   |   0.001709   |     -      |     -     |   12.28  \n",
            "  10    |   260   |   0.000882   |     -      |     -     |   12.36  \n",
            "  10    |   280   |   0.000043   |     -      |     -     |   12.29  \n",
            "  10    |   300   |   0.000051   |     -      |     -     |   12.25  \n",
            "  10    |   320   |   0.002840   |     -      |     -     |   12.23  \n",
            "  10    |   340   |   0.002838   |     -      |     -     |   12.17  \n",
            "  10    |   360   |   0.000786   |     -      |     -     |   12.18  \n",
            "  10    |   380   |   0.002947   |     -      |     -     |   12.19  \n",
            "  10    |   386   |   0.003911   |     -      |     -     |   3.14   \n",
            "----------------------------------------------------------------------\n",
            "  10    |    -    |   0.001802   |  0.272586  |   96.58   |  245.96  \n",
            "----------------------------------------------------------------------\n",
            "\n",
            "\n",
            "Training complete!\n"
          ],
          "name": "stdout"
        }
      ]
    },
    {
      "cell_type": "code",
      "metadata": {
        "id": "OBuMUHFG775N"
      },
      "source": [
        "import torch.nn.functional as F\n",
        "\n",
        "def bert_predict(model, test_dataloader):\n",
        "    \"\"\"Perform a forward pass on the trained BERT model to predict probabilities\n",
        "    on the test set.\n",
        "    \"\"\"\n",
        "    # Put the model into the evaluation mode. The dropout layers are disabled during\n",
        "    # the test time.\n",
        "    model.eval()\n",
        "\n",
        "    all_logits = []\n",
        "\n",
        "    # For each batch in our test set...\n",
        "    for batch in test_dataloader:\n",
        "        # Load batch to GPU\n",
        "        b_input_ids, b_attn_mask = tuple(t.to(device) for t in batch)[:2]\n",
        "\n",
        "        # Compute logits\n",
        "        with torch.no_grad():\n",
        "            logits = model(b_input_ids, b_attn_mask)\n",
        "        all_logits.append(logits)\n",
        "    \n",
        "    # Concatenate logits from each batch\n",
        "    all_logits = torch.cat(all_logits, dim=0)\n",
        "\n",
        "    # Apply softmax to calculate probabilities\n",
        "    probs = F.softmax(all_logits, dim=1).cpu().numpy()\n",
        "\n",
        "    return probs\n"
      ],
      "execution_count": null,
      "outputs": []
    },
    {
      "cell_type": "code",
      "metadata": {
        "id": "ta7zT67n8xh2"
      },
      "source": [
        "from sklearn.metrics import accuracy_score, roc_curve, auc\n",
        "\n",
        "def evaluate_roc(probs, y_true):\n",
        "    \"\"\"\n",
        "    - Print AUC and accuracy on the test set\n",
        "    - Plot ROC\n",
        "    @params    probs (np.array): an array of predicted probabilities with shape (len(y_true), 2)\n",
        "    @params    y_true (np.array): an array of the true values with shape (len(y_true),)\n",
        "    \"\"\"\n",
        "    preds = probs[:, 1]\n",
        "    fpr, tpr, threshold = roc_curve(y_true, preds)\n",
        "    roc_auc = auc(fpr, tpr)\n",
        "    print(f'AUC: {roc_auc:.4f}')\n",
        "       \n",
        "    # Get accuracy over the test set\n",
        "    y_pred = np.where(preds >= 0.5, 1, 0)\n",
        "    accuracy = accuracy_score(y_true, y_pred)\n",
        "    print(f'Accuracy: {accuracy*100:.2f}%')\n",
        "    \n",
        "    # Plot ROC AUC\n",
        "    plt.title('Receiver Operating Characteristic')\n",
        "    plt.plot(fpr, tpr, 'b', label = 'AUC = %0.2f' % roc_auc)\n",
        "    plt.legend(loc = 'lower right')\n",
        "    plt.plot([0, 1], [0, 1],'r--')\n",
        "    plt.xlim([0, 1])\n",
        "    plt.ylim([0, 1])\n",
        "    plt.ylabel('True Positive Rate')\n",
        "    plt.xlabel('False Positive Rate')\n",
        "    plt.show()"
      ],
      "execution_count": null,
      "outputs": []
    },
    {
      "cell_type": "markdown",
      "metadata": {
        "id": "m_3kWjoN76-R"
      },
      "source": [
        "1.   Prepare holdoustset with dataloaders\n",
        "2.   Predict\n",
        "\n"
      ]
    },
    {
      "cell_type": "code",
      "metadata": {
        "colab": {
          "base_uri": "https://localhost:8080/"
        },
        "id": "J1Y7V6RR8Wul",
        "outputId": "b9367cab-972e-4ed3-92c4-1c7a0ae5ac4b"
      },
      "source": [
        "#holdout_df\n",
        "\n",
        "holdout_sentences = holdout_df.text\n",
        "holdout_label = holdout_df.rating\n",
        "\n",
        "\n",
        "test_inputs,test_masks = preprocessing_for_bert(holdout_sentences) \n",
        "\n",
        "#coverting to torch\n",
        "test_labels = torch.tensor(holdout_df.rating.array)\n",
        "#print(holdout_df.rating.array)\n",
        "print(test_inputs.shape)\n",
        "\n",
        "#create test Dataloader\n",
        "test_data = TensorDataset(test_inputs,test_masks,test_labels)\n",
        "test_sampler = RandomSampler(test_data)\n",
        "test_dataloader = DataLoader(test_data,sampler=test_sampler,batch_size=batch_size)\n",
        "\n",
        "\n",
        "\n"
      ],
      "execution_count": null,
      "outputs": [
        {
          "output_type": "stream",
          "text": [
            "/usr/local/lib/python3.6/dist-packages/transformers/tokenization_utils_base.py:2022: FutureWarning: The `pad_to_max_length` argument is deprecated and will be removed in a future version, use `padding=True` or `padding='longest'` to pad to the longest sequence in the batch, or use `padding='max_length'` to pad to a max length. In this case, you can give a specific length with `max_length` (e.g. `max_length=45`) or leave max_length to None to pad to the maximal input size of the model (e.g. 512 for Bert).\n",
            "  FutureWarning,\n"
          ],
          "name": "stderr"
        },
        {
          "output_type": "stream",
          "text": [
            "torch.Size([570, 100])\n"
          ],
          "name": "stdout"
        }
      ]
    },
    {
      "cell_type": "code",
      "metadata": {
        "id": "KJ_iO7sgRbIO"
      },
      "source": [
        "from sklearn.metrics import f1_score\n",
        "\n",
        "from sklearn.metrics import precision_score\n",
        "from sklearn.metrics import recall_score"
      ],
      "execution_count": null,
      "outputs": []
    },
    {
      "cell_type": "code",
      "metadata": {
        "id": "WYI4RqDPRdak"
      },
      "source": [
        "def f1_score_func(preds, labels):\n",
        "    preds_flat = np.argmax(preds, axis=1)\n",
        "    labels_flat = labels\n",
        "    #print( )\n",
        "    return f1_score(labels_flat, preds_flat, average='weighted')"
      ],
      "execution_count": null,
      "outputs": []
    },
    {
      "cell_type": "code",
      "metadata": {
        "colab": {
          "base_uri": "https://localhost:8080/",
          "height": 381
        },
        "id": "b7x5opHd7-gN",
        "outputId": "e6dcbb5e-7e09-48e7-c62f-bb4cd75f6b58"
      },
      "source": [
        "# Compute predicted probabilities on the test set\n",
        "probs = bert_predict(bert_classifier, test_dataloader)\n",
        "\n",
        "# Evaluate the Bert classifier\n",
        "evaluate_roc(probs, holdout_label)\n",
        "\n",
        "print(\"F1 score: \", f1_score_func(probs,holdout_label))\n",
        "probs = np.argmax(probs, axis=1)\n",
        "print(\"Precision Score: \", precision_score( holdout_label, probs ))\n",
        "print(\"Recall Score: \", recall_score( holdout_label, probs ))"
      ],
      "execution_count": null,
      "outputs": [
        {
          "output_type": "stream",
          "text": [
            "AUC: 0.5209\n",
            "Accuracy: 56.49%\n"
          ],
          "name": "stdout"
        },
        {
          "output_type": "display_data",
          "data": {
            "image/png": "[encoded data removed]",
            "text/plain": [
              "<Figure size 432x288 with 1 Axes>"
            ]
          },
          "metadata": {
            "tags": [],
            "needs_background": "light"
          }
        },
        {
          "output_type": "stream",
          "text": [
            "F1 score:  0.5656304779712515\n",
            "Precision Score:  0.690176322418136\n",
            "Recall Score:  0.6867167919799498\n"
          ],
          "name": "stdout"
        }
      ]
    },
    {
      "cell_type": "code",
      "metadata": {
        "id": "LwvsBvj5LnS_"
      },
      "source": [
        "\n"
      ],
      "execution_count": null,
      "outputs": []
    }
  ]
}