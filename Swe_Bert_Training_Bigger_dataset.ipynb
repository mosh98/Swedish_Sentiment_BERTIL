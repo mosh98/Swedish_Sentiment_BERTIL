{
  "nbformat": 4,
  "nbformat_minor": 0,
  "metadata": {
    "accelerator": "GPU",
    "colab": {
      "name": "Swe_Bert_Training_Bigger_dataset.ipynb",
      "provenance": [],
      "mount_file_id": "1tipBJVXXslfrKE-DRi951mPkJVNAVLJ1",
      "authorship_tag": "ABX9TyNd51v8+JyvqojdQrN87sj5"
    },
    "kernelspec": {
      "display_name": "Python 3",
      "name": "python3"
    }
  },
  "cells": [
    {
      "cell_type": "code",
      "metadata": {
        "colab": {
          "base_uri": "https://localhost:8080/"
        },
        "id": "JbzolTDdjxXf",
        "outputId": "4974953f-ba6c-445e-dbd6-81f3798e1ff7"
      },
      "source": [
        "!nvidia-smi"
      ],
      "execution_count": 1,
      "outputs": [
        {
          "output_type": "stream",
          "text": [
            "Wed Nov 25 15:07:59 2020       \n",
            "+-----------------------------------------------------------------------------+\n",
            "| NVIDIA-SMI 455.38       Driver Version: 418.67       CUDA Version: 10.1     |\n",
            "|-------------------------------+----------------------+----------------------+\n",
            "| GPU  Name        Persistence-M| Bus-Id        Disp.A | Volatile Uncorr. ECC |\n",
            "| Fan  Temp  Perf  Pwr:Usage/Cap|         Memory-Usage | GPU-Util  Compute M. |\n",
            "|                               |                      |               MIG M. |\n",
            "|===============================+======================+======================|\n",
            "|   0  Tesla T4            Off  | 00000000:00:04.0 Off |                    0 |\n",
            "| N/A   78C    P0    34W /  70W |      0MiB / 15079MiB |      0%      Default |\n",
            "|                               |                      |                 ERR! |\n",
            "+-------------------------------+----------------------+----------------------+\n",
            "                                                                               \n",
            "+-----------------------------------------------------------------------------+\n",
            "| Processes:                                                                  |\n",
            "|  GPU   GI   CI        PID   Type   Process name                  GPU Memory |\n",
            "|        ID   ID                                                   Usage      |\n",
            "|=============================================================================|\n",
            "|  No running processes found                                                 |\n",
            "+-----------------------------------------------------------------------------+\n"
          ],
          "name": "stdout"
        }
      ]
    },
    {
      "cell_type": "code",
      "metadata": {
        "id": "_uy8uB8vqlkX"
      },
      "source": [
        "import os\n",
        "import re\n",
        "from tqdm import tqdm\n",
        "import numpy as np\n",
        "import pandas as pd\n",
        "import matplotlib.pyplot as plt\n",
        "import seaborn as sns\n",
        "import torch\n",
        "import torch.nn as nn\n",
        "from transformers import BertModel\n",
        "from collections import Counter"
      ],
      "execution_count": 2,
      "outputs": []
    },
    {
      "cell_type": "code",
      "metadata": {
        "colab": {
          "base_uri": "https://localhost:8080/"
        },
        "id": "NLddqcCiqohi",
        "outputId": "1c561a25-c9e5-44d3-8c2d-fa1c170a3348"
      },
      "source": [
        "import pandas as pd\n",
        "!git clone https://github.com/Kungbib/swedish-bert-models\n",
        "!cd swedish-bert-models\n",
        "!python3 -m venv venv\n",
        "!source venv/bin/activate\n",
        "!pip install --upgrade pip\n",
        "!pip install -r /content/swedish-bert-models/requirements.txt"
      ],
      "execution_count": 3,
      "outputs": [
        {
          "output_type": "stream",
          "text": [
            "fatal: destination path 'swedish-bert-models' already exists and is not an empty directory.\n",
            "The virtual environment was not created successfully because ensurepip is not\n",
            "available.  On Debian/Ubuntu systems, you need to install the python3-venv\n",
            "package using the following command.\n",
            "\n",
            "    apt-get install python3-venv\n",
            "\n",
            "You may need to use sudo with that command.  After installing the python3-venv\n",
            "package, recreate your virtual environment.\n",
            "\n",
            "Failing command: ['/content/venv/bin/python3', '-Im', 'ensurepip', '--upgrade', '--default-pip']\n",
            "\n",
            "/bin/bash: venv/bin/activate: No such file or directory\n",
            "Requirement already up-to-date: pip in /usr/local/lib/python3.6/dist-packages (20.2.4)\n",
            "Requirement already satisfied: transformers>=2.4.1 in /usr/local/lib/python3.6/dist-packages (from -r /content/swedish-bert-models/requirements.txt (line 1)) (3.5.1)\n",
            "Requirement already satisfied: torch>=1.3.1 in /usr/local/lib/python3.6/dist-packages (from -r /content/swedish-bert-models/requirements.txt (line 2)) (1.7.0+cu101)\n",
            "Requirement already satisfied: tokenizers==0.9.3 in /usr/local/lib/python3.6/dist-packages (from transformers>=2.4.1->-r /content/swedish-bert-models/requirements.txt (line 1)) (0.9.3)\n",
            "Requirement already satisfied: filelock in /usr/local/lib/python3.6/dist-packages (from transformers>=2.4.1->-r /content/swedish-bert-models/requirements.txt (line 1)) (3.0.12)\n",
            "Requirement already satisfied: numpy in /usr/local/lib/python3.6/dist-packages (from transformers>=2.4.1->-r /content/swedish-bert-models/requirements.txt (line 1)) (1.18.5)\n",
            "Requirement already satisfied: tqdm>=4.27 in /usr/local/lib/python3.6/dist-packages (from transformers>=2.4.1->-r /content/swedish-bert-models/requirements.txt (line 1)) (4.41.1)\n",
            "Requirement already satisfied: packaging in /usr/local/lib/python3.6/dist-packages (from transformers>=2.4.1->-r /content/swedish-bert-models/requirements.txt (line 1)) (20.4)\n",
            "Requirement already satisfied: sentencepiece==0.1.91 in /usr/local/lib/python3.6/dist-packages (from transformers>=2.4.1->-r /content/swedish-bert-models/requirements.txt (line 1)) (0.1.91)\n",
            "Requirement already satisfied: dataclasses; python_version < \"3.7\" in /usr/local/lib/python3.6/dist-packages (from transformers>=2.4.1->-r /content/swedish-bert-models/requirements.txt (line 1)) (0.8)\n",
            "Requirement already satisfied: requests in /usr/local/lib/python3.6/dist-packages (from transformers>=2.4.1->-r /content/swedish-bert-models/requirements.txt (line 1)) (2.23.0)\n",
            "Requirement already satisfied: protobuf in /usr/local/lib/python3.6/dist-packages (from transformers>=2.4.1->-r /content/swedish-bert-models/requirements.txt (line 1)) (3.12.4)\n",
            "Requirement already satisfied: sacremoses in /usr/local/lib/python3.6/dist-packages (from transformers>=2.4.1->-r /content/swedish-bert-models/requirements.txt (line 1)) (0.0.43)\n",
            "Requirement already satisfied: regex!=2019.12.17 in /usr/local/lib/python3.6/dist-packages (from transformers>=2.4.1->-r /content/swedish-bert-models/requirements.txt (line 1)) (2019.12.20)\n",
            "Requirement already satisfied: typing-extensions in /usr/local/lib/python3.6/dist-packages (from torch>=1.3.1->-r /content/swedish-bert-models/requirements.txt (line 2)) (3.7.4.3)\n",
            "Requirement already satisfied: future in /usr/local/lib/python3.6/dist-packages (from torch>=1.3.1->-r /content/swedish-bert-models/requirements.txt (line 2)) (0.16.0)\n",
            "Requirement already satisfied: pyparsing>=2.0.2 in /usr/local/lib/python3.6/dist-packages (from packaging->transformers>=2.4.1->-r /content/swedish-bert-models/requirements.txt (line 1)) (2.4.7)\n",
            "Requirement already satisfied: six in /usr/local/lib/python3.6/dist-packages (from packaging->transformers>=2.4.1->-r /content/swedish-bert-models/requirements.txt (line 1)) (1.15.0)\n",
            "Requirement already satisfied: certifi>=2017.4.17 in /usr/local/lib/python3.6/dist-packages (from requests->transformers>=2.4.1->-r /content/swedish-bert-models/requirements.txt (line 1)) (2020.11.8)\n",
            "Requirement already satisfied: idna<3,>=2.5 in /usr/local/lib/python3.6/dist-packages (from requests->transformers>=2.4.1->-r /content/swedish-bert-models/requirements.txt (line 1)) (2.10)\n",
            "Requirement already satisfied: chardet<4,>=3.0.2 in /usr/local/lib/python3.6/dist-packages (from requests->transformers>=2.4.1->-r /content/swedish-bert-models/requirements.txt (line 1)) (3.0.4)\n",
            "Requirement already satisfied: urllib3!=1.25.0,!=1.25.1,<1.26,>=1.21.1 in /usr/local/lib/python3.6/dist-packages (from requests->transformers>=2.4.1->-r /content/swedish-bert-models/requirements.txt (line 1)) (1.24.3)\n",
            "Requirement already satisfied: setuptools in /usr/local/lib/python3.6/dist-packages (from protobuf->transformers>=2.4.1->-r /content/swedish-bert-models/requirements.txt (line 1)) (50.3.2)\n",
            "Requirement already satisfied: joblib in /usr/local/lib/python3.6/dist-packages (from sacremoses->transformers>=2.4.1->-r /content/swedish-bert-models/requirements.txt (line 1)) (0.17.0)\n",
            "Requirement already satisfied: click in /usr/local/lib/python3.6/dist-packages (from sacremoses->transformers>=2.4.1->-r /content/swedish-bert-models/requirements.txt (line 1)) (7.1.2)\n"
          ],
          "name": "stdout"
        }
      ]
    },
    {
      "cell_type": "code",
      "metadata": {
        "colab": {
          "base_uri": "https://localhost:8080/"
        },
        "id": "oK0dAeWv5SDb",
        "outputId": "36efc220-0d37-439a-f13d-4726c30549c5"
      },
      "source": [
        "!mkdir data\n",
        "!mkdir temp\n",
        "!wget https://github.com/ks222rt/DeepLearning-ThesisWork-Convolutional/raw/master/cnn-model/datasets/testDatasetWithNeuTwo -O temp/train.csv\n",
        "!wget https://github.com/ks222rt/DeepLearning-ThesisWork-Convolutional/raw/master/cnn-model/datasets/testDatasetWithNeuOne -O temp/val.csv"
      ],
      "execution_count": 4,
      "outputs": [
        {
          "output_type": "stream",
          "text": [
            "mkdir: cannot create directory ‘data’: File exists\n",
            "mkdir: cannot create directory ‘temp’: File exists\n",
            "--2020-11-25 15:08:07--  https://github.com/ks222rt/DeepLearning-ThesisWork-Convolutional/raw/master/cnn-model/datasets/testDatasetWithNeuTwo\n",
            "Resolving github.com (github.com)... 192.30.255.113\n",
            "Connecting to github.com (github.com)|192.30.255.113|:443... connected.\n",
            "HTTP request sent, awaiting response... 301 Moved Permanently\n",
            "Location: https://github.com/stoffesvensson/DeepLearning-ThesisWork-Convolutional/raw/master/cnn-model/datasets/testDatasetWithNeuTwo [following]\n",
            "--2020-11-25 15:08:08--  https://github.com/stoffesvensson/DeepLearning-ThesisWork-Convolutional/raw/master/cnn-model/datasets/testDatasetWithNeuTwo\n",
            "Reusing existing connection to github.com:443.\n",
            "HTTP request sent, awaiting response... 302 Found\n",
            "Location: https://raw.githubusercontent.com/stoffesvensson/DeepLearning-ThesisWork-Convolutional/master/cnn-model/datasets/testDatasetWithNeuTwo [following]\n",
            "--2020-11-25 15:08:08--  https://raw.githubusercontent.com/stoffesvensson/DeepLearning-ThesisWork-Convolutional/master/cnn-model/datasets/testDatasetWithNeuTwo\n",
            "Resolving raw.githubusercontent.com (raw.githubusercontent.com)... 151.101.0.133, 151.101.64.133, 151.101.128.133, ...\n",
            "Connecting to raw.githubusercontent.com (raw.githubusercontent.com)|151.101.0.133|:443... connected.\n",
            "HTTP request sent, awaiting response... 200 OK\n",
            "Length: 469424 (458K) [text/plain]\n",
            "Saving to: ‘temp/train.csv’\n",
            "\n",
            "temp/train.csv      100%[===================>] 458.42K  --.-KB/s    in 0.03s   \n",
            "\n",
            "2020-11-25 15:08:08 (17.2 MB/s) - ‘temp/train.csv’ saved [469424/469424]\n",
            "\n",
            "--2020-11-25 15:08:08--  https://github.com/ks222rt/DeepLearning-ThesisWork-Convolutional/raw/master/cnn-model/datasets/testDatasetWithNeuOne\n",
            "Resolving github.com (github.com)... 192.30.255.113\n",
            "Connecting to github.com (github.com)|192.30.255.113|:443... connected.\n",
            "HTTP request sent, awaiting response... 301 Moved Permanently\n",
            "Location: https://github.com/stoffesvensson/DeepLearning-ThesisWork-Convolutional/raw/master/cnn-model/datasets/testDatasetWithNeuOne [following]\n",
            "--2020-11-25 15:08:08--  https://github.com/stoffesvensson/DeepLearning-ThesisWork-Convolutional/raw/master/cnn-model/datasets/testDatasetWithNeuOne\n",
            "Reusing existing connection to github.com:443.\n",
            "HTTP request sent, awaiting response... 302 Found\n",
            "Location: https://raw.githubusercontent.com/stoffesvensson/DeepLearning-ThesisWork-Convolutional/master/cnn-model/datasets/testDatasetWithNeuOne [following]\n",
            "--2020-11-25 15:08:09--  https://raw.githubusercontent.com/stoffesvensson/DeepLearning-ThesisWork-Convolutional/master/cnn-model/datasets/testDatasetWithNeuOne\n",
            "Resolving raw.githubusercontent.com (raw.githubusercontent.com)... 151.101.0.133, 151.101.64.133, 151.101.128.133, ...\n",
            "Connecting to raw.githubusercontent.com (raw.githubusercontent.com)|151.101.0.133|:443... connected.\n",
            "HTTP request sent, awaiting response... 200 OK\n",
            "Length: 451320 (441K) [text/plain]\n",
            "Saving to: ‘temp/val.csv’\n",
            "\n",
            "temp/val.csv        100%[===================>] 440.74K  --.-KB/s    in 0.03s   \n",
            "\n",
            "2020-11-25 15:08:10 (17.0 MB/s) - ‘temp/val.csv’ saved [451320/451320]\n",
            "\n"
          ],
          "name": "stdout"
        }
      ]
    },
    {
      "cell_type": "code",
      "metadata": {
        "colab": {
          "base_uri": "https://localhost:8080/"
        },
        "id": "I0ijMgkBI1xA",
        "outputId": "a5906050-83e6-42a0-d33f-26269fe156d8"
      },
      "source": [
        "!wget https://raw.githubusercontent.com/stoffesvensson/DeepLearning-ThesisWork-Convolutional/master/cnn-model/datasets/datasetWithoutNeutral -O temp/full_data.csv"
      ],
      "execution_count": 5,
      "outputs": [
        {
          "output_type": "stream",
          "text": [
            "--2020-11-25 15:08:10--  https://raw.githubusercontent.com/stoffesvensson/DeepLearning-ThesisWork-Convolutional/master/cnn-model/datasets/datasetWithoutNeutral\n",
            "Resolving raw.githubusercontent.com (raw.githubusercontent.com)... 151.101.0.133, 151.101.64.133, 151.101.128.133, ...\n",
            "Connecting to raw.githubusercontent.com (raw.githubusercontent.com)|151.101.0.133|:443... connected.\n",
            "HTTP request sent, awaiting response... 200 OK\n",
            "Length: 4305995 (4.1M) [text/plain]\n",
            "Saving to: ‘temp/full_data.csv’\n",
            "\n",
            "temp/full_data.csv  100%[===================>]   4.11M  --.-KB/s    in 0.1s    \n",
            "\n",
            "2020-11-25 15:08:11 (34.4 MB/s) - ‘temp/full_data.csv’ saved [4305995/4305995]\n",
            "\n"
          ],
          "name": "stdout"
        }
      ]
    },
    {
      "cell_type": "code",
      "metadata": {
        "colab": {
          "base_uri": "https://localhost:8080/",
          "height": 407
        },
        "id": "5clKUwoDq7zp",
        "outputId": "ecd18b6b-1196-43d1-cb04-acf8ba097974"
      },
      "source": [
        "#dataset kommer ifrån  https://spraakbanken.gu.se/resurser/sentimentlex\n",
        "df = pd.read_csv(\"/content/temp/full_data.csv\",error_bad_lines=False)\n",
        "df"
      ],
      "execution_count": 6,
      "outputs": [
        {
          "output_type": "execute_result",
          "data": {
            "text/html": [
              "<div>\n",
              "<style scoped>\n",
              "    .dataframe tbody tr th:only-of-type {\n",
              "        vertical-align: middle;\n",
              "    }\n",
              "\n",
              "    .dataframe tbody tr th {\n",
              "        vertical-align: top;\n",
              "    }\n",
              "\n",
              "    .dataframe thead th {\n",
              "        text-align: right;\n",
              "    }\n",
              "</style>\n",
              "<table border=\"1\" class=\"dataframe\">\n",
              "  <thead>\n",
              "    <tr style=\"text-align: right;\">\n",
              "      <th></th>\n",
              "      <th>index</th>\n",
              "      <th>text</th>\n",
              "      <th>rating</th>\n",
              "    </tr>\n",
              "  </thead>\n",
              "  <tbody>\n",
              "    <tr>\n",
              "      <th>0</th>\n",
              "      <td>1</td>\n",
              "      <td>kanonsnabb leverans</td>\n",
              "      <td>positive</td>\n",
              "    </tr>\n",
              "    <tr>\n",
              "      <th>1</th>\n",
              "      <td>2</td>\n",
              "      <td>appen funkar kanon! det enda som är lite skabb...</td>\n",
              "      <td>positive</td>\n",
              "    </tr>\n",
              "    <tr>\n",
              "      <th>2</th>\n",
              "      <td>3</td>\n",
              "      <td>i tid, trevliga och utförde ett bra jobb. jag ...</td>\n",
              "      <td>positive</td>\n",
              "    </tr>\n",
              "    <tr>\n",
              "      <th>3</th>\n",
              "      <td>4</td>\n",
              "      <td>jag har betalat extra för en express leverans....</td>\n",
              "      <td>negative</td>\n",
              "    </tr>\n",
              "    <tr>\n",
              "      <th>4</th>\n",
              "      <td>5</td>\n",
              "      <td>fungerade fint med bokning och service och mat...</td>\n",
              "      <td>positive</td>\n",
              "    </tr>\n",
              "    <tr>\n",
              "      <th>...</th>\n",
              "      <td>...</td>\n",
              "      <td>...</td>\n",
              "      <td>...</td>\n",
              "    </tr>\n",
              "    <tr>\n",
              "      <th>14291</th>\n",
              "      <td>14292</td>\n",
              "      <td>beställde en bilbarnstol till mitt barnbarn so...</td>\n",
              "      <td>negative</td>\n",
              "    </tr>\n",
              "    <tr>\n",
              "      <th>14292</th>\n",
              "      <td>14293</td>\n",
              "      <td>varning för lång leveranstid trots att varan f...</td>\n",
              "      <td>negative</td>\n",
              "    </tr>\n",
              "    <tr>\n",
              "      <th>14293</th>\n",
              "      <td>14294</td>\n",
              "      <td>fick inte alla skruvar med när jag beställde e...</td>\n",
              "      <td>negative</td>\n",
              "    </tr>\n",
              "    <tr>\n",
              "      <th>14294</th>\n",
              "      <td>14295</td>\n",
              "      <td>ett av få företag som svarar i telefon omedelb...</td>\n",
              "      <td>positive</td>\n",
              "    </tr>\n",
              "    <tr>\n",
              "      <th>14295</th>\n",
              "      <td>14296</td>\n",
              "      <td>behöver inte hålla på att springa till p-autom...</td>\n",
              "      <td>positive</td>\n",
              "    </tr>\n",
              "  </tbody>\n",
              "</table>\n",
              "<p>14296 rows × 3 columns</p>\n",
              "</div>"
            ],
            "text/plain": [
              "       index                                               text    rating\n",
              "0          1                               kanonsnabb leverans   positive\n",
              "1          2  appen funkar kanon! det enda som är lite skabb...  positive\n",
              "2          3  i tid, trevliga och utförde ett bra jobb. jag ...  positive\n",
              "3          4  jag har betalat extra för en express leverans....  negative\n",
              "4          5  fungerade fint med bokning och service och mat...  positive\n",
              "...      ...                                                ...       ...\n",
              "14291  14292  beställde en bilbarnstol till mitt barnbarn so...  negative\n",
              "14292  14293  varning för lång leveranstid trots att varan f...  negative\n",
              "14293  14294  fick inte alla skruvar med när jag beställde e...  negative\n",
              "14294  14295  ett av få företag som svarar i telefon omedelb...  positive\n",
              "14295  14296  behöver inte hålla på att springa till p-autom...  positive\n",
              "\n",
              "[14296 rows x 3 columns]"
            ]
          },
          "metadata": {
            "tags": []
          },
          "execution_count": 6
        }
      ]
    },
    {
      "cell_type": "code",
      "metadata": {
        "colab": {
          "base_uri": "https://localhost:8080/"
        },
        "id": "1mib3yZQrJJA",
        "outputId": "452f581a-f33a-484f-d237-b072e596dc03"
      },
      "source": [
        "\n",
        "#convert polarity into numbers or binary\n",
        "dataset__sentence_label = df[['text','rating']]\n",
        "dataset__sentence_label.replace({'neutral': np.NaN},inplace=True)\n",
        "dataset__sentence_label = dataset__sentence_label.dropna()\n",
        "print(dataset__sentence_label)\n",
        "sentence = dataset__sentence_label.text\n",
        "label = dataset__sentence_label.rating\n",
        "\n",
        "#sentence"
      ],
      "execution_count": 7,
      "outputs": [
        {
          "output_type": "stream",
          "text": [
            "                                                    text    rating\n",
            "0                                   kanonsnabb leverans   positive\n",
            "1      appen funkar kanon! det enda som är lite skabb...  positive\n",
            "2      i tid, trevliga och utförde ett bra jobb. jag ...  positive\n",
            "3      jag har betalat extra för en express leverans....  negative\n",
            "4      fungerade fint med bokning och service och mat...  positive\n",
            "...                                                  ...       ...\n",
            "14291  beställde en bilbarnstol till mitt barnbarn so...  negative\n",
            "14292  varning för lång leveranstid trots att varan f...  negative\n",
            "14293  fick inte alla skruvar med när jag beställde e...  negative\n",
            "14294  ett av få företag som svarar i telefon omedelb...  positive\n",
            "14295  behöver inte hålla på att springa till p-autom...  positive\n",
            "\n",
            "[14296 rows x 2 columns]\n"
          ],
          "name": "stdout"
        },
        {
          "output_type": "stream",
          "text": [
            "/usr/local/lib/python3.6/dist-packages/pandas/core/frame.py:4389: SettingWithCopyWarning: \n",
            "A value is trying to be set on a copy of a slice from a DataFrame\n",
            "\n",
            "See the caveats in the documentation: https://pandas.pydata.org/pandas-docs/stable/user_guide/indexing.html#returning-a-view-versus-a-copy\n",
            "  method=method,\n"
          ],
          "name": "stderr"
        }
      ]
    },
    {
      "cell_type": "code",
      "metadata": {
        "colab": {
          "base_uri": "https://localhost:8080/"
        },
        "id": "wMEENi0NgzZj",
        "outputId": "45c4b3b1-a043-48ac-ce07-62c698956dff"
      },
      "source": [
        "\n",
        "print(Counter(label))"
      ],
      "execution_count": 8,
      "outputs": [
        {
          "output_type": "stream",
          "text": [
            "Counter({'positive': 9667, 'negative': 4629})\n"
          ],
          "name": "stdout"
        }
      ]
    },
    {
      "cell_type": "code",
      "metadata": {
        "colab": {
          "base_uri": "https://localhost:8080/"
        },
        "id": "ApMhcLk7rKGD",
        "outputId": "e0a3c94b-afb8-41ad-c0ff-dfa13c9a4101"
      },
      "source": [
        "frames = [sentence,label]\n",
        "new_df = pd.concat(frames,axis=1)\n",
        "\n",
        "#data[\"income\"].replace({ ' <=50K': 0, ' >50K':1 }, inplace=True)\n",
        "new_df[\"rating\"].replace({'positive':1,'negative':0},inplace=True)\n",
        "print(new_df)\n",
        "new_df.info()\n",
        "print(\"================================\")\n",
        "print()\n",
        "print()\n",
        "print()\n",
        "\n",
        "print(Counter(new_df.rating))"
      ],
      "execution_count": 9,
      "outputs": [
        {
          "output_type": "stream",
          "text": [
            "                                                    text  rating\n",
            "0                                   kanonsnabb leverans        1\n",
            "1      appen funkar kanon! det enda som är lite skabb...       1\n",
            "2      i tid, trevliga och utförde ett bra jobb. jag ...       1\n",
            "3      jag har betalat extra för en express leverans....       0\n",
            "4      fungerade fint med bokning och service och mat...       1\n",
            "...                                                  ...     ...\n",
            "14291  beställde en bilbarnstol till mitt barnbarn so...       0\n",
            "14292  varning för lång leveranstid trots att varan f...       0\n",
            "14293  fick inte alla skruvar med när jag beställde e...       0\n",
            "14294  ett av få företag som svarar i telefon omedelb...       1\n",
            "14295  behöver inte hålla på att springa till p-autom...       1\n",
            "\n",
            "[14296 rows x 2 columns]\n",
            "<class 'pandas.core.frame.DataFrame'>\n",
            "Int64Index: 14296 entries, 0 to 14295\n",
            "Data columns (total 2 columns):\n",
            " #   Column  Non-Null Count  Dtype \n",
            "---  ------  --------------  ----- \n",
            " 0   text    14296 non-null  object\n",
            " 1   rating  14296 non-null  int64 \n",
            "dtypes: int64(1), object(1)\n",
            "memory usage: 335.1+ KB\n",
            "================================\n",
            "\n",
            "\n",
            "\n",
            "Counter({1: 9667, 0: 4629})\n"
          ],
          "name": "stdout"
        }
      ]
    },
    {
      "cell_type": "markdown",
      "metadata": {
        "id": "QSOFtco_7exm"
      },
      "source": [
        "Holdout set for testing classifier\n"
      ]
    },
    {
      "cell_type": "code",
      "metadata": {
        "id": "f5R5QEGniK9S"
      },
      "source": [
        "#negative=new_df[new_df['rating']==0]\n",
        "#positive=new_df[new_df['rating']==1]\n",
        "#positive = new_df.sample(4000)\n",
        "#new_df.drop(positive.index)\n",
        "#new_df=pd.concat([positive,negative])\n",
        "\n",
        "#print(Counter(new_df.rating))\n",
        "#final"
      ],
      "execution_count": 10,
      "outputs": []
    },
    {
      "cell_type": "code",
      "metadata": {
        "colab": {
          "base_uri": "https://localhost:8080/"
        },
        "id": "GdP5c77O7kt8",
        "outputId": "c7a78b0c-fafb-4471-8bc4-3fc2cbce5943"
      },
      "source": [
        "holdout_df = new_df.sample(1000)\n",
        "\n",
        "new_df = new_df.drop(holdout_df.index, axis =0)\n",
        "\n",
        "print(\"Holdout set \", Counter(holdout_df.rating))\n",
        "print(\"Training set \",Counter(new_df.rating))"
      ],
      "execution_count": 11,
      "outputs": [
        {
          "output_type": "stream",
          "text": [
            "Holdout set  Counter({1: 655, 0: 345})\n",
            "Training set  Counter({1: 9012, 0: 4284})\n"
          ],
          "name": "stdout"
        }
      ]
    },
    {
      "cell_type": "code",
      "metadata": {
        "colab": {
          "base_uri": "https://localhost:8080/"
        },
        "id": "z7sSsC7DrUz9",
        "outputId": "c3c28b46-1261-4ee8-a2af-3adf6088c23e"
      },
      "source": [
        "import torch\n",
        "\n",
        "if torch.cuda.is_available():       \n",
        "    device = torch.device(\"cuda\")\n",
        "    print(f'There are {torch.cuda.device_count()} GPU(s) available.')\n",
        "    print('Device name:', torch.cuda.get_device_name(0))\n",
        "\n",
        "else:\n",
        "    print('No GPU available, using the CPU instead.')\n",
        "    device = torch.device(\"cpu\")"
      ],
      "execution_count": 12,
      "outputs": [
        {
          "output_type": "stream",
          "text": [
            "There are 1 GPU(s) available.\n",
            "Device name: Tesla T4\n"
          ],
          "name": "stdout"
        }
      ]
    },
    {
      "cell_type": "code",
      "metadata": {
        "colab": {
          "base_uri": "https://localhost:8080/"
        },
        "id": "gj_CIsmAwSWW",
        "outputId": "2330586b-9430-4b91-9059-303daee8d3d1"
      },
      "source": [
        "!pip install transformers"
      ],
      "execution_count": 13,
      "outputs": [
        {
          "output_type": "stream",
          "text": [
            "Requirement already satisfied: transformers in /usr/local/lib/python3.6/dist-packages (3.5.1)\n",
            "Requirement already satisfied: packaging in /usr/local/lib/python3.6/dist-packages (from transformers) (20.4)\n",
            "Requirement already satisfied: dataclasses; python_version < \"3.7\" in /usr/local/lib/python3.6/dist-packages (from transformers) (0.8)\n",
            "Requirement already satisfied: regex!=2019.12.17 in /usr/local/lib/python3.6/dist-packages (from transformers) (2019.12.20)\n",
            "Requirement already satisfied: sentencepiece==0.1.91 in /usr/local/lib/python3.6/dist-packages (from transformers) (0.1.91)\n",
            "Requirement already satisfied: protobuf in /usr/local/lib/python3.6/dist-packages (from transformers) (3.12.4)\n",
            "Requirement already satisfied: sacremoses in /usr/local/lib/python3.6/dist-packages (from transformers) (0.0.43)\n",
            "Requirement already satisfied: numpy in /usr/local/lib/python3.6/dist-packages (from transformers) (1.18.5)\n",
            "Requirement already satisfied: filelock in /usr/local/lib/python3.6/dist-packages (from transformers) (3.0.12)\n",
            "Requirement already satisfied: tqdm>=4.27 in /usr/local/lib/python3.6/dist-packages (from transformers) (4.41.1)\n",
            "Requirement already satisfied: tokenizers==0.9.3 in /usr/local/lib/python3.6/dist-packages (from transformers) (0.9.3)\n",
            "Requirement already satisfied: requests in /usr/local/lib/python3.6/dist-packages (from transformers) (2.23.0)\n",
            "Requirement already satisfied: pyparsing>=2.0.2 in /usr/local/lib/python3.6/dist-packages (from packaging->transformers) (2.4.7)\n",
            "Requirement already satisfied: six in /usr/local/lib/python3.6/dist-packages (from packaging->transformers) (1.15.0)\n",
            "Requirement already satisfied: setuptools in /usr/local/lib/python3.6/dist-packages (from protobuf->transformers) (50.3.2)\n",
            "Requirement already satisfied: click in /usr/local/lib/python3.6/dist-packages (from sacremoses->transformers) (7.1.2)\n",
            "Requirement already satisfied: joblib in /usr/local/lib/python3.6/dist-packages (from sacremoses->transformers) (0.17.0)\n",
            "Requirement already satisfied: chardet<4,>=3.0.2 in /usr/local/lib/python3.6/dist-packages (from requests->transformers) (3.0.4)\n",
            "Requirement already satisfied: idna<3,>=2.5 in /usr/local/lib/python3.6/dist-packages (from requests->transformers) (2.10)\n",
            "Requirement already satisfied: certifi>=2017.4.17 in /usr/local/lib/python3.6/dist-packages (from requests->transformers) (2020.11.8)\n",
            "Requirement already satisfied: urllib3!=1.25.0,!=1.25.1,<1.26,>=1.21.1 in /usr/local/lib/python3.6/dist-packages (from requests->transformers) (1.24.3)\n"
          ],
          "name": "stdout"
        }
      ]
    },
    {
      "cell_type": "code",
      "metadata": {
        "id": "cZcZTvgYrej3"
      },
      "source": [
        "from transformers import AutoModel,AutoTokenizer,TFAutoModel\n",
        "tokenizer = AutoTokenizer.from_pretrained('KB/bert-base-swedish-cased')\n",
        "model = AutoModel.from_pretrained('KB/bert-base-swedish-cased')"
      ],
      "execution_count": 14,
      "outputs": []
    },
    {
      "cell_type": "code",
      "metadata": {
        "id": "pg4Mozx7wXIj"
      },
      "source": [
        "#from sklearn.model_selection import train_test_split\n",
        "#from torch.utils.data import TensorDataset,DataLoader, RandomSampler, SequentialSampler\n",
        "\n",
        "#df_train, df_test = train_test_split(new_df, test_size =0.1, random_state= 1234)\n",
        "##df_val,df_test = train_test_split(df_test,test_size=0.5,random_state=1234)\n",
        "\n",
        "#df_test.shape,df_val.shape"
      ],
      "execution_count": 15,
      "outputs": []
    },
    {
      "cell_type": "code",
      "metadata": {
        "colab": {
          "base_uri": "https://localhost:8080/"
        },
        "id": "Xh0JZs9R0QFT",
        "outputId": "34638d2e-e7b0-4203-d672-46ad7ed79656"
      },
      "source": [
        "from sklearn.model_selection import train_test_split\n",
        "\n",
        "X = new_df.text.values\n",
        "y = new_df.rating.values\n",
        "\n",
        "X_train, X_val, y_train, y_val = train_test_split(X, y, test_size=0.1, random_state=2020)\n",
        "#X_train, X_test,y_train,y_test = train_test_split(X, y, test_size=0.1, random_state=2020)\n",
        "#X_val,X_test\n",
        "print(\"Validation set examples \", X_val.shape ,\"  y_val \", y_val.shape)"
      ],
      "execution_count": 16,
      "outputs": [
        {
          "output_type": "stream",
          "text": [
            "Validation set examples  (1330,)   y_val  (1330,)\n"
          ],
          "name": "stdout"
        }
      ]
    },
    {
      "cell_type": "code",
      "metadata": {
        "id": "iy1yU3oixDd6"
      },
      "source": [
        "# Create a function to tokenize a set of texts\n",
        "def preprocessing_for_bert(data):\n",
        "    \"\"\"Perform required preprocessing steps for pretrained BERT.\n",
        "    @param    data (np.array): Array of texts to be processed.\n",
        "    @return   input_ids (torch.Tensor): Tensor of token ids to be fed to a model.\n",
        "    @return   attention_masks (torch.Tensor): Tensor of indices specifying which\n",
        "                  tokens should be attended to by the model.\n",
        "    \"\"\"\n",
        "    # Create empty lists to store outputs\n",
        "    input_ids = []\n",
        "    attention_masks = []\n",
        "\n",
        "    # For every sentence...\n",
        "    for sent in data:\n",
        "        # `encode_plus` will:\n",
        "        #    (1) Tokenize the sentence\n",
        "        #    (2) Add the `[CLS]` and `[SEP]` token to the start and end\n",
        "        #    (3) Truncate/Pad sentence to max length\n",
        "        #    (4) Map tokens to their IDs\n",
        "        #    (5) Create attention mask\n",
        "        #    (6) Return a dictionary of outputs\n",
        "        encoded_sent = tokenizer.encode_plus(\n",
        "            text=sent,  # Preprocess sentence\n",
        "            add_special_tokens=True,        # Add `[CLS]` and `[SEP]`\n",
        "            max_length=MAX_LEN,                  # Max length to truncate/pad\n",
        "            pad_to_max_length=True,         # Pad sentence to max length\n",
        "            #return_tensors='pt',           # Return PyTorch tensor\n",
        "            return_attention_mask=True      # Return attention mask\n",
        "            )\n",
        "        \n",
        "        # Add the outputs to the lists\n",
        "        input_ids.append(encoded_sent.get('input_ids'))\n",
        "        attention_masks.append(encoded_sent.get('attention_mask'))\n",
        "\n",
        "    # Convert lists to tensors\n",
        "    input_ids = torch.tensor(input_ids)\n",
        "    attention_masks = torch.tensor(attention_masks)\n",
        "\n",
        "    return input_ids, attention_masks\n"
      ],
      "execution_count": 17,
      "outputs": []
    },
    {
      "cell_type": "markdown",
      "metadata": {
        "id": "8VBnqeYAIJLK"
      },
      "source": [
        "Choosing MAX LENGTH\n"
      ]
    },
    {
      "cell_type": "code",
      "metadata": {
        "id": "9kjbOZYQIIbn",
        "colab": {
          "base_uri": "https://localhost:8080/",
          "height": 351
        },
        "outputId": "6d34d992-1fa0-484e-c680-9d9a2b5e39a8"
      },
      "source": [
        "token_lens = []\n",
        "for txt in df.text:\n",
        "  tokens = tokenizer.encode(txt, max_length=512)\n",
        "  token_lens.append(len(tokens))\n",
        "\n",
        "\n",
        "\n",
        "sns.distplot(token_lens)\n",
        "plt.xlim([0, 400]);\n",
        "plt.xlabel('Token count');"
      ],
      "execution_count": 18,
      "outputs": [
        {
          "output_type": "stream",
          "text": [
            "Truncation was not explicitly activated but `max_length` is provided a specific value, please use `truncation=True` to explicitly truncate examples to max length. Defaulting to 'longest_first' truncation strategy. If you encode pairs of sequences (GLUE-style) with the tokenizer you can select this strategy more precisely by providing a specific strategy to `truncation`.\n",
            "/usr/local/lib/python3.6/dist-packages/seaborn/distributions.py:2551: FutureWarning: `distplot` is a deprecated function and will be removed in a future version. Please adapt your code to use either `displot` (a figure-level function with similar flexibility) or `histplot` (an axes-level function for histograms).\n",
            "  warnings.warn(msg, FutureWarning)\n"
          ],
          "name": "stderr"
        },
        {
          "output_type": "display_data",
          "data": {
            "image/png": "[encoded data removed]",
            "text/plain": [
              "<Figure size 432x288 with 1 Axes>"
            ]
          },
          "metadata": {
            "tags": [],
            "needs_background": "light"
          }
        }
      ]
    },
    {
      "cell_type": "code",
      "metadata": {
        "colab": {
          "base_uri": "https://localhost:8080/"
        },
        "id": "qLiPyEIFxSwU",
        "outputId": "7530ea95-4886-4dcd-a69f-85ed6bd472a1"
      },
      "source": [
        "MAX_LEN = 256\n",
        "# Run function `preprocessing_for_bert` on the train set and the validation set\n",
        "\n",
        "print('Tokenizing data...')\n",
        "train_inputs, train_masks = preprocessing_for_bert(X_train)\n",
        "val_inputs, val_masks = preprocessing_for_bert(X_val)"
      ],
      "execution_count": 19,
      "outputs": [
        {
          "output_type": "stream",
          "text": [
            "Tokenizing data...\n"
          ],
          "name": "stdout"
        },
        {
          "output_type": "stream",
          "text": [
            "/usr/local/lib/python3.6/dist-packages/transformers/tokenization_utils_base.py:2022: FutureWarning: The `pad_to_max_length` argument is deprecated and will be removed in a future version, use `padding=True` or `padding='longest'` to pad to the longest sequence in the batch, or use `padding='max_length'` to pad to a max length. In this case, you can give a specific length with `max_length` (e.g. `max_length=45`) or leave max_length to None to pad to the maximal input size of the model (e.g. 512 for Bert).\n",
            "  FutureWarning,\n"
          ],
          "name": "stderr"
        }
      ]
    },
    {
      "cell_type": "code",
      "metadata": {
        "id": "OyD2nemU0NWp"
      },
      "source": [
        "from torch.utils.data import TensorDataset, DataLoader, RandomSampler, SequentialSampler\n",
        "\n",
        "# Convert other data types to torch.Tensor\n",
        "train_labels = torch.tensor(y_train)\n",
        "val_labels = torch.tensor(y_val)\n",
        "\n",
        "# For fine-tuning BERT, the authors recommend a batch size of 16 or 32.\n",
        "batch_size = 32\n",
        "\n",
        "# Create the DataLoader for our training set\n",
        "train_data = TensorDataset(train_inputs, train_masks, train_labels)\n",
        "\n",
        "train_sampler = RandomSampler(train_data)\n",
        "train_dataloader = DataLoader(train_data, sampler=train_sampler, batch_size=batch_size)\n",
        "\n",
        "# Create the DataLoader for our validation set\n",
        "val_data = TensorDataset(val_inputs, val_masks, val_labels)\n",
        "val_sampler = SequentialSampler(val_data)\n",
        "val_dataloader = DataLoader(val_data, sampler=val_sampler, batch_size=batch_size)"
      ],
      "execution_count": 20,
      "outputs": []
    },
    {
      "cell_type": "code",
      "metadata": {
        "id": "4pWNp6Eb0soU"
      },
      "source": [
        "\n",
        "\n",
        "#=======TAKE AWAY THIS CLASSIFER =======================\n",
        "#=======TAKE AWAY THIS CLASSIFER =======================\n",
        "#=======TAKE AWAY THIS CLASSIFER =======================\n",
        "#=======TAKE AWAY THIS CLASSIFER =======================\n",
        "#=======TAKE AWAY THIS CLASSIFER =======================\n",
        "#=======TAKE AWAY THIS CLASSIFER =======================\n",
        "#=======TAKE AWAY THIS CLASSIFER =======================\n",
        "# Create the BertClassfier class\n",
        "class BertClassifier(nn.Module):\n",
        "    \"\"\"Bert Model for Classification Tasks.\n",
        "    \"\"\"\n",
        "    def __init__(self, freeze_bert=False):\n",
        "        \"\"\"\n",
        "        @param    bert: a BertModel object\n",
        "        @param    classifier: a torch.nn.Module classifier\n",
        "        @param    freeze_bert (bool): Set `False` to fine-tune the BERT model\n",
        "        \"\"\"\n",
        "        super(BertClassifier, self).__init__()\n",
        "        # Specify hidden size of BERT, hidden size of our classifier, and number of labels\n",
        "        D_in, H, D_out = 768, 50, 2\n",
        "\n",
        "        # Instantiate BERT model\n",
        "        self.bert = BertModel.from_pretrained('KB/bert-base-swedish-cased')\n",
        "\n",
        "        # Instantiate an one-layer feed-forward classifier\n",
        "        self.classifier = nn.Sequential(\n",
        "            nn.Linear(D_in, H),\n",
        "            nn.ReLU(),\n",
        "            #nn.Dropout(0.5),\n",
        "            nn.Linear(H, D_out)\n",
        "        )\n",
        "\n",
        "        # Freeze the BERT model\n",
        "        if freeze_bert:\n",
        "            for param in self.bert.parameters():\n",
        "                param.requires_grad = False\n",
        "        \n",
        "    def forward(self, input_ids, attention_mask):\n",
        "        \"\"\"\n",
        "        \n",
        "        Feed input to BERT and the classifier to compute logits.\n",
        "        @param    input_ids (torch.Tensor): an input tensor with shape (batch_size,\n",
        "                      max_length)\n",
        "        @param    attention_mask (torch.Tensor): a tensor that hold attention mask\n",
        "                      information with shape (batch_size, max_length)\n",
        "        @return   logits (torch.Tensor): an output tensor with shape (batch_size,\n",
        "                      num_labels)\n",
        "\n",
        "        \"\"\"\n",
        "        # Feed input to BERT\n",
        "        outputs = self.bert(input_ids=input_ids,\n",
        "                            attention_mask=attention_mask)\n",
        "        \n",
        "        # Extract the last hidden state of the token `[CLS]` for classification task\n",
        "        last_hidden_state_cls = outputs[0][:, 0, :]\n",
        "\n",
        "        # Feed input to classifier to compute logits\n",
        "        logits = self.classifier(last_hidden_state_cls)\n",
        "\n",
        "        return logits\n"
      ],
      "execution_count": 21,
      "outputs": []
    },
    {
      "cell_type": "code",
      "metadata": {
        "id": "bE5PQvgrnyxu"
      },
      "source": [
        "class_names = ['negative', 'positive']"
      ],
      "execution_count": 22,
      "outputs": []
    },
    {
      "cell_type": "code",
      "metadata": {
        "id": "roIs-d2yo0Cj"
      },
      "source": [
        "#@misc{ \n",
        " #   swedish-bert,\n",
        " #   title={Playing with Words at the National Library of Sweden -- Making a Swedish BERT},\n",
        " #   author={Martin Malmsten and Love Börjeson and Chris Haffenden},\n",
        " #   year={2020},\n",
        " #   eprint={2007.01658},\n",
        " #   archivePrefix={arXiv},\n",
        " #   primaryClass={cs.CL}\n",
        "#}"
      ],
      "execution_count": 23,
      "outputs": []
    },
    {
      "cell_type": "code",
      "metadata": {
        "id": "8w-gZv7Bmnnm"
      },
      "source": [
        "class SentimentClassifier(nn.Module):\n",
        "\n",
        "  def __init__(self, n_classes):\n",
        "    super(SentimentClassifier, self).__init__()\n",
        "    self.bert = BertModel.from_pretrained('KB/bert-base-swedish-cased')\n",
        "    self.drop = nn.Dropout(p=0.3)\n",
        "    self.out = nn.Linear(self.bert.config.hidden_size, n_classes)\n",
        "  \n",
        "  def forward(self, input_ids, attention_mask):\n",
        "    _, pooled_output = self.bert(\n",
        "      input_ids=input_ids,\n",
        "      attention_mask=attention_mask\n",
        "    )\n",
        "    output = self.drop(pooled_output)\n",
        "    return self.out(output)"
      ],
      "execution_count": 24,
      "outputs": []
    },
    {
      "cell_type": "code",
      "metadata": {
        "id": "2V-Fz9Nq02AD"
      },
      "source": [
        "from transformers import AdamW, get_linear_schedule_with_warmup\n",
        "\n",
        "def initialize_model(epochs=4):\n",
        "    \"\"\"Initialize the Bert Classifier, the optimizer and the learning rate scheduler.\n",
        "    \"\"\"\n",
        "    # Instantiate Bert Classifier\n",
        "    #bert_classifier = BertClassifier(freeze_bert=False)\n",
        "    bert_classifier = SentimentClassifier(len(class_names))\n",
        "   # bert_classifier= BertForSequenceClassification.from_pretrained('KB/bert-base-swedish-cased', return_dict=True)\n",
        "\n",
        "    # Tell PyTorch to run the model on GPU\n",
        "    bert_classifier.to(device)\n",
        "\n",
        "    # Create the optimizer\n",
        "    optimizer = AdamW(bert_classifier.parameters(),\n",
        "                      lr=5e-5,    # Default learning rate\n",
        "                      eps=1e-8    # Default epsilon value\n",
        "                      )\n",
        "\n",
        "    # Total number of training steps\n",
        "    total_steps = len(train_dataloader) * epochs\n",
        "\n",
        "    # Set up the learning rate scheduler\n",
        "    scheduler = get_linear_schedule_with_warmup(optimizer,\n",
        "                                                num_warmup_steps=0, # Default value\n",
        "                                                num_training_steps=total_steps)\n",
        "    return bert_classifier, optimizer, scheduler\n"
      ],
      "execution_count": 25,
      "outputs": []
    },
    {
      "cell_type": "code",
      "metadata": {
        "id": "oZ4KxAo-05zy"
      },
      "source": [
        "import random\n",
        "import time\n",
        "\n",
        "# Specify loss function\n",
        "loss_fn = nn.CrossEntropyLoss()\n",
        "\n",
        "def set_seed(seed_value=42):\n",
        "    \"\"\"Set seed for reproducibility.\n",
        "    \"\"\"\n",
        "    random.seed(seed_value)\n",
        "    np.random.seed(seed_value)\n",
        "    torch.manual_seed(seed_value)\n",
        "    torch.cuda.manual_seed_all(seed_value)\n",
        "\n",
        "def train(model, train_dataloader, val_dataloader=None, epochs=4, evaluation=False):\n",
        "    \"\"\"Train the BertClassifier model.\n",
        "    \"\"\"\n",
        "    # Start training loop\n",
        "    print(\"Start training...\\n\")\n",
        "    for epoch_i in range(epochs):\n",
        "        # =======================================\n",
        "        #               Training\n",
        "        # =======================================\n",
        "        # Print the header of the result table\n",
        "        print(f\"{'Epoch':^7} | {'Batch':^7} | {'Train Loss':^12} | {'Val Loss':^10} | {'Val Acc':^9} | {'Elapsed':^9}\")\n",
        "        print(\"-\"*70)\n",
        "\n",
        "        # Measure the elapsed time of each epoch\n",
        "        t0_epoch, t0_batch = time.time(), time.time()\n",
        "\n",
        "        # Reset tracking variables at the beginning of each epoch\n",
        "        total_loss, batch_loss, batch_counts = 0, 0, 0\n",
        "\n",
        "        # Put the model into the training mode [ITS JUST A FLAG]\n",
        "        model.train()\n",
        "\n",
        "        # For each batch of training data...\n",
        "        for step, batch in enumerate(train_dataloader):\n",
        "            batch_counts +=1\n",
        "            # Load batch to GPU\n",
        "            b_input_ids, b_attn_mask, b_labels = tuple(t.to(device) for t in batch) #We take every tokenized sentence and put it to the gpu\n",
        "\n",
        "            # Zero out any previously calculated gradients\n",
        "            model.zero_grad() #Refresh the gradients before performing a backward pass\n",
        "\n",
        "            # Perform a forward pass. This will return logits.\n",
        "            logits = model(b_input_ids, b_attn_mask) #put b_labels \n",
        "\n",
        "            # Compute loss and accumulate the loss values\n",
        "            loss = loss_fn(logits, b_labels)\n",
        "            batch_loss += loss.item()\n",
        "            total_loss += loss.item()\n",
        "\n",
        "            # Perform a backward pass to calculate gradients\n",
        "            loss.backward()\n",
        "\n",
        "            # Clip the norm of the gradients to 1.0 to prevent \"exploding gradients\"\n",
        "            torch.nn.utils.clip_grad_norm_(model.parameters(), 1.0)\n",
        "\n",
        "            # Update parameters and the learning rate\n",
        "            optimizer.step()\n",
        "            scheduler.step()\n",
        "            optimizer.zero_grad()\n",
        "\n",
        "            # Print the loss values and time elapsed for every 20 batches\n",
        "            if (step % 20 == 0 and step != 0) or (step == len(train_dataloader) - 1):\n",
        "                # Calculate time elapsed for 20 batches\n",
        "                time_elapsed = time.time() - t0_batch\n",
        "\n",
        "                # Print training results\n",
        "                print(f\"{epoch_i + 1:^7} | {step:^7} | {batch_loss / batch_counts:^12.6f} | {'-':^10} | {'-':^9} | {time_elapsed:^9.2f}\")\n",
        "\n",
        "                # Reset batch tracking variables\n",
        "                batch_loss, batch_counts = 0, 0\n",
        "                t0_batch = time.time()\n",
        "\n",
        "        # Calculate the average loss over the entire training data\n",
        "        avg_train_loss = total_loss / len(train_dataloader)\n",
        "\n",
        "        print(\"-\"*70)\n",
        "        # =======================================\n",
        "        #               Evaluation\n",
        "        # =======================================\n",
        "        if evaluation == True:\n",
        "            # After the completion of each training epoch, measure the model's performance\n",
        "            # on our validation set.\n",
        "            val_loss, val_accuracy = evaluate(model, val_dataloader)\n",
        "\n",
        "            # Print performance over the entire training data\n",
        "            time_elapsed = time.time() - t0_epoch\n",
        "            \n",
        "            print(f\"{epoch_i + 1:^7} | {'-':^7} | {avg_train_loss:^12.6f} | {val_loss:^10.6f} | {val_accuracy:^9.2f} | {time_elapsed:^9.2f}\")\n",
        "            print(\"-\"*70)\n",
        "        print(\"\\n\")\n",
        "    \n",
        "    print(\"Training complete!\")\n",
        "\n",
        "\n",
        "def evaluate(model, val_dataloader):\n",
        "    \"\"\"After the completion of each training epoch, measure the model's performance\n",
        "    on our validation set.\n",
        "    \"\"\"\n",
        "    # Put the model into the evaluation mode. The dropout layers are disabled during\n",
        "    # the test time.\n",
        "    model.eval()\n",
        "\n",
        "    # Tracking variables\n",
        "    val_accuracy = []\n",
        "    val_loss = []\n",
        "\n",
        "    # For each batch in our validation set...\n",
        "    for batch in val_dataloader:\n",
        "        # Load batch to GPU\n",
        "        b_input_ids, b_attn_mask, b_labels = tuple(t.to(device) for t in batch)\n",
        "\n",
        "        # Compute logits\n",
        "        with torch.no_grad():\n",
        "            logits = model(b_input_ids, b_attn_mask)\n",
        "\n",
        "        # Compute loss\n",
        "        loss = loss_fn(logits, b_labels)\n",
        "        val_loss.append(loss.item())\n",
        "\n",
        "        # Get the predictions\n",
        "        preds = torch.argmax(logits, dim=1).flatten()\n",
        "\n",
        "        # Calculate the accuracy rate\n",
        "        accuracy = (preds == b_labels).cpu().numpy().mean() * 100\n",
        "        val_accuracy.append(accuracy)\n",
        "\n",
        "    # Compute the average accuracy and loss over the validation set.\n",
        "    val_loss = np.mean(val_loss)\n",
        "    val_accuracy = np.mean(val_accuracy)\n",
        "\n",
        "    return val_loss, val_accuracy\n"
      ],
      "execution_count": 26,
      "outputs": []
    },
    {
      "cell_type": "code",
      "metadata": {
        "id": "t3GH2B5Y1B37",
        "colab": {
          "base_uri": "https://localhost:8080/"
        },
        "outputId": "c58dcd35-86d5-4c68-a8a4-90bb59fc1e99"
      },
      "source": [
        "set_seed(42)    # Set seed for reproducibility\n",
        "bert_classifier, optimizer, scheduler = initialize_model(epochs=4)\n",
        "train(bert_classifier, train_dataloader, val_dataloader, epochs=4, evaluation=True)\n"
      ],
      "execution_count": 27,
      "outputs": [
        {
          "output_type": "stream",
          "text": [
            "Start training...\n",
            "\n",
            " Epoch  |  Batch  |  Train Loss  |  Val Loss  |  Val Acc  |  Elapsed \n",
            "----------------------------------------------------------------------\n",
            "   1    |   20    |   0.277460   |     -      |     -     |   30.68  \n",
            "   1    |   40    |   0.151252   |     -      |     -     |   29.71  \n",
            "   1    |   60    |   0.221693   |     -      |     -     |   28.94  \n",
            "   1    |   80    |   0.116400   |     -      |     -     |   29.45  \n",
            "   1    |   100   |   0.159009   |     -      |     -     |   29.40  \n",
            "   1    |   120   |   0.138970   |     -      |     -     |   29.22  \n",
            "   1    |   140   |   0.115518   |     -      |     -     |   29.27  \n",
            "   1    |   160   |   0.146767   |     -      |     -     |   29.27  \n",
            "   1    |   180   |   0.133765   |     -      |     -     |   29.29  \n",
            "   1    |   200   |   0.119411   |     -      |     -     |   29.29  \n",
            "   1    |   220   |   0.129444   |     -      |     -     |   29.29  \n",
            "   1    |   240   |   0.148647   |     -      |     -     |   29.25  \n",
            "   1    |   260   |   0.130461   |     -      |     -     |   29.21  \n",
            "   1    |   280   |   0.157465   |     -      |     -     |   29.18  \n",
            "   1    |   300   |   0.166303   |     -      |     -     |   29.18  \n",
            "   1    |   320   |   0.122416   |     -      |     -     |   29.18  \n",
            "   1    |   340   |   0.130339   |     -      |     -     |   29.15  \n",
            "   1    |   360   |   0.108320   |     -      |     -     |   29.21  \n",
            "   1    |   373   |   0.112931   |     -      |     -     |   18.90  \n",
            "----------------------------------------------------------------------\n",
            "   1    |    -    |   0.147643   |  0.099197  |   96.88   |  569.34  \n",
            "----------------------------------------------------------------------\n",
            "\n",
            "\n",
            " Epoch  |  Batch  |  Train Loss  |  Val Loss  |  Val Acc  |  Elapsed \n",
            "----------------------------------------------------------------------\n",
            "   2    |   20    |   0.059415   |     -      |     -     |   30.61  \n",
            "   2    |   40    |   0.076359   |     -      |     -     |   29.17  \n",
            "   2    |   60    |   0.057255   |     -      |     -     |   29.14  \n",
            "   2    |   80    |   0.067767   |     -      |     -     |   29.18  \n",
            "   2    |   100   |   0.078555   |     -      |     -     |   29.18  \n",
            "   2    |   120   |   0.082869   |     -      |     -     |   29.15  \n",
            "   2    |   140   |   0.077015   |     -      |     -     |   29.17  \n",
            "   2    |   160   |   0.083008   |     -      |     -     |   29.12  \n",
            "   2    |   180   |   0.072143   |     -      |     -     |   29.19  \n",
            "   2    |   200   |   0.051746   |     -      |     -     |   29.26  \n",
            "   2    |   220   |   0.060173   |     -      |     -     |   29.21  \n",
            "   2    |   240   |   0.070839   |     -      |     -     |   29.24  \n",
            "   2    |   260   |   0.032595   |     -      |     -     |   29.21  \n",
            "   2    |   280   |   0.056938   |     -      |     -     |   29.18  \n",
            "   2    |   300   |   0.055168   |     -      |     -     |   29.12  \n",
            "   2    |   320   |   0.039151   |     -      |     -     |   29.05  \n",
            "   2    |   340   |   0.060122   |     -      |     -     |   29.13  \n",
            "   2    |   360   |   0.052891   |     -      |     -     |   29.16  \n",
            "   2    |   373   |   0.067492   |     -      |     -     |   18.92  \n",
            "----------------------------------------------------------------------\n",
            "   2    |    -    |   0.063147   |  0.108684  |   96.73   |  567.78  \n",
            "----------------------------------------------------------------------\n",
            "\n",
            "\n",
            " Epoch  |  Batch  |  Train Loss  |  Val Loss  |  Val Acc  |  Elapsed \n",
            "----------------------------------------------------------------------\n",
            "   3    |   20    |   0.039586   |     -      |     -     |   30.68  \n",
            "   3    |   40    |   0.022574   |     -      |     -     |   29.17  \n",
            "   3    |   60    |   0.016405   |     -      |     -     |   29.11  \n",
            "   3    |   80    |   0.024740   |     -      |     -     |   29.11  \n",
            "   3    |   100   |   0.036494   |     -      |     -     |   29.09  \n",
            "   3    |   120   |   0.023994   |     -      |     -     |   29.09  \n",
            "   3    |   140   |   0.025557   |     -      |     -     |   29.10  \n",
            "   3    |   160   |   0.002340   |     -      |     -     |   29.04  \n",
            "   3    |   180   |   0.041437   |     -      |     -     |   29.13  \n",
            "   3    |   200   |   0.029945   |     -      |     -     |   29.20  \n",
            "   3    |   220   |   0.041425   |     -      |     -     |   29.21  \n",
            "   3    |   240   |   0.039304   |     -      |     -     |   29.20  \n",
            "   3    |   260   |   0.012571   |     -      |     -     |   29.14  \n",
            "   3    |   280   |   0.025201   |     -      |     -     |   29.17  \n",
            "   3    |   300   |   0.022603   |     -      |     -     |   29.13  \n",
            "   3    |   320   |   0.010725   |     -      |     -     |   29.19  \n",
            "   3    |   340   |   0.025752   |     -      |     -     |   29.21  \n",
            "   3    |   360   |   0.007318   |     -      |     -     |   29.15  \n",
            "   3    |   373   |   0.004749   |     -      |     -     |   18.85  \n",
            "----------------------------------------------------------------------\n",
            "   3    |    -    |   0.024226   |  0.152949  |   97.34   |  567.20  \n",
            "----------------------------------------------------------------------\n",
            "\n",
            "\n",
            " Epoch  |  Batch  |  Train Loss  |  Val Loss  |  Val Acc  |  Elapsed \n",
            "----------------------------------------------------------------------\n",
            "   4    |   20    |   0.015246   |     -      |     -     |   30.53  \n",
            "   4    |   40    |   0.002161   |     -      |     -     |   29.08  \n",
            "   4    |   60    |   0.026600   |     -      |     -     |   29.14  \n",
            "   4    |   80    |   0.011056   |     -      |     -     |   29.20  \n",
            "   4    |   100   |   0.006134   |     -      |     -     |   29.23  \n",
            "   4    |   120   |   0.008742   |     -      |     -     |   29.20  \n",
            "   4    |   140   |   0.003671   |     -      |     -     |   29.18  \n",
            "   4    |   160   |   0.025163   |     -      |     -     |   29.18  \n",
            "   4    |   180   |   0.010225   |     -      |     -     |   29.14  \n",
            "   4    |   200   |   0.003573   |     -      |     -     |   29.18  \n",
            "   4    |   220   |   0.007743   |     -      |     -     |   29.18  \n",
            "   4    |   240   |   0.000400   |     -      |     -     |   29.13  \n",
            "   4    |   260   |   0.006032   |     -      |     -     |   29.11  \n",
            "   4    |   280   |   0.037543   |     -      |     -     |   29.08  \n",
            "   4    |   300   |   0.000466   |     -      |     -     |   29.08  \n",
            "   4    |   320   |   0.003517   |     -      |     -     |   29.13  \n",
            "   4    |   340   |   0.008993   |     -      |     -     |   29.18  \n",
            "   4    |   360   |   0.030616   |     -      |     -     |   29.21  \n",
            "   4    |   373   |   0.005094   |     -      |     -     |   18.84  \n",
            "----------------------------------------------------------------------\n",
            "   4    |    -    |   0.011334   |  0.162537  |   97.19   |  567.29  \n",
            "----------------------------------------------------------------------\n",
            "\n",
            "\n",
            "Training complete!\n"
          ],
          "name": "stdout"
        }
      ]
    },
    {
      "cell_type": "code",
      "metadata": {
        "id": "OBuMUHFG775N"
      },
      "source": [
        "import torch.nn.functional as F\n",
        "\n",
        "def bert_predict(model, test_dataloader):\n",
        "    \"\"\"Perform a forward pass on the trained BERT model to predict probabilities\n",
        "    on the test set.\n",
        "    \"\"\"\n",
        "    # Put the model into the evaluation mode. The dropout layers are disabled during\n",
        "    # the test time.\n",
        "    model.eval()\n",
        "\n",
        "    all_logits = []\n",
        "\n",
        "    # For each batch in our test set...\n",
        "    for batch in test_dataloader:\n",
        "        # Load batch to GPU\n",
        "        b_input_ids, b_attn_mask = tuple(t.to(device) for t in batch)[:2]\n",
        "\n",
        "        # Compute logits\n",
        "        with torch.no_grad():\n",
        "            logits = model(b_input_ids, b_attn_mask)\n",
        "        all_logits.append(logits)\n",
        "    \n",
        "    # Concatenate logits from each batch\n",
        "    all_logits = torch.cat(all_logits, dim=0)\n",
        "\n",
        "    # Apply softmax to calculate probabilities\n",
        "    probs = F.softmax(all_logits, dim=1).cpu().numpy()\n",
        "\n",
        "    return probs\n"
      ],
      "execution_count": 28,
      "outputs": []
    },
    {
      "cell_type": "code",
      "metadata": {
        "id": "ta7zT67n8xh2"
      },
      "source": [
        "from sklearn.metrics import accuracy_score, roc_curve, auc\n",
        "\n",
        "def evaluate_roc(probs, y_true):\n",
        "    \"\"\"\n",
        "    - Print AUC and accuracy on the test set\n",
        "    - Plot ROC\n",
        "    @params    probs (np.array): an array of predicted probabilities with shape (len(y_true), 2)\n",
        "    @params    y_true (np.array): an array of the true values with shape (len(y_true),)\n",
        "    \"\"\"\n",
        "    preds = probs[:, 1]\n",
        "    fpr, tpr, threshold = roc_curve(y_true, preds)\n",
        "    roc_auc = auc(fpr, tpr)\n",
        "    print(f'AUC: {roc_auc:.4f}')\n",
        "       \n",
        "    # Get accuracy over the test set\n",
        "    y_pred = np.where(preds >= 0.5, 1, 0)\n",
        "    accuracy = accuracy_score(y_true, y_pred)\n",
        "    print(f'Accuracy: {accuracy*100:.2f}%')\n",
        "    \n",
        "    # Plot ROC AUC\n",
        "    plt.title('Receiver Operating Characteristic')\n",
        "    plt.plot(fpr, tpr, 'b', label = 'AUC = %0.2f' % roc_auc)\n",
        "    plt.legend(loc = 'lower right')\n",
        "    plt.plot([0, 1], [0, 1],'r--')\n",
        "    plt.xlim([0, 1])\n",
        "    plt.ylim([0, 1])\n",
        "    plt.ylabel('True Positive Rate')\n",
        "    plt.xlabel('False Positive Rate')\n",
        "    plt.show()"
      ],
      "execution_count": 29,
      "outputs": []
    },
    {
      "cell_type": "markdown",
      "metadata": {
        "id": "m_3kWjoN76-R"
      },
      "source": [
        "1.   Prepare holdoustset with dataloaders\n",
        "2.   Predict\n",
        "\n"
      ]
    },
    {
      "cell_type": "code",
      "metadata": {
        "colab": {
          "base_uri": "https://localhost:8080/"
        },
        "id": "J1Y7V6RR8Wul",
        "outputId": "532fa980-8f8d-42a4-b51b-28e26ef510be"
      },
      "source": [
        "#holdout_df\n",
        "\n",
        "holdout_sentences = holdout_df.text\n",
        "holdout_label = holdout_df.rating\n",
        "\n",
        "\n",
        "test_inputs,test_masks = preprocessing_for_bert(holdout_sentences) \n",
        "\n",
        "#coverting to torch\n",
        "test_labels = torch.tensor(holdout_df.rating.array)\n",
        "#print(holdout_df.rating.array)\n",
        "print(test_inputs.shape)\n",
        "\n",
        "#create test Dataloader\n",
        "test_data = TensorDataset(test_inputs,test_masks,test_labels)\n",
        "test_sampler = RandomSampler(test_data)\n",
        "test_dataloader = DataLoader(test_data,sampler=test_sampler,batch_size=batch_size)\n",
        "\n",
        "\n",
        "\n"
      ],
      "execution_count": 30,
      "outputs": [
        {
          "output_type": "stream",
          "text": [
            "/usr/local/lib/python3.6/dist-packages/transformers/tokenization_utils_base.py:2022: FutureWarning: The `pad_to_max_length` argument is deprecated and will be removed in a future version, use `padding=True` or `padding='longest'` to pad to the longest sequence in the batch, or use `padding='max_length'` to pad to a max length. In this case, you can give a specific length with `max_length` (e.g. `max_length=45`) or leave max_length to None to pad to the maximal input size of the model (e.g. 512 for Bert).\n",
            "  FutureWarning,\n"
          ],
          "name": "stderr"
        },
        {
          "output_type": "stream",
          "text": [
            "torch.Size([1000, 256])\n"
          ],
          "name": "stdout"
        }
      ]
    },
    {
      "cell_type": "code",
      "metadata": {
        "id": "KJ_iO7sgRbIO"
      },
      "source": [
        "from sklearn.metrics import f1_score\n",
        "\n",
        "from sklearn.metrics import precision_score\n",
        "from sklearn.metrics import recall_score"
      ],
      "execution_count": 31,
      "outputs": []
    },
    {
      "cell_type": "code",
      "metadata": {
        "id": "WYI4RqDPRdak"
      },
      "source": [
        "def f1_score_func(preds, labels):\n",
        "    preds_flat = np.argmax(preds, axis=1)\n",
        "    labels_flat = labels\n",
        "    #print( )\n",
        "    return f1_score(labels_flat, preds_flat, average='weighted')"
      ],
      "execution_count": 32,
      "outputs": []
    },
    {
      "cell_type": "code",
      "metadata": {
        "colab": {
          "base_uri": "https://localhost:8080/",
          "height": 381
        },
        "id": "b7x5opHd7-gN",
        "outputId": "ee8d9175-b42e-45cd-f275-4a38fcabf682"
      },
      "source": [
        "# Compute predicted probabilities on the test set\n",
        "probs = bert_predict(bert_classifier, test_dataloader)\n",
        "\n",
        "# Evaluate the Bert classifier\n",
        "evaluate_roc(probs, holdout_label)\n",
        "\n",
        "print(\"F1 score: \", f1_score_func(probs,holdout_label))\n",
        "probs = np.argmax(probs, axis=1)\n",
        "print(\"Precision Score: \", precision_score( holdout_label, probs ))\n",
        "print(\"Recall Score: \", recall_score( holdout_label, probs ))"
      ],
      "execution_count": 33,
      "outputs": [
        {
          "output_type": "stream",
          "text": [
            "AUC: 0.4954\n",
            "Accuracy: 53.90%\n"
          ],
          "name": "stdout"
        },
        {
          "output_type": "display_data",
          "data": {
            "image/png": "[encoded data removed]",
            "text/plain": [
              "<Figure size 432x288 with 1 Axes>"
            ]
          },
          "metadata": {
            "tags": [],
            "needs_background": "light"
          }
        },
        {
          "output_type": "stream",
          "text": [
            "F1 score:  0.5397751316188428\n",
            "Precision Score:  0.6492307692307693\n",
            "Recall Score:  0.6442748091603053\n"
          ],
          "name": "stdout"
        }
      ]
    },
    {
      "cell_type": "code",
      "metadata": {
        "id": "LwvsBvj5LnS_"
      },
      "source": [
        "\n"
      ],
      "execution_count": 33,
      "outputs": []
    }
  ]
}